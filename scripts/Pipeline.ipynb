{
 "cells": [
  {
   "cell_type": "markdown",
   "id": "fffbd421-facb-4399-a763-e14a0bfd637e",
   "metadata": {},
   "source": [
    "    1. будем тестировать на последнем месяце с дообучением. т.е обучаем на :t-30 делаем прогноз на t-30, после на :t-29 прогноз на t-29,... и считаем так mae! -->\n",
    "    2. детектируем аномалии ряда и разладку. модель будет выдавать прогноз и индикатор разладки, \n",
    "    3. таким образом mae считаем только на данных без аномалии и делаем refit с theta разладки, если изменилась ts\n",
    "    4. фитим параметры sarimax на данных без аномалий и с периода разладки (default=0)\n",
    "    5. с помощью tsfresh генерим фичи\n",
    "    6. далее комб алгоритмом фильтруме фичи и делаем тест на стабильность (используем только sarimax) [важность фичей определяем по val1, как базы для бустинга!]\n",
    "    7. при этом трейн давайте разобьем на трейн и валидацию для генерирования метафичей. т. е. на трейне подобрали гиперпараметры sarimax, garch: p, d, q, etc. \n",
    "    8. далее их зафиксировали, на валидации сделали прогноз таргета на первый день, дообучили с фикс p,d,q, ... сделали след прогноз. далее на тесте тоже самое напредиктили\n",
    "    9. получили на val balance_predicted (sarimax)\n",
    "    10. теперь бустингом попробуем сделать поправку к прогнозам\n",
    "    11. разобьем валидацию на две части val_boost_train, val_boost_test. подберем гиперпараметры на коэффы\n",
    "    12. с фикс гиперпараметрами сделаем рефит бустинга на val и уже рефитнутым бустингом с sarimax + garch прогнозим тест\n",
    "    13. при этом на тесте mae не считаем по аномалиям"
   ]
  },
  {
   "cell_type": "markdown",
   "id": "1925fd9c-ac29-4149-8f6b-a24fffc66f42",
   "metadata": {
    "tags": []
   },
   "source": [
    "# Import "
   ]
  },
  {
   "cell_type": "code",
   "execution_count": 154,
   "id": "1180ffa6-56f1-4e93-b8b4-042281d30703",
   "metadata": {
    "tags": []
   },
   "outputs": [],
   "source": [
    "import pandas as pd\n",
    "import sys\n",
    "import matplotlib\n",
    "import matplotlib.pyplot as plt\n",
    "import plotly.express as px\n",
    "import numpy as np\n",
    "import json\n",
    "import scipy\n",
    "import statsmodels.api as sm\n",
    "from joblib import Parallel, delayed\n",
    "import os\n",
    "import optuna\n",
    "from os.path import join\n",
    "import pickle\n",
    "import utils\n",
    "from tsfresh import extract_features, select_features\n",
    "from tsfresh.utilities.dataframe_functions import roll_time_series, make_forecasting_frame\n",
    "from tsfresh.utilities.dataframe_functions import impute\n",
    "import requests\n",
    "from itertools import product\n",
    "plt.rcParams.update({'figure.figsize': (10, 5), 'figure.dpi': 100})\n",
    "import warnings\n",
    "warnings.filterwarnings(\"ignore\")\n",
    "from statsmodels.tsa.seasonal import seasonal_decompose\n",
    "from dateutil.parser import parse\n",
    "from tqdm import tqdm\n",
    "from statsmodels.tsa.stattools import adfuller, kpss\n",
    "from sklearn.preprocessing import StandardScaler\n",
    "from statsmodels.tsa.stattools import acf, pacf\n",
    "from statsmodels.graphics.tsaplots import plot_acf, plot_pacf\n",
    "import stability as st\n",
    "from sklearn import linear_model\n",
    "from sklearn import datasets\n",
    "from sklearn import metrics\n",
    "from sklearn.linear_model import ElasticNet\n",
    "import matplotlib.pyplot as plt\n",
    "from scipy.stats import norm\n",
    "from sklearn.model_selection import TimeSeriesSplit\n",
    "from sklearn.feature_selection import RFECV\n",
    "import lightgbm as lgb\n",
    "from optuna.visualization import plot_param_importances\n",
    "import contextlib"
   ]
  },
  {
   "cell_type": "code",
   "execution_count": 209,
   "id": "dc28190c-7984-4761-ae37-6171f3c5ce38",
   "metadata": {},
   "outputs": [],
   "source": [
    "import warnings\n",
    "warnings.filterwarnings(\"ignore\")"
   ]
  },
  {
   "cell_type": "markdown",
   "id": "d4716ed3-9df7-4316-84c6-c0b78ff6b471",
   "metadata": {
    "tags": []
   },
   "source": [
    "# Create config"
   ]
  },
  {
   "cell_type": "code",
   "execution_count": 163,
   "id": "76d48c92-d9b7-4951-84a1-e48be05c48a4",
   "metadata": {
    "tags": []
   },
   "outputs": [],
   "source": [
    "config = {\n",
    "    \"data\": {\"path\": \"../data/Project 1_2024.xlsx\",\n",
    "            \"sheet_name\": \"Data\",\n",
    "             \"path_to_calendar\": '../data/calendar.json',\n",
    "             \"path_to_anomalies\": '../model/changepoints.pkl',\n",
    "             \"key_rate_path\": '../data/keyrate.csv',\n",
    "             \"key_rate_date_col\": \"date\"\n",
    "            },\n",
    "        \n",
    "    \"features\": {\n",
    "    \"target_col\": \"Balance\",\n",
    "    \"date_col\": \"Date\",\n",
    "    },\n",
    "    \n",
    "    \"analytics\": {\"show_analytics\": False,\n",
    "                  \"path\": \"../result/analytics\"},\n",
    "    \n",
    "    \"train_params\": {\"train_val\": 0.5, \"val_boost_ratio\": 0.7,  \"test_size\": 30}\n",
    "    \n",
    "    \n",
    "}\n",
    "with open('../config/config.json', 'w') as f:\n",
    "    json.dump(config, f)"
   ]
  },
  {
   "cell_type": "code",
   "execution_count": 164,
   "id": "246cccea-857c-49a3-be1e-e4d7482bd65d",
   "metadata": {},
   "outputs": [],
   "source": [
    "class MeanExp:\n",
    "    \"\"\" Экспоненциальное сглаживание для оценки среднего или дисперсии. \"\"\"\n",
    "    def __init__(self, new_value_weight):\n",
    "        self.weight = new_value_weight\n",
    "        self.value = None\n",
    "\n",
    "    def update(self, new_value):\n",
    "        if self.value is None:\n",
    "            self.value = new_value\n",
    "        else:\n",
    "            self.value = (1 - self.weight) * self.value + self.weight * new_value\n",
    "\n",
    "class Stat:\n",
    "    \"\"\" Базовый класс для статистических тестов. \"\"\"\n",
    "    def __init__(self, threshold, direction=\"up\", init_stat=0.0):\n",
    "        self.threshold = threshold\n",
    "        self.direction = direction\n",
    "        self._stat = init_stat\n",
    "\n",
    "    def update(self):\n",
    "        if self._stat > self.threshold:\n",
    "            return True\n",
    "        return False\n",
    "\n",
    "class AdjustedShiryaevRoberts(Stat):\n",
    "    \"\"\" Модифицированная статистика Ширяева-Робертса для обнаружения разладки. \"\"\"\n",
    "    def __init__(self, mean_diff, threshold, max_stat=float(\"+inf\"), init_stat=0.0):\n",
    "        super().__init__(threshold, direction=\"up\", init_stat=init_stat)\n",
    "        self._mean_diff = mean_diff\n",
    "        self._max_stat = max_stat\n",
    "\n",
    "    def update(self, adjusted_value, **kwargs):\n",
    "        likelihood = np.exp(self._mean_diff * (adjusted_value - self._mean_diff / 2.))\n",
    "        self._stat = min(self._max_stat, (1. + self._stat) * likelihood)\n",
    "        return super().update()"
   ]
  },
  {
   "cell_type": "code",
   "execution_count": 165,
   "id": "60db5bb7-bca7-4bae-b63c-8d52c56b7b70",
   "metadata": {},
   "outputs": [],
   "source": [
    "# Загрузка данных - здесь нужно написать просто взять тот период, который за который мы хотим\n",
    "# проверять разладку ( последний месяц или с момента прошлой разладки)\n",
    "# values - данные\n",
    "# x_k - новое значение\n",
    "def change_point_check(values, x_k):\n",
    "  model_stat_trajectory = []\n",
    "  ch_point = ''\n",
    "  for x_k in values[:n_normal]:\n",
    "      mean_estimate = mean_exp_model.value if mean_exp_model.value is not None else 0\n",
    "      var_estimate = var_exp_model.value if var_exp_model.value is not None else 1\n",
    "\n",
    "      predicted_diff_value = (x_k - mean_estimate) ** 2\n",
    "      predicted_diff_mean = var_estimate\n",
    "      sr_model.update(predicted_diff_value - predicted_diff_mean)\n",
    "\n",
    "      model_stat_trajectory.append(sr_model._stat)\n",
    "      mean_exp_model.update(x_k)\n",
    "      var_exp_model.update(predicted_diff_value)\n",
    "\n",
    "  threshold_statistical = np.percentile(model_stat_trajectory, 99)\n",
    "\n",
    "  # Обнаружение разладки\n",
    "  sr = AdjustedShiryaevRoberts(sigma_diff, threshold_statistical, max_stat=max_stat)\n",
    "  mean_exp = MeanExp(new_value_weight=alpha)\n",
    "  var_exp = MeanExp(new_value_weight=beta)\n",
    "\n",
    "  stat_trajectory, mean_values, var_values, diff_values, changepoint = [], [], [], [], []\n",
    "  mean_estimate = mean_exp.value if mean_exp.value is not None else 0\n",
    "  var_estimate = var_exp.value if var_exp.value is not None else 1\n",
    "\n",
    "  predicted_diff_value = (x_k - mean_estimate) ** 2\n",
    "  predicted_diff_mean = var_estimate\n",
    "  if sr.update(predicted_diff_value - predicted_diff_mean):\n",
    "    ch_point = 'Обнаружена разладка'\n",
    "  return ch_point"
   ]
  },
  {
   "cell_type": "code",
   "execution_count": 166,
   "id": "24fa67ff-be94-4518-9f87-6494625587d7",
   "metadata": {
    "tags": []
   },
   "outputs": [],
   "source": [
    "class SarimaxSearcher():\n",
    "    def __init__(self):\n",
    "        self.ps = [0, 1, 2]\n",
    "        self.d = [0, 1]\n",
    "        self.qs = [1, 2]\n",
    "        self.Ps = [0, 1, 2]\n",
    "        self.D = [0, 1]\n",
    "        self.Qs = [0, 1, 2]\n",
    "        self.s = [0, 7]\n",
    "        self.results_parallel_df = None\n",
    "        parameters = product(self.ps, self.d, self.qs, self.Ps, self.D, self.Qs, self.s)\n",
    "        self.parameters_list = list(parameters)\n",
    "        self.BEST_PARAM_SARIMAX = None\n",
    "        self.model = None\n",
    "        self.results_parallel = None\n",
    "        self.predictions = None\n",
    "        \n",
    "    def fit_sarimax(self, param, data):\n",
    "        p, d, q, P, D, Q, s = param\n",
    "        try:\n",
    "            model=sm.tsa.statespace.SARIMAX(data, order=(p, d, q), \n",
    "                                            seasonal_order=(P, D, Q, s)).fit(disp=-1)\n",
    "        #выводим параметры, на которых модель не обучается и переходим к следующему набору\n",
    "        except ValueError:\n",
    "            return None, +float(\"inf\")\n",
    "        aic = model.aic\n",
    "        return param, model.aic\n",
    "    \n",
    "    def hyperopt_search(self, data, n_jobs=-1, verbose=0):\n",
    "        print(\"fitting p, d, q, P, D, Q, s for SARIMAX\")\n",
    "        import warnings\n",
    "        warnings.simplefilter(action='ignore', category=Warning)\n",
    "        self.results_parallel = Parallel(n_jobs=n_jobs, verbose=verbose)(delayed(self.fit_sarimax)(param, data) for param in self.parameters_list)\n",
    "\n",
    "        self.results_parallel_df = pd.DataFrame(self.results_parallel)\n",
    "        self.results_parallel_df.columns = ['parameters', 'aic']\n",
    "        self.results_parallel_df = self.results_parallel_df.sort_values(\"aic\").reset_index(drop=True)\n",
    "        self.BEST_PARAM_SARIMAX = self.results_parallel_df.loc[0, 'parameters']    \n",
    "        \n",
    "        return self.BEST_PARAM_SARIMAX, self.results_parallel_df\n",
    "    \n",
    "    def fit(self, data):\n",
    "        self.model = sm.tsa.SARIMAX(data, order=self.BEST_PARAM_SARIMAX[:3], seasonal_order=self.BEST_PARAM_SARIMAX[3:]).fit(disp=-1)\n",
    "        \n",
    "    def predict(self, start, end):\n",
    "        return self.model.predict(start, end)\n",
    "    \n",
    "    def fit_predict(self, train, val, i):\n",
    "        train_size = len(train)\n",
    "        val_size = len(val)\n",
    "        total_size = train_size + val_size\n",
    "        total = pd.concat([train, val], axis=0)\n",
    "        model = sm.tsa.SARIMAX(total.iloc[:train_size + i], order=self.BEST_PARAM_SARIMAX[:3], seasonal_order=self.BEST_PARAM_SARIMAX[3:]).fit(disp=-1)\n",
    "        return model.predict(start=total.iloc[:train_size + i + 1].index[-1], \n",
    "                                         end=total.iloc[:train_size + i + 1].index[-1])\n",
    "        \n",
    "    \n",
    "    def fit_predict_trainval(self, train, val, n_jobs=-1):\n",
    "        print(\"Estimating SARIMAX\")\n",
    "        train_size = len(train)\n",
    "        val_size = len(val)\n",
    "        total_size = train_size + val_size\n",
    "        total = pd.concat([train, val], axis=0)\n",
    "        model = sm.tsa.SARIMAX(total.iloc[:train_size], order=self.BEST_PARAM_SARIMAX[:3], seasonal_order=self.BEST_PARAM_SARIMAX[3:]).fit(disp=-1)\n",
    "        \n",
    "        first_prediction = model.predict(end=total.iloc[:train_size + 1].index[-1])\n",
    "        predictions = Parallel(n_jobs=n_jobs, verbose=0)(delayed(self.fit_predict)(train, val, i) for i in range(1, val_size))\n",
    "        self.predictions = pd.concat([first_prediction] + predictions)\n",
    "        return self.predictions, total"
   ]
  },
  {
   "cell_type": "code",
   "execution_count": 180,
   "id": "be0f0a17-4505-47a3-894f-06484c3e489c",
   "metadata": {},
   "outputs": [],
   "source": [
    "with open(config[\"data\"][\"path_to_anomalies\"], \"rb\") as f:\n",
    "    changepoints = pickle.load(f)"
   ]
  },
  {
   "cell_type": "code",
   "execution_count": 187,
   "id": "e272f89b-0958-4294-b371-48ce98d3f141",
   "metadata": {},
   "outputs": [],
   "source": [
    "filter = [index for index in pipe.data.index if index in changepoints]"
   ]
  },
  {
   "cell_type": "code",
   "execution_count": 190,
   "id": "1be44537-4eb0-49f0-8518-b1c39a0f4185",
   "metadata": {},
   "outputs": [],
   "source": [
    "pipe.data.loc[filter, [\"Balance\"]] = np.nan"
   ]
  },
  {
   "cell_type": "code",
   "execution_count": 207,
   "id": "9fc2192c-24e3-433f-8c73-d64f4d0a5b22",
   "metadata": {
    "tags": []
   },
   "outputs": [],
   "source": [
    "class TSForecastingPipeline():\n",
    "    def __init__(self, config_path: str = \"../config/config.json\", debug: bool = True, filter_anomalies = True):\n",
    "        self.debug = debug\n",
    "        self._config_path = config_path\n",
    "        self.config = self._load_config()\n",
    "        print(self.config) if self.debug else None\n",
    "        \n",
    "        self.path_to_data = self.config[\"data\"][\"path\"]\n",
    "        self.sheet_name = self.config[\"data\"][\"sheet_name\"]\n",
    "        self.target_col = self.config[\"features\"][\"target_col\"]\n",
    "        self.date_col = self.config[\"features\"][\"date_col\"]\n",
    "        \n",
    "        self.path_to_calendar = self.config[\"data\"][\"path_to_calendar\"]\n",
    "        self.key_rate_path = self.config[\"data\"][\"key_rate_path\"]\n",
    "        self.key_rate_date_col = self.config[\"data\"][\"key_rate_date_col\"]\n",
    "        \n",
    "        \n",
    "        self.data = self._load_data()        \n",
    "        self.data.index = pd.DatetimeIndex(self.data.index.values,\n",
    "                               freq=self.data.index.inferred_freq)\n",
    "        self.data.index.name = \"Date\"\n",
    "        \n",
    "        if filter_anomalies: \n",
    "            with open(self.config[\"data\"][\"path_to_anomalies\"], \"rb\") as f:\n",
    "                changepoints = pickle.load(f)\n",
    "            filter = [index for index in self.data.index if index in changepoints]\n",
    "            self.data.loc[filter, [self.target_col]] = np.nan\n",
    "                # suppose martingale property\n",
    "            self.data[self.target_col].ffill(inplace=True)\n",
    "        \n",
    "        self.target = self.data[self.target_col]\n",
    "        \n",
    "        self.train_params = self.config[\"train_params\"]\n",
    "        self.train_val = self.config[\"train_params\"][\"train_val\"]\n",
    "        self.val_boost_ratio = self.config[\"train_params\"][\"val_boost_ratio\"]\n",
    "        self.test_size = self.config[\"train_params\"][\"test_size\"]\n",
    "        \n",
    "        self.show_analytics = self.config[\"analytics\"][\"show_analytics\"]\n",
    "        self.analytics_path = self.config[\"analytics\"][\"path\"]\n",
    "        if self.show_analytics:\n",
    "            self.ts_analysis(self.target)\n",
    "        \n",
    "        self.data_with_custom = self.add_custom_features(self.data, self.target_col)\n",
    "        self.data_with_ts_and_custom = self.add_ts_features(self.data_with_custom, self.target_col)\n",
    "        self.data_preproced = self.data_with_ts_and_custom.dropna()\n",
    "        \n",
    "        (self.X_trainval, self.y_trainval, \n",
    "        self.X_test, self.y_test,\n",
    "        self.X_train, self.y_train, \n",
    "        self.X_val, self.y_val,\n",
    "        self.X_val_boost_train,\n",
    "        self.y_val_boost_train,\n",
    "        self.X_val_boost_test, self.y_val_boost_test) = self.train_test_split(self.data_preproced, self.train_val, self.val_boost_ratio, self.test_size, self.target_col)\n",
    "        \n",
    "        self.sarimax_searcher = SarimaxSearcher()\n",
    "        #fit p, d, q, P, D, Q\n",
    "        best_params, best_df = self.sarimax_searcher.hyperopt_search(self.y_train)\n",
    "\n",
    "        #sliding, one-out window prediction for feature estimation and fitting boosting\n",
    "        self.pred_trainval, _ = self.sarimax_searcher.fit_predict_trainval(self.y_train, self.y_val)\n",
    "\n",
    "        self.sarimax_result = pd.concat([self.pred_trainval, self.y_trainval], axis=1)\n",
    "        self.sarimax_result.columns=[\"y_pred\",  \"y_true\"]\n",
    "\n",
    "        self.MAE_VAL = (self.sarimax_result[\"y_pred\"] - self.sarimax_result[\"y_true\"]).iloc[len(self.y_train):].abs().mean()\n",
    "\n",
    "        print(f\"Extending train, one out MAE for validation: {self.MAE_VAL:.02f}\")\n",
    "                              \n",
    "    def _load_config(self):\n",
    "        \"\"\"\n",
    "        load json config from self._config_path with paths, etc. and return it\n",
    "        \"\"\"\n",
    "        with open(self._config_path) as f:\n",
    "            config = json.load(f) \n",
    "        return config\n",
    "    \n",
    "    def _load_data(self):\n",
    "        \"\"\"\n",
    "        load dataset from excel and return it\n",
    "        \"\"\"\n",
    "        \n",
    "        assert os.path.isfile(self.path_to_data), f\"No such data file with path {self.path_to_data}\"\n",
    "        data = pd.read_excel(self.path_to_data,\n",
    "                             sheet_name=self.sheet_name, \n",
    "                             parse_dates=[self.date_col], \n",
    "                             index_col=self.date_col)\n",
    "        data = data[[self.target_col]]\n",
    "        data = data.sort_index()\n",
    "        return data\n",
    "    \n",
    "    def ts_analysis(self, y, save_fig=True, label=\"default\"):\n",
    "        \"\"\"\n",
    "        plot ts analytics for y ts vatiable with datetime index\n",
    "        show it and save if save_fig to self.analytics_path/label dir\n",
    "        \"\"\"\n",
    "        if not os.path.exists(join(self.analytics_path, label)):\n",
    "            os.mkdir(join(self.analytics_path, label))       \n",
    "        fig = y.plot()\n",
    "        fig.set_title(\"target_dynamic \" + f\"Stationarity = {utils.stationarity_check(y)}\")\n",
    "        plt.savefig(join(self.analytics_path, label, \"target_dynamic.png\"))\n",
    "        plt.show()\n",
    "        fig = y.hist(bins=30)\n",
    "        fig.set_title(\"target_distribution \" + f\"Normaltest = {scipy.stats.normaltest(y)}\")\n",
    "        plt.savefig(join(self.analytics_path, label, \"target_distribution.png\"))\n",
    "        plt.show()\n",
    "        \n",
    "        fig = np.cumsum(y).plot()\n",
    "        fig.set_title(\"CUSUM\")\n",
    "        plt.savefig(join(self.analytics_path, label, \"cusum.png\"))\n",
    "        fig = utils.tsplot(y)\n",
    "        fig.savefig(join(self.analytics_path, label, \"tsplot.png\"))\n",
    "        fig = utils.plot_decomposition(y)\n",
    "        fig.savefig(join(self.analytics_path, label, \"additive_decomposition.png\"))\n",
    "\n",
    "        \n",
    "    \n",
    "    def add_ts_features(self, data, target_col):\n",
    "        \"\"\"\n",
    "        use tsfresh to extact ts stat features with window 30 (drop first date to avoid leakage)\n",
    "        \"\"\"\n",
    "        print(\"Adding TS features\") if self.debug else None\n",
    "        df = data.copy()[[target_col]]\n",
    "        df[\"Dummy_id\"] = 0\n",
    "        df = df.reset_index()\n",
    "        df_rolled = roll_time_series(df, column_id=\"Dummy_id\", column_sort=\"Date\",\n",
    "                                     max_timeshift=30, min_timeshift=0, n_jobs=10) #closed-right interval, so we should do a shift\n",
    "\n",
    "        df = extract_features(df_rolled.drop(\"Dummy_id\", axis=1), \n",
    "                             column_id=\"id\", column_sort=\"Date\", column_value=\"Balance\", \n",
    "                             impute_function=impute, show_warnings=False, n_jobs=10)\n",
    "\n",
    "\n",
    "        df = df.set_index(df.index.map(lambda x: x[1]), drop=True)\n",
    "\n",
    "        df.index.name = \"Date\"\n",
    "\n",
    "        df = df.shift(1) #!no leak\n",
    "        df = pd.concat([data.copy(), df], axis=1)\n",
    "        return df\n",
    "    \n",
    "    def add_custom_features(self, data, target_col):\n",
    "        \"\"\"\n",
    "        add features from feature engeneering.ipynb, so that's calendar features, lags, also rolling stats, key rate value(it was considered that we know tha value on t-1), tax days\n",
    "        \"\"\"\n",
    "        print(\"Adding CUSTOM features\") if self.debug else None\n",
    "        df = data.copy()[[target_col]]\n",
    "        df = self.add_calendar_feats(df)\n",
    "        df = self.add_key_rate(df)\n",
    "        df = self.add_rollings_and_lags(df, target_col)\n",
    "        df = self.add_payday(df)\n",
    "        df = pd.concat([data.copy().drop(columns=target_col), df], axis=1)\n",
    "        return df\n",
    "    \n",
    "    def add_calendar_feats(self, df):\n",
    "        print(\"Adding CALENDAR features\") if self.debug else None\n",
    "        df = df.copy()\n",
    "        \n",
    "        #calendar features\n",
    "        df['weekend'] = np.where(df.index.weekday > 4, 1, 0)\n",
    "\n",
    "        df['day_of_week'] = df.index.weekday\n",
    "\n",
    "        day_of_week_columns = pd.get_dummies(df['day_of_week'], dtype=int)\n",
    "        day_of_week_columns.columns = [\"Monday\", \"Tuesday\", \"Wednesday\", \"Thursday\", \"Firday\", \"Saturday\", \"Sunday\"]\n",
    "\n",
    "        df = df.merge(day_of_week_columns, left_index=True, right_index=True)\n",
    "\n",
    "\n",
    "        df['day_of_week_sin'] = np.sin(df['day_of_week'] * (2 * np.pi / 7))\n",
    "        df['day_of_week_cos'] = np.cos(df['day_of_week'] * (2 * np.pi / 7))\n",
    "\n",
    "\n",
    "        with open(self.path_to_calendar) as f:\n",
    "            calendar = json.load(f) \n",
    "\n",
    "        calendar = {k: pd.to_datetime(v) for k, v in calendar.items()}\n",
    "\n",
    "        df[\"holiday\"] = df.index.isin(calendar[\"holidays\"].union(calendar[\"nowork\"])).astype(int)\n",
    "\n",
    "        df[\"preholiday\"] = df.index.isin(calendar[\"preholidays\"]).astype(int)\n",
    "\n",
    "\n",
    "        month = pd.get_dummies(df.index.month,prefix='month', dtype=int).set_index(df.index)\n",
    "\n",
    "        quarter = pd.get_dummies(df.index.quarter,prefix='quarter', dtype=int).set_index(df.index)\n",
    "\n",
    "        df = pd.concat([df, month, quarter],axis=1)\n",
    "        \n",
    "        df.drop(columns=[\"day_of_week\"], inplace=True)\n",
    "\n",
    "        return df\n",
    "    \n",
    "    def add_key_rate(self, df: pd.DataFrame):\n",
    "        print(\"Adding KEY_RATE features\") if self.debug else None\n",
    "        df = df.copy()\n",
    "        keyrate = pd.read_csv(self.key_rate_path, \n",
    "                              index_col=self.key_rate_date_col, \n",
    "                              parse_dates=[self.key_rate_date_col])\n",
    "\n",
    "        keyrate.columns = [\"keyrate\"] #MAST HAVE SHIFT\n",
    "\n",
    "        df = df.join(keyrate, on=df.index)\n",
    "\n",
    "        df[\"keyrate\"] = df[\"keyrate\"].ffill() #cant'bfill\n",
    "        \n",
    "        return df\n",
    "    \n",
    "    def add_rollings_and_lags(self, data, target_col):\n",
    "        \"\"\"\n",
    "        input: pd.DataFrame with only target and date index\n",
    "        \"\"\"\n",
    "        print(\"Adding roll&lags features\") if self.debug else None\n",
    "        df = data.copy()[[target_col]]\n",
    "        \n",
    "        rolling_weekly = df[target_col].rolling(7).agg(['mean','std','median','max','min']).shift()\n",
    "        rolling_weekly.columns = [\"Balance_\" + col + \"_weekly\" for col in rolling_weekly.columns]\n",
    "\n",
    "        rolling_monthly = df[target_col].rolling(30).agg(['mean','std','median','max','min']).shift()\n",
    "        rolling_monthly.columns = [\"Balance_\" + col + \"_monthly\" for col in rolling_monthly.columns]\n",
    "        # we lose first 30 rows as we do this\n",
    "        df = pd.concat([data.copy(), rolling_weekly, rolling_monthly], axis=1)\n",
    "\n",
    "        df[\"first_lag\"] = df.Balance.shift(1)\n",
    "        df[\"second_lag\"] = df.Balance.shift(2)\n",
    "        return df\n",
    "    \n",
    "    def add_payday(self, df):\n",
    "        df = df.copy()\n",
    "        # Initialize target feature column\n",
    "        df['payday'] = 0\n",
    "\n",
    "        # Iterate over each row in the DataFrame\n",
    "        for index, data in df.iterrows():\n",
    "            if index.day in [15, 25, 28]:\n",
    "                # Check if weekend, holiday, and target feature are all zero\n",
    "                if data['weekend'] == 0 and data['holiday'] == 0:\n",
    "                    data['payday'] = 1\n",
    "                else:\n",
    "                    loc = df.index.get_loc(index)\n",
    "                    # If any of weekend, holiday, or target feature is 1, find the upper row where all are zero\n",
    "                    lower_row_index = loc - 1\n",
    "                    loc = df.index[lower_row_index]\n",
    "                    while lower_row_index > -1 and (df.loc[loc, 'weekend'] == 1 or df.loc[loc, 'holiday'] == 1):\n",
    "                        lower_row_index -= 1\n",
    "                        loc = df.index[lower_row_index]\n",
    "                    df.at[loc, \"payday\"] = 1\n",
    "\n",
    "        return df\n",
    "    \n",
    "    \n",
    "    def train_test_split(self, data, train_val_ratio, val_boost_ratio, test_size, target_col):\n",
    "        \"\"\"\n",
    "        return X_trainval, y_trainval, X_test, y_test, X_train, y_train, X_val, y_val, X_val_boost_train, y_val_boost_train, X_val_boost_test, y_val_boost_test\n",
    "        \"\"\"\n",
    "        df = data.copy()\n",
    "\n",
    "        test = df.iloc[-test_size:]\n",
    "        trainval = df.iloc[:-test_size]\n",
    "\n",
    "        trainval_size = trainval.shape[0]\n",
    "        train_size = int(trainval_size * train_val_ratio) #for hyperparams sarimax\n",
    "        val_size = trainval_size - train_size\n",
    "\n",
    "        val_boost_train_size = int(val_size * val_boost_ratio) #for meta features with lightgbm\n",
    "        val_boost_test_size = val_size - int(val_size * val_boost_ratio)\n",
    "\n",
    "        train = trainval.iloc[:train_size]\n",
    "        val = trainval.iloc[train_size:]\n",
    "\n",
    "        val.shape\n",
    "\n",
    "        val_boost_train = val.iloc[:val_boost_train_size]\n",
    "        val_boost_test = val.iloc[val_boost_train_size:]\n",
    "\n",
    "        splited = []\n",
    "        for data in [trainval, test, train, val, val_boost_train, val_boost_test]:\n",
    "            X, y = data.drop(columns=target_col), data[[target_col]]\n",
    "            splited.extend([X, y])\n",
    "        return splited \n"
   ]
  },
  {
   "cell_type": "code",
   "execution_count": 208,
   "id": "8e209802-30de-4983-a94e-0845dc93fc0d",
   "metadata": {
    "scrolled": true,
    "tags": []
   },
   "outputs": [
    {
     "name": "stdout",
     "output_type": "stream",
     "text": [
      "{'data': {'path': '../data/Project 1_2024.xlsx', 'sheet_name': 'Data', 'path_to_calendar': '../data/calendar.json', 'path_to_anomalies': '../model/changepoints.pkl', 'key_rate_path': '../data/keyrate.csv', 'key_rate_date_col': 'date'}, 'features': {'target_col': 'Balance', 'date_col': 'Date'}, 'analytics': {'show_analytics': False, 'path': '../result/analytics'}, 'train_params': {'train_val': 0.5, 'val_boost_ratio': 0.7, 'test_size': 30}}\n",
      "Adding CUSTOM features\n",
      "Adding CALENDAR features\n",
      "Adding KEY_RATE features\n",
      "Adding roll&lags features\n",
      "Adding TS features\n"
     ]
    },
    {
     "name": "stderr",
     "output_type": "stream",
     "text": [
      "Rolling: 100%|█████████████████████████████████████████████████████████████| 50/50 [00:00<00:00, 102.13it/s]\n",
      "Feature Extraction: 100%|███████████████████████████████████████████████████| 50/50 [00:10<00:00,  4.61it/s]\n"
     ]
    },
    {
     "name": "stdout",
     "output_type": "stream",
     "text": [
      "fitting p, d, q, P, D, Q, s for SARIMAX\n"
     ]
    },
    {
     "name": "stderr",
     "output_type": "stream",
     "text": [
      "/home/xenos/Documents/masters/venv/lib/python3.11/site-packages/statsmodels/base/model.py:607: ConvergenceWarning: Maximum Likelihood optimization failed to converge. Check mle_retvals\n",
      "  warnings.warn(\"Maximum Likelihood optimization failed to \"\n",
      "/home/xenos/Documents/masters/venv/lib/python3.11/site-packages/statsmodels/base/model.py:607: ConvergenceWarning: Maximum Likelihood optimization failed to converge. Check mle_retvals\n",
      "  warnings.warn(\"Maximum Likelihood optimization failed to \"\n",
      "/home/xenos/Documents/masters/venv/lib/python3.11/site-packages/statsmodels/base/model.py:607: ConvergenceWarning: Maximum Likelihood optimization failed to converge. Check mle_retvals\n",
      "  warnings.warn(\"Maximum Likelihood optimization failed to \"\n",
      "/home/xenos/Documents/masters/venv/lib/python3.11/site-packages/statsmodels/base/model.py:607: ConvergenceWarning: Maximum Likelihood optimization failed to converge. Check mle_retvals\n",
      "  warnings.warn(\"Maximum Likelihood optimization failed to \"\n",
      "/home/xenos/Documents/masters/venv/lib/python3.11/site-packages/statsmodels/base/model.py:607: ConvergenceWarning: Maximum Likelihood optimization failed to converge. Check mle_retvals\n",
      "  warnings.warn(\"Maximum Likelihood optimization failed to \"\n",
      "/home/xenos/Documents/masters/venv/lib/python3.11/site-packages/statsmodels/base/model.py:607: ConvergenceWarning: Maximum Likelihood optimization failed to converge. Check mle_retvals\n",
      "  warnings.warn(\"Maximum Likelihood optimization failed to \"\n",
      "/home/xenos/Documents/masters/venv/lib/python3.11/site-packages/statsmodels/base/model.py:607: ConvergenceWarning: Maximum Likelihood optimization failed to converge. Check mle_retvals\n",
      "  warnings.warn(\"Maximum Likelihood optimization failed to \"\n",
      "/home/xenos/Documents/masters/venv/lib/python3.11/site-packages/statsmodels/base/model.py:607: ConvergenceWarning: Maximum Likelihood optimization failed to converge. Check mle_retvals\n",
      "  warnings.warn(\"Maximum Likelihood optimization failed to \"\n",
      "/home/xenos/Documents/masters/venv/lib/python3.11/site-packages/statsmodels/base/model.py:607: ConvergenceWarning: Maximum Likelihood optimization failed to converge. Check mle_retvals\n",
      "  warnings.warn(\"Maximum Likelihood optimization failed to \"\n",
      "/home/xenos/Documents/masters/venv/lib/python3.11/site-packages/statsmodels/base/model.py:607: ConvergenceWarning: Maximum Likelihood optimization failed to converge. Check mle_retvals\n",
      "  warnings.warn(\"Maximum Likelihood optimization failed to \"\n",
      "/home/xenos/Documents/masters/venv/lib/python3.11/site-packages/statsmodels/base/model.py:607: ConvergenceWarning: Maximum Likelihood optimization failed to converge. Check mle_retvals\n",
      "  warnings.warn(\"Maximum Likelihood optimization failed to \"\n",
      "/home/xenos/Documents/masters/venv/lib/python3.11/site-packages/statsmodels/base/model.py:607: ConvergenceWarning: Maximum Likelihood optimization failed to converge. Check mle_retvals\n",
      "  warnings.warn(\"Maximum Likelihood optimization failed to \"\n",
      "/home/xenos/Documents/masters/venv/lib/python3.11/site-packages/statsmodels/base/model.py:607: ConvergenceWarning: Maximum Likelihood optimization failed to converge. Check mle_retvals\n",
      "  warnings.warn(\"Maximum Likelihood optimization failed to \"\n",
      "/home/xenos/Documents/masters/venv/lib/python3.11/site-packages/statsmodels/base/model.py:607: ConvergenceWarning: Maximum Likelihood optimization failed to converge. Check mle_retvals\n",
      "  warnings.warn(\"Maximum Likelihood optimization failed to \"\n",
      "/home/xenos/Documents/masters/venv/lib/python3.11/site-packages/statsmodels/base/model.py:607: ConvergenceWarning: Maximum Likelihood optimization failed to converge. Check mle_retvals\n",
      "  warnings.warn(\"Maximum Likelihood optimization failed to \"\n",
      "/home/xenos/Documents/masters/venv/lib/python3.11/site-packages/statsmodels/base/model.py:607: ConvergenceWarning: Maximum Likelihood optimization failed to converge. Check mle_retvals\n",
      "  warnings.warn(\"Maximum Likelihood optimization failed to \"\n",
      "/home/xenos/Documents/masters/venv/lib/python3.11/site-packages/statsmodels/base/model.py:607: ConvergenceWarning: Maximum Likelihood optimization failed to converge. Check mle_retvals\n",
      "  warnings.warn(\"Maximum Likelihood optimization failed to \"\n",
      "/home/xenos/Documents/masters/venv/lib/python3.11/site-packages/statsmodels/base/model.py:607: ConvergenceWarning: Maximum Likelihood optimization failed to converge. Check mle_retvals\n",
      "  warnings.warn(\"Maximum Likelihood optimization failed to \"\n",
      "/home/xenos/Documents/masters/venv/lib/python3.11/site-packages/statsmodels/base/model.py:607: ConvergenceWarning: Maximum Likelihood optimization failed to converge. Check mle_retvals\n",
      "  warnings.warn(\"Maximum Likelihood optimization failed to \"\n",
      "/home/xenos/Documents/masters/venv/lib/python3.11/site-packages/statsmodels/base/model.py:607: ConvergenceWarning: Maximum Likelihood optimization failed to converge. Check mle_retvals\n",
      "  warnings.warn(\"Maximum Likelihood optimization failed to \"\n",
      "/home/xenos/Documents/masters/venv/lib/python3.11/site-packages/statsmodels/base/model.py:607: ConvergenceWarning: Maximum Likelihood optimization failed to converge. Check mle_retvals\n",
      "  warnings.warn(\"Maximum Likelihood optimization failed to \"\n",
      "/home/xenos/Documents/masters/venv/lib/python3.11/site-packages/statsmodels/base/model.py:607: ConvergenceWarning: Maximum Likelihood optimization failed to converge. Check mle_retvals\n",
      "  warnings.warn(\"Maximum Likelihood optimization failed to \"\n",
      "/home/xenos/Documents/masters/venv/lib/python3.11/site-packages/statsmodels/base/model.py:607: ConvergenceWarning: Maximum Likelihood optimization failed to converge. Check mle_retvals\n",
      "  warnings.warn(\"Maximum Likelihood optimization failed to \"\n",
      "/home/xenos/Documents/masters/venv/lib/python3.11/site-packages/statsmodels/tsa/statespace/sarimax.py:966: UserWarning: Non-stationary starting autoregressive parameters found. Using zeros as starting parameters.\n",
      "  warn('Non-stationary starting autoregressive parameters'\n",
      "/home/xenos/Documents/masters/venv/lib/python3.11/site-packages/statsmodels/tsa/statespace/sarimax.py:978: UserWarning: Non-invertible starting MA parameters found. Using zeros as starting parameters.\n",
      "  warn('Non-invertible starting MA parameters found.'\n",
      "/home/xenos/Documents/masters/venv/lib/python3.11/site-packages/statsmodels/base/model.py:607: ConvergenceWarning: Maximum Likelihood optimization failed to converge. Check mle_retvals\n",
      "  warnings.warn(\"Maximum Likelihood optimization failed to \"\n",
      "/home/xenos/Documents/masters/venv/lib/python3.11/site-packages/statsmodels/tsa/statespace/sarimax.py:966: UserWarning: Non-stationary starting autoregressive parameters found. Using zeros as starting parameters.\n",
      "  warn('Non-stationary starting autoregressive parameters'\n",
      "/home/xenos/Documents/masters/venv/lib/python3.11/site-packages/statsmodels/tsa/statespace/sarimax.py:978: UserWarning: Non-invertible starting MA parameters found. Using zeros as starting parameters.\n",
      "  warn('Non-invertible starting MA parameters found.'\n",
      "/home/xenos/Documents/masters/venv/lib/python3.11/site-packages/statsmodels/tsa/statespace/sarimax.py:966: UserWarning: Non-stationary starting autoregressive parameters found. Using zeros as starting parameters.\n",
      "  warn('Non-stationary starting autoregressive parameters'\n",
      "/home/xenos/Documents/masters/venv/lib/python3.11/site-packages/statsmodels/tsa/statespace/sarimax.py:978: UserWarning: Non-invertible starting MA parameters found. Using zeros as starting parameters.\n",
      "  warn('Non-invertible starting MA parameters found.'\n",
      "/home/xenos/Documents/masters/venv/lib/python3.11/site-packages/statsmodels/tsa/statespace/sarimax.py:966: UserWarning: Non-stationary starting autoregressive parameters found. Using zeros as starting parameters.\n",
      "  warn('Non-stationary starting autoregressive parameters'\n",
      "/home/xenos/Documents/masters/venv/lib/python3.11/site-packages/statsmodels/tsa/statespace/sarimax.py:978: UserWarning: Non-invertible starting MA parameters found. Using zeros as starting parameters.\n",
      "  warn('Non-invertible starting MA parameters found.'\n",
      "/home/xenos/Documents/masters/venv/lib/python3.11/site-packages/statsmodels/base/model.py:607: ConvergenceWarning: Maximum Likelihood optimization failed to converge. Check mle_retvals\n",
      "  warnings.warn(\"Maximum Likelihood optimization failed to \"\n",
      "/home/xenos/Documents/masters/venv/lib/python3.11/site-packages/statsmodels/tsa/statespace/sarimax.py:966: UserWarning: Non-stationary starting autoregressive parameters found. Using zeros as starting parameters.\n",
      "  warn('Non-stationary starting autoregressive parameters'\n",
      "/home/xenos/Documents/masters/venv/lib/python3.11/site-packages/statsmodels/tsa/statespace/sarimax.py:978: UserWarning: Non-invertible starting MA parameters found. Using zeros as starting parameters.\n",
      "  warn('Non-invertible starting MA parameters found.'\n",
      "/home/xenos/Documents/masters/venv/lib/python3.11/site-packages/statsmodels/base/model.py:607: ConvergenceWarning: Maximum Likelihood optimization failed to converge. Check mle_retvals\n",
      "  warnings.warn(\"Maximum Likelihood optimization failed to \"\n",
      "/home/xenos/Documents/masters/venv/lib/python3.11/site-packages/statsmodels/tsa/statespace/sarimax.py:966: UserWarning: Non-stationary starting autoregressive parameters found. Using zeros as starting parameters.\n",
      "  warn('Non-stationary starting autoregressive parameters'\n",
      "/home/xenos/Documents/masters/venv/lib/python3.11/site-packages/statsmodels/tsa/statespace/sarimax.py:978: UserWarning: Non-invertible starting MA parameters found. Using zeros as starting parameters.\n",
      "  warn('Non-invertible starting MA parameters found.'\n",
      "/home/xenos/Documents/masters/venv/lib/python3.11/site-packages/statsmodels/base/model.py:607: ConvergenceWarning: Maximum Likelihood optimization failed to converge. Check mle_retvals\n",
      "  warnings.warn(\"Maximum Likelihood optimization failed to \"\n",
      "/home/xenos/Documents/masters/venv/lib/python3.11/site-packages/statsmodels/tsa/statespace/sarimax.py:966: UserWarning: Non-stationary starting autoregressive parameters found. Using zeros as starting parameters.\n",
      "  warn('Non-stationary starting autoregressive parameters'\n",
      "/home/xenos/Documents/masters/venv/lib/python3.11/site-packages/statsmodels/tsa/statespace/sarimax.py:978: UserWarning: Non-invertible starting MA parameters found. Using zeros as starting parameters.\n",
      "  warn('Non-invertible starting MA parameters found.'\n",
      "/home/xenos/Documents/masters/venv/lib/python3.11/site-packages/statsmodels/tsa/statespace/sarimax.py:966: UserWarning: Non-stationary starting autoregressive parameters found. Using zeros as starting parameters.\n",
      "  warn('Non-stationary starting autoregressive parameters'\n",
      "/home/xenos/Documents/masters/venv/lib/python3.11/site-packages/statsmodels/tsa/statespace/sarimax.py:978: UserWarning: Non-invertible starting MA parameters found. Using zeros as starting parameters.\n",
      "  warn('Non-invertible starting MA parameters found.'\n",
      "/home/xenos/Documents/masters/venv/lib/python3.11/site-packages/statsmodels/tsa/statespace/sarimax.py:966: UserWarning: Non-stationary starting autoregressive parameters found. Using zeros as starting parameters.\n",
      "  warn('Non-stationary starting autoregressive parameters'\n",
      "/home/xenos/Documents/masters/venv/lib/python3.11/site-packages/statsmodels/tsa/statespace/sarimax.py:978: UserWarning: Non-invertible starting MA parameters found. Using zeros as starting parameters.\n",
      "  warn('Non-invertible starting MA parameters found.'\n",
      "/home/xenos/Documents/masters/venv/lib/python3.11/site-packages/statsmodels/base/model.py:607: ConvergenceWarning: Maximum Likelihood optimization failed to converge. Check mle_retvals\n",
      "  warnings.warn(\"Maximum Likelihood optimization failed to \"\n",
      "/home/xenos/Documents/masters/venv/lib/python3.11/site-packages/statsmodels/base/model.py:607: ConvergenceWarning: Maximum Likelihood optimization failed to converge. Check mle_retvals\n",
      "  warnings.warn(\"Maximum Likelihood optimization failed to \"\n",
      "/home/xenos/Documents/masters/venv/lib/python3.11/site-packages/statsmodels/base/model.py:607: ConvergenceWarning: Maximum Likelihood optimization failed to converge. Check mle_retvals\n",
      "  warnings.warn(\"Maximum Likelihood optimization failed to \"\n",
      "/home/xenos/Documents/masters/venv/lib/python3.11/site-packages/statsmodels/base/model.py:607: ConvergenceWarning: Maximum Likelihood optimization failed to converge. Check mle_retvals\n",
      "  warnings.warn(\"Maximum Likelihood optimization failed to \"\n",
      "/home/xenos/Documents/masters/venv/lib/python3.11/site-packages/statsmodels/base/model.py:607: ConvergenceWarning: Maximum Likelihood optimization failed to converge. Check mle_retvals\n",
      "  warnings.warn(\"Maximum Likelihood optimization failed to \"\n",
      "/home/xenos/Documents/masters/venv/lib/python3.11/site-packages/statsmodels/base/model.py:607: ConvergenceWarning: Maximum Likelihood optimization failed to converge. Check mle_retvals\n",
      "  warnings.warn(\"Maximum Likelihood optimization failed to \"\n",
      "/home/xenos/Documents/masters/venv/lib/python3.11/site-packages/statsmodels/base/model.py:607: ConvergenceWarning: Maximum Likelihood optimization failed to converge. Check mle_retvals\n",
      "  warnings.warn(\"Maximum Likelihood optimization failed to \"\n",
      "/home/xenos/Documents/masters/venv/lib/python3.11/site-packages/statsmodels/base/model.py:607: ConvergenceWarning: Maximum Likelihood optimization failed to converge. Check mle_retvals\n",
      "  warnings.warn(\"Maximum Likelihood optimization failed to \"\n",
      "/home/xenos/Documents/masters/venv/lib/python3.11/site-packages/statsmodels/base/model.py:607: ConvergenceWarning: Maximum Likelihood optimization failed to converge. Check mle_retvals\n",
      "  warnings.warn(\"Maximum Likelihood optimization failed to \"\n",
      "/home/xenos/Documents/masters/venv/lib/python3.11/site-packages/statsmodels/tsa/statespace/sarimax.py:978: UserWarning: Non-invertible starting MA parameters found. Using zeros as starting parameters.\n",
      "  warn('Non-invertible starting MA parameters found.'\n",
      "/home/xenos/Documents/masters/venv/lib/python3.11/site-packages/statsmodels/base/model.py:607: ConvergenceWarning: Maximum Likelihood optimization failed to converge. Check mle_retvals\n",
      "  warnings.warn(\"Maximum Likelihood optimization failed to \"\n",
      "/home/xenos/Documents/masters/venv/lib/python3.11/site-packages/statsmodels/tsa/statespace/sarimax.py:978: UserWarning: Non-invertible starting MA parameters found. Using zeros as starting parameters.\n",
      "  warn('Non-invertible starting MA parameters found.'\n",
      "/home/xenos/Documents/masters/venv/lib/python3.11/site-packages/statsmodels/tsa/statespace/sarimax.py:978: UserWarning: Non-invertible starting MA parameters found. Using zeros as starting parameters.\n",
      "  warn('Non-invertible starting MA parameters found.'\n",
      "/home/xenos/Documents/masters/venv/lib/python3.11/site-packages/statsmodels/base/model.py:607: ConvergenceWarning: Maximum Likelihood optimization failed to converge. Check mle_retvals\n",
      "  warnings.warn(\"Maximum Likelihood optimization failed to \"\n",
      "/home/xenos/Documents/masters/venv/lib/python3.11/site-packages/statsmodels/tsa/statespace/sarimax.py:978: UserWarning: Non-invertible starting MA parameters found. Using zeros as starting parameters.\n",
      "  warn('Non-invertible starting MA parameters found.'\n",
      "/home/xenos/Documents/masters/venv/lib/python3.11/site-packages/statsmodels/tsa/statespace/sarimax.py:978: UserWarning: Non-invertible starting MA parameters found. Using zeros as starting parameters.\n",
      "  warn('Non-invertible starting MA parameters found.'\n",
      "/home/xenos/Documents/masters/venv/lib/python3.11/site-packages/statsmodels/base/model.py:607: ConvergenceWarning: Maximum Likelihood optimization failed to converge. Check mle_retvals\n",
      "  warnings.warn(\"Maximum Likelihood optimization failed to \"\n",
      "/home/xenos/Documents/masters/venv/lib/python3.11/site-packages/statsmodels/base/model.py:607: ConvergenceWarning: Maximum Likelihood optimization failed to converge. Check mle_retvals\n",
      "  warnings.warn(\"Maximum Likelihood optimization failed to \"\n",
      "/home/xenos/Documents/masters/venv/lib/python3.11/site-packages/statsmodels/tsa/statespace/sarimax.py:978: UserWarning: Non-invertible starting MA parameters found. Using zeros as starting parameters.\n",
      "  warn('Non-invertible starting MA parameters found.'\n",
      "/home/xenos/Documents/masters/venv/lib/python3.11/site-packages/statsmodels/base/model.py:607: ConvergenceWarning: Maximum Likelihood optimization failed to converge. Check mle_retvals\n",
      "  warnings.warn(\"Maximum Likelihood optimization failed to \"\n",
      "/home/xenos/Documents/masters/venv/lib/python3.11/site-packages/statsmodels/base/model.py:607: ConvergenceWarning: Maximum Likelihood optimization failed to converge. Check mle_retvals\n",
      "  warnings.warn(\"Maximum Likelihood optimization failed to \"\n",
      "/home/xenos/Documents/masters/venv/lib/python3.11/site-packages/statsmodels/tsa/statespace/sarimax.py:978: UserWarning: Non-invertible starting MA parameters found. Using zeros as starting parameters.\n",
      "  warn('Non-invertible starting MA parameters found.'\n",
      "/home/xenos/Documents/masters/venv/lib/python3.11/site-packages/statsmodels/tsa/statespace/sarimax.py:978: UserWarning: Non-invertible starting MA parameters found. Using zeros as starting parameters.\n",
      "  warn('Non-invertible starting MA parameters found.'\n",
      "/home/xenos/Documents/masters/venv/lib/python3.11/site-packages/statsmodels/base/model.py:607: ConvergenceWarning: Maximum Likelihood optimization failed to converge. Check mle_retvals\n",
      "  warnings.warn(\"Maximum Likelihood optimization failed to \"\n",
      "/home/xenos/Documents/masters/venv/lib/python3.11/site-packages/statsmodels/base/model.py:607: ConvergenceWarning: Maximum Likelihood optimization failed to converge. Check mle_retvals\n",
      "  warnings.warn(\"Maximum Likelihood optimization failed to \"\n",
      "/home/xenos/Documents/masters/venv/lib/python3.11/site-packages/statsmodels/tsa/statespace/sarimax.py:978: UserWarning: Non-invertible starting MA parameters found. Using zeros as starting parameters.\n",
      "  warn('Non-invertible starting MA parameters found.'\n",
      "/home/xenos/Documents/masters/venv/lib/python3.11/site-packages/statsmodels/tsa/statespace/sarimax.py:966: UserWarning: Non-stationary starting autoregressive parameters found. Using zeros as starting parameters.\n",
      "  warn('Non-stationary starting autoregressive parameters'\n",
      "/home/xenos/Documents/masters/venv/lib/python3.11/site-packages/statsmodels/tsa/statespace/sarimax.py:978: UserWarning: Non-invertible starting MA parameters found. Using zeros as starting parameters.\n",
      "  warn('Non-invertible starting MA parameters found.'\n",
      "/home/xenos/Documents/masters/venv/lib/python3.11/site-packages/statsmodels/base/model.py:607: ConvergenceWarning: Maximum Likelihood optimization failed to converge. Check mle_retvals\n",
      "  warnings.warn(\"Maximum Likelihood optimization failed to \"\n",
      "/home/xenos/Documents/masters/venv/lib/python3.11/site-packages/statsmodels/tsa/statespace/sarimax.py:966: UserWarning: Non-stationary starting autoregressive parameters found. Using zeros as starting parameters.\n",
      "  warn('Non-stationary starting autoregressive parameters'\n",
      "/home/xenos/Documents/masters/venv/lib/python3.11/site-packages/statsmodels/tsa/statespace/sarimax.py:978: UserWarning: Non-invertible starting MA parameters found. Using zeros as starting parameters.\n",
      "  warn('Non-invertible starting MA parameters found.'\n",
      "/home/xenos/Documents/masters/venv/lib/python3.11/site-packages/statsmodels/base/model.py:607: ConvergenceWarning: Maximum Likelihood optimization failed to converge. Check mle_retvals\n",
      "  warnings.warn(\"Maximum Likelihood optimization failed to \"\n",
      "/home/xenos/Documents/masters/venv/lib/python3.11/site-packages/statsmodels/base/model.py:607: ConvergenceWarning: Maximum Likelihood optimization failed to converge. Check mle_retvals\n",
      "  warnings.warn(\"Maximum Likelihood optimization failed to \"\n",
      "/home/xenos/Documents/masters/venv/lib/python3.11/site-packages/statsmodels/tsa/statespace/sarimax.py:966: UserWarning: Non-stationary starting autoregressive parameters found. Using zeros as starting parameters.\n",
      "  warn('Non-stationary starting autoregressive parameters'\n",
      "/home/xenos/Documents/masters/venv/lib/python3.11/site-packages/statsmodels/tsa/statespace/sarimax.py:978: UserWarning: Non-invertible starting MA parameters found. Using zeros as starting parameters.\n",
      "  warn('Non-invertible starting MA parameters found.'\n",
      "/home/xenos/Documents/masters/venv/lib/python3.11/site-packages/statsmodels/tsa/statespace/sarimax.py:966: UserWarning: Non-stationary starting autoregressive parameters found. Using zeros as starting parameters.\n",
      "  warn('Non-stationary starting autoregressive parameters'\n",
      "/home/xenos/Documents/masters/venv/lib/python3.11/site-packages/statsmodels/tsa/statespace/sarimax.py:978: UserWarning: Non-invertible starting MA parameters found. Using zeros as starting parameters.\n",
      "  warn('Non-invertible starting MA parameters found.'\n",
      "/home/xenos/Documents/masters/venv/lib/python3.11/site-packages/statsmodels/base/model.py:607: ConvergenceWarning: Maximum Likelihood optimization failed to converge. Check mle_retvals\n",
      "  warnings.warn(\"Maximum Likelihood optimization failed to \"\n",
      "/home/xenos/Documents/masters/venv/lib/python3.11/site-packages/statsmodels/tsa/statespace/sarimax.py:966: UserWarning: Non-stationary starting autoregressive parameters found. Using zeros as starting parameters.\n",
      "  warn('Non-stationary starting autoregressive parameters'\n",
      "/home/xenos/Documents/masters/venv/lib/python3.11/site-packages/statsmodels/tsa/statespace/sarimax.py:978: UserWarning: Non-invertible starting MA parameters found. Using zeros as starting parameters.\n",
      "  warn('Non-invertible starting MA parameters found.'\n",
      "/home/xenos/Documents/masters/venv/lib/python3.11/site-packages/statsmodels/base/model.py:607: ConvergenceWarning: Maximum Likelihood optimization failed to converge. Check mle_retvals\n",
      "  warnings.warn(\"Maximum Likelihood optimization failed to \"\n",
      "/home/xenos/Documents/masters/venv/lib/python3.11/site-packages/statsmodels/tsa/statespace/sarimax.py:966: UserWarning: Non-stationary starting autoregressive parameters found. Using zeros as starting parameters.\n",
      "  warn('Non-stationary starting autoregressive parameters'\n",
      "/home/xenos/Documents/masters/venv/lib/python3.11/site-packages/statsmodels/tsa/statespace/sarimax.py:978: UserWarning: Non-invertible starting MA parameters found. Using zeros as starting parameters.\n",
      "  warn('Non-invertible starting MA parameters found.'\n",
      "/home/xenos/Documents/masters/venv/lib/python3.11/site-packages/statsmodels/tsa/statespace/sarimax.py:966: UserWarning: Non-stationary starting autoregressive parameters found. Using zeros as starting parameters.\n",
      "  warn('Non-stationary starting autoregressive parameters'\n",
      "/home/xenos/Documents/masters/venv/lib/python3.11/site-packages/statsmodels/tsa/statespace/sarimax.py:978: UserWarning: Non-invertible starting MA parameters found. Using zeros as starting parameters.\n",
      "  warn('Non-invertible starting MA parameters found.'\n",
      "/home/xenos/Documents/masters/venv/lib/python3.11/site-packages/statsmodels/base/model.py:607: ConvergenceWarning: Maximum Likelihood optimization failed to converge. Check mle_retvals\n",
      "  warnings.warn(\"Maximum Likelihood optimization failed to \"\n",
      "/home/xenos/Documents/masters/venv/lib/python3.11/site-packages/statsmodels/base/model.py:607: ConvergenceWarning: Maximum Likelihood optimization failed to converge. Check mle_retvals\n",
      "  warnings.warn(\"Maximum Likelihood optimization failed to \"\n",
      "/home/xenos/Documents/masters/venv/lib/python3.11/site-packages/statsmodels/tsa/statespace/sarimax.py:966: UserWarning: Non-stationary starting autoregressive parameters found. Using zeros as starting parameters.\n",
      "  warn('Non-stationary starting autoregressive parameters'\n",
      "/home/xenos/Documents/masters/venv/lib/python3.11/site-packages/statsmodels/tsa/statespace/sarimax.py:978: UserWarning: Non-invertible starting MA parameters found. Using zeros as starting parameters.\n",
      "  warn('Non-invertible starting MA parameters found.'\n",
      "/home/xenos/Documents/masters/venv/lib/python3.11/site-packages/statsmodels/tsa/statespace/sarimax.py:966: UserWarning: Non-stationary starting autoregressive parameters found. Using zeros as starting parameters.\n",
      "  warn('Non-stationary starting autoregressive parameters'\n",
      "/home/xenos/Documents/masters/venv/lib/python3.11/site-packages/statsmodels/tsa/statespace/sarimax.py:978: UserWarning: Non-invertible starting MA parameters found. Using zeros as starting parameters.\n",
      "  warn('Non-invertible starting MA parameters found.'\n",
      "/home/xenos/Documents/masters/venv/lib/python3.11/site-packages/statsmodels/base/model.py:607: ConvergenceWarning: Maximum Likelihood optimization failed to converge. Check mle_retvals\n",
      "  warnings.warn(\"Maximum Likelihood optimization failed to \"\n",
      "/home/xenos/Documents/masters/venv/lib/python3.11/site-packages/statsmodels/tsa/statespace/sarimax.py:966: UserWarning: Non-stationary starting autoregressive parameters found. Using zeros as starting parameters.\n",
      "  warn('Non-stationary starting autoregressive parameters'\n",
      "/home/xenos/Documents/masters/venv/lib/python3.11/site-packages/statsmodels/tsa/statespace/sarimax.py:978: UserWarning: Non-invertible starting MA parameters found. Using zeros as starting parameters.\n",
      "  warn('Non-invertible starting MA parameters found.'\n",
      "/home/xenos/Documents/masters/venv/lib/python3.11/site-packages/statsmodels/base/model.py:607: ConvergenceWarning: Maximum Likelihood optimization failed to converge. Check mle_retvals\n",
      "  warnings.warn(\"Maximum Likelihood optimization failed to \"\n",
      "/home/xenos/Documents/masters/venv/lib/python3.11/site-packages/statsmodels/base/model.py:607: ConvergenceWarning: Maximum Likelihood optimization failed to converge. Check mle_retvals\n",
      "  warnings.warn(\"Maximum Likelihood optimization failed to \"\n",
      "/home/xenos/Documents/masters/venv/lib/python3.11/site-packages/statsmodels/base/model.py:607: ConvergenceWarning: Maximum Likelihood optimization failed to converge. Check mle_retvals\n",
      "  warnings.warn(\"Maximum Likelihood optimization failed to \"\n",
      "/home/xenos/Documents/masters/venv/lib/python3.11/site-packages/statsmodels/base/model.py:607: ConvergenceWarning: Maximum Likelihood optimization failed to converge. Check mle_retvals\n",
      "  warnings.warn(\"Maximum Likelihood optimization failed to \"\n",
      "/home/xenos/Documents/masters/venv/lib/python3.11/site-packages/statsmodels/base/model.py:607: ConvergenceWarning: Maximum Likelihood optimization failed to converge. Check mle_retvals\n",
      "  warnings.warn(\"Maximum Likelihood optimization failed to \"\n",
      "/home/xenos/Documents/masters/venv/lib/python3.11/site-packages/statsmodels/tsa/statespace/sarimax.py:966: UserWarning: Non-stationary starting autoregressive parameters found. Using zeros as starting parameters.\n",
      "  warn('Non-stationary starting autoregressive parameters'\n",
      "/home/xenos/Documents/masters/venv/lib/python3.11/site-packages/statsmodels/tsa/statespace/sarimax.py:978: UserWarning: Non-invertible starting MA parameters found. Using zeros as starting parameters.\n",
      "  warn('Non-invertible starting MA parameters found.'\n",
      "/home/xenos/Documents/masters/venv/lib/python3.11/site-packages/statsmodels/base/model.py:607: ConvergenceWarning: Maximum Likelihood optimization failed to converge. Check mle_retvals\n",
      "  warnings.warn(\"Maximum Likelihood optimization failed to \"\n",
      "/home/xenos/Documents/masters/venv/lib/python3.11/site-packages/statsmodels/tsa/statespace/sarimax.py:966: UserWarning: Non-stationary starting autoregressive parameters found. Using zeros as starting parameters.\n",
      "  warn('Non-stationary starting autoregressive parameters'\n",
      "/home/xenos/Documents/masters/venv/lib/python3.11/site-packages/statsmodels/tsa/statespace/sarimax.py:978: UserWarning: Non-invertible starting MA parameters found. Using zeros as starting parameters.\n",
      "  warn('Non-invertible starting MA parameters found.'\n",
      "/home/xenos/Documents/masters/venv/lib/python3.11/site-packages/statsmodels/tsa/statespace/sarimax.py:966: UserWarning: Non-stationary starting autoregressive parameters found. Using zeros as starting parameters.\n",
      "  warn('Non-stationary starting autoregressive parameters'\n",
      "/home/xenos/Documents/masters/venv/lib/python3.11/site-packages/statsmodels/tsa/statespace/sarimax.py:978: UserWarning: Non-invertible starting MA parameters found. Using zeros as starting parameters.\n",
      "  warn('Non-invertible starting MA parameters found.'\n",
      "/home/xenos/Documents/masters/venv/lib/python3.11/site-packages/statsmodels/base/model.py:607: ConvergenceWarning: Maximum Likelihood optimization failed to converge. Check mle_retvals\n",
      "  warnings.warn(\"Maximum Likelihood optimization failed to \"\n",
      "/home/xenos/Documents/masters/venv/lib/python3.11/site-packages/statsmodels/base/model.py:607: ConvergenceWarning: Maximum Likelihood optimization failed to converge. Check mle_retvals\n",
      "  warnings.warn(\"Maximum Likelihood optimization failed to \"\n",
      "/home/xenos/Documents/masters/venv/lib/python3.11/site-packages/statsmodels/tsa/statespace/sarimax.py:966: UserWarning: Non-stationary starting autoregressive parameters found. Using zeros as starting parameters.\n",
      "  warn('Non-stationary starting autoregressive parameters'\n",
      "/home/xenos/Documents/masters/venv/lib/python3.11/site-packages/statsmodels/tsa/statespace/sarimax.py:978: UserWarning: Non-invertible starting MA parameters found. Using zeros as starting parameters.\n",
      "  warn('Non-invertible starting MA parameters found.'\n",
      "/home/xenos/Documents/masters/venv/lib/python3.11/site-packages/statsmodels/base/model.py:607: ConvergenceWarning: Maximum Likelihood optimization failed to converge. Check mle_retvals\n",
      "  warnings.warn(\"Maximum Likelihood optimization failed to \"\n",
      "/home/xenos/Documents/masters/venv/lib/python3.11/site-packages/statsmodels/tsa/statespace/sarimax.py:966: UserWarning: Non-stationary starting autoregressive parameters found. Using zeros as starting parameters.\n",
      "  warn('Non-stationary starting autoregressive parameters'\n",
      "/home/xenos/Documents/masters/venv/lib/python3.11/site-packages/statsmodels/tsa/statespace/sarimax.py:978: UserWarning: Non-invertible starting MA parameters found. Using zeros as starting parameters.\n",
      "  warn('Non-invertible starting MA parameters found.'\n",
      "/home/xenos/Documents/masters/venv/lib/python3.11/site-packages/statsmodels/tsa/statespace/sarimax.py:966: UserWarning: Non-stationary starting autoregressive parameters found. Using zeros as starting parameters.\n",
      "  warn('Non-stationary starting autoregressive parameters'\n",
      "/home/xenos/Documents/masters/venv/lib/python3.11/site-packages/statsmodels/tsa/statespace/sarimax.py:978: UserWarning: Non-invertible starting MA parameters found. Using zeros as starting parameters.\n",
      "  warn('Non-invertible starting MA parameters found.'\n",
      "/home/xenos/Documents/masters/venv/lib/python3.11/site-packages/statsmodels/base/model.py:607: ConvergenceWarning: Maximum Likelihood optimization failed to converge. Check mle_retvals\n",
      "  warnings.warn(\"Maximum Likelihood optimization failed to \"\n",
      "/home/xenos/Documents/masters/venv/lib/python3.11/site-packages/statsmodels/base/model.py:607: ConvergenceWarning: Maximum Likelihood optimization failed to converge. Check mle_retvals\n",
      "  warnings.warn(\"Maximum Likelihood optimization failed to \"\n",
      "/home/xenos/Documents/masters/venv/lib/python3.11/site-packages/statsmodels/base/model.py:607: ConvergenceWarning: Maximum Likelihood optimization failed to converge. Check mle_retvals\n",
      "  warnings.warn(\"Maximum Likelihood optimization failed to \"\n",
      "/home/xenos/Documents/masters/venv/lib/python3.11/site-packages/statsmodels/tsa/statespace/sarimax.py:966: UserWarning: Non-stationary starting autoregressive parameters found. Using zeros as starting parameters.\n",
      "  warn('Non-stationary starting autoregressive parameters'\n",
      "/home/xenos/Documents/masters/venv/lib/python3.11/site-packages/statsmodels/tsa/statespace/sarimax.py:978: UserWarning: Non-invertible starting MA parameters found. Using zeros as starting parameters.\n",
      "  warn('Non-invertible starting MA parameters found.'\n",
      "/home/xenos/Documents/masters/venv/lib/python3.11/site-packages/statsmodels/tsa/statespace/sarimax.py:966: UserWarning: Non-stationary starting autoregressive parameters found. Using zeros as starting parameters.\n",
      "  warn('Non-stationary starting autoregressive parameters'\n",
      "/home/xenos/Documents/masters/venv/lib/python3.11/site-packages/statsmodels/tsa/statespace/sarimax.py:978: UserWarning: Non-invertible starting MA parameters found. Using zeros as starting parameters.\n",
      "  warn('Non-invertible starting MA parameters found.'\n",
      "/home/xenos/Documents/masters/venv/lib/python3.11/site-packages/statsmodels/base/model.py:607: ConvergenceWarning: Maximum Likelihood optimization failed to converge. Check mle_retvals\n",
      "  warnings.warn(\"Maximum Likelihood optimization failed to \"\n",
      "/home/xenos/Documents/masters/venv/lib/python3.11/site-packages/statsmodels/tsa/statespace/sarimax.py:966: UserWarning: Non-stationary starting autoregressive parameters found. Using zeros as starting parameters.\n",
      "  warn('Non-stationary starting autoregressive parameters'\n",
      "/home/xenos/Documents/masters/venv/lib/python3.11/site-packages/statsmodels/tsa/statespace/sarimax.py:978: UserWarning: Non-invertible starting MA parameters found. Using zeros as starting parameters.\n",
      "  warn('Non-invertible starting MA parameters found.'\n",
      "/home/xenos/Documents/masters/venv/lib/python3.11/site-packages/statsmodels/base/model.py:607: ConvergenceWarning: Maximum Likelihood optimization failed to converge. Check mle_retvals\n",
      "  warnings.warn(\"Maximum Likelihood optimization failed to \"\n",
      "/home/xenos/Documents/masters/venv/lib/python3.11/site-packages/statsmodels/base/model.py:607: ConvergenceWarning: Maximum Likelihood optimization failed to converge. Check mle_retvals\n",
      "  warnings.warn(\"Maximum Likelihood optimization failed to \"\n",
      "/home/xenos/Documents/masters/venv/lib/python3.11/site-packages/statsmodels/base/model.py:607: ConvergenceWarning: Maximum Likelihood optimization failed to converge. Check mle_retvals\n",
      "  warnings.warn(\"Maximum Likelihood optimization failed to \"\n",
      "/home/xenos/Documents/masters/venv/lib/python3.11/site-packages/statsmodels/base/model.py:607: ConvergenceWarning: Maximum Likelihood optimization failed to converge. Check mle_retvals\n",
      "  warnings.warn(\"Maximum Likelihood optimization failed to \"\n",
      "/home/xenos/Documents/masters/venv/lib/python3.11/site-packages/statsmodels/base/model.py:607: ConvergenceWarning: Maximum Likelihood optimization failed to converge. Check mle_retvals\n",
      "  warnings.warn(\"Maximum Likelihood optimization failed to \"\n",
      "/home/xenos/Documents/masters/venv/lib/python3.11/site-packages/statsmodels/base/model.py:607: ConvergenceWarning: Maximum Likelihood optimization failed to converge. Check mle_retvals\n",
      "  warnings.warn(\"Maximum Likelihood optimization failed to \"\n",
      "/home/xenos/Documents/masters/venv/lib/python3.11/site-packages/statsmodels/base/model.py:607: ConvergenceWarning: Maximum Likelihood optimization failed to converge. Check mle_retvals\n",
      "  warnings.warn(\"Maximum Likelihood optimization failed to \"\n",
      "/home/xenos/Documents/masters/venv/lib/python3.11/site-packages/statsmodels/base/model.py:607: ConvergenceWarning: Maximum Likelihood optimization failed to converge. Check mle_retvals\n",
      "  warnings.warn(\"Maximum Likelihood optimization failed to \"\n",
      "/home/xenos/Documents/masters/venv/lib/python3.11/site-packages/statsmodels/base/model.py:607: ConvergenceWarning: Maximum Likelihood optimization failed to converge. Check mle_retvals\n",
      "  warnings.warn(\"Maximum Likelihood optimization failed to \"\n",
      "/home/xenos/Documents/masters/venv/lib/python3.11/site-packages/statsmodels/base/model.py:607: ConvergenceWarning: Maximum Likelihood optimization failed to converge. Check mle_retvals\n",
      "  warnings.warn(\"Maximum Likelihood optimization failed to \"\n",
      "/home/xenos/Documents/masters/venv/lib/python3.11/site-packages/statsmodels/base/model.py:607: ConvergenceWarning: Maximum Likelihood optimization failed to converge. Check mle_retvals\n",
      "  warnings.warn(\"Maximum Likelihood optimization failed to \"\n",
      "/home/xenos/Documents/masters/venv/lib/python3.11/site-packages/statsmodels/base/model.py:607: ConvergenceWarning: Maximum Likelihood optimization failed to converge. Check mle_retvals\n",
      "  warnings.warn(\"Maximum Likelihood optimization failed to \"\n",
      "/home/xenos/Documents/masters/venv/lib/python3.11/site-packages/statsmodels/base/model.py:607: ConvergenceWarning: Maximum Likelihood optimization failed to converge. Check mle_retvals\n",
      "  warnings.warn(\"Maximum Likelihood optimization failed to \"\n",
      "/home/xenos/Documents/masters/venv/lib/python3.11/site-packages/statsmodels/base/model.py:607: ConvergenceWarning: Maximum Likelihood optimization failed to converge. Check mle_retvals\n",
      "  warnings.warn(\"Maximum Likelihood optimization failed to \"\n",
      "/home/xenos/Documents/masters/venv/lib/python3.11/site-packages/statsmodels/tsa/statespace/sarimax.py:966: UserWarning: Non-stationary starting autoregressive parameters found. Using zeros as starting parameters.\n",
      "  warn('Non-stationary starting autoregressive parameters'\n",
      "/home/xenos/Documents/masters/venv/lib/python3.11/site-packages/statsmodels/tsa/statespace/sarimax.py:978: UserWarning: Non-invertible starting MA parameters found. Using zeros as starting parameters.\n",
      "  warn('Non-invertible starting MA parameters found.'\n",
      "/home/xenos/Documents/masters/venv/lib/python3.11/site-packages/statsmodels/tsa/statespace/sarimax.py:966: UserWarning: Non-stationary starting autoregressive parameters found. Using zeros as starting parameters.\n",
      "  warn('Non-stationary starting autoregressive parameters'\n",
      "/home/xenos/Documents/masters/venv/lib/python3.11/site-packages/statsmodels/tsa/statespace/sarimax.py:978: UserWarning: Non-invertible starting MA parameters found. Using zeros as starting parameters.\n",
      "  warn('Non-invertible starting MA parameters found.'\n",
      "/home/xenos/Documents/masters/venv/lib/python3.11/site-packages/statsmodels/base/model.py:607: ConvergenceWarning: Maximum Likelihood optimization failed to converge. Check mle_retvals\n",
      "  warnings.warn(\"Maximum Likelihood optimization failed to \"\n",
      "/home/xenos/Documents/masters/venv/lib/python3.11/site-packages/statsmodels/tsa/statespace/sarimax.py:966: UserWarning: Non-stationary starting autoregressive parameters found. Using zeros as starting parameters.\n",
      "  warn('Non-stationary starting autoregressive parameters'\n",
      "/home/xenos/Documents/masters/venv/lib/python3.11/site-packages/statsmodels/tsa/statespace/sarimax.py:978: UserWarning: Non-invertible starting MA parameters found. Using zeros as starting parameters.\n",
      "  warn('Non-invertible starting MA parameters found.'\n",
      "/home/xenos/Documents/masters/venv/lib/python3.11/site-packages/statsmodels/base/model.py:607: ConvergenceWarning: Maximum Likelihood optimization failed to converge. Check mle_retvals\n",
      "  warnings.warn(\"Maximum Likelihood optimization failed to \"\n",
      "/home/xenos/Documents/masters/venv/lib/python3.11/site-packages/statsmodels/tsa/statespace/sarimax.py:966: UserWarning: Non-stationary starting autoregressive parameters found. Using zeros as starting parameters.\n",
      "  warn('Non-stationary starting autoregressive parameters'\n",
      "/home/xenos/Documents/masters/venv/lib/python3.11/site-packages/statsmodels/tsa/statespace/sarimax.py:978: UserWarning: Non-invertible starting MA parameters found. Using zeros as starting parameters.\n",
      "  warn('Non-invertible starting MA parameters found.'\n",
      "/home/xenos/Documents/masters/venv/lib/python3.11/site-packages/statsmodels/base/model.py:607: ConvergenceWarning: Maximum Likelihood optimization failed to converge. Check mle_retvals\n",
      "  warnings.warn(\"Maximum Likelihood optimization failed to \"\n",
      "/home/xenos/Documents/masters/venv/lib/python3.11/site-packages/statsmodels/tsa/statespace/sarimax.py:966: UserWarning: Non-stationary starting autoregressive parameters found. Using zeros as starting parameters.\n",
      "  warn('Non-stationary starting autoregressive parameters'\n",
      "/home/xenos/Documents/masters/venv/lib/python3.11/site-packages/statsmodels/tsa/statespace/sarimax.py:978: UserWarning: Non-invertible starting MA parameters found. Using zeros as starting parameters.\n",
      "  warn('Non-invertible starting MA parameters found.'\n",
      "/home/xenos/Documents/masters/venv/lib/python3.11/site-packages/statsmodels/base/model.py:607: ConvergenceWarning: Maximum Likelihood optimization failed to converge. Check mle_retvals\n",
      "  warnings.warn(\"Maximum Likelihood optimization failed to \"\n",
      "/home/xenos/Documents/masters/venv/lib/python3.11/site-packages/statsmodels/tsa/statespace/sarimax.py:966: UserWarning: Non-stationary starting autoregressive parameters found. Using zeros as starting parameters.\n",
      "  warn('Non-stationary starting autoregressive parameters'\n",
      "/home/xenos/Documents/masters/venv/lib/python3.11/site-packages/statsmodels/tsa/statespace/sarimax.py:978: UserWarning: Non-invertible starting MA parameters found. Using zeros as starting parameters.\n",
      "  warn('Non-invertible starting MA parameters found.'\n",
      "/home/xenos/Documents/masters/venv/lib/python3.11/site-packages/statsmodels/tsa/statespace/sarimax.py:966: UserWarning: Non-stationary starting autoregressive parameters found. Using zeros as starting parameters.\n",
      "  warn('Non-stationary starting autoregressive parameters'\n",
      "/home/xenos/Documents/masters/venv/lib/python3.11/site-packages/statsmodels/tsa/statespace/sarimax.py:978: UserWarning: Non-invertible starting MA parameters found. Using zeros as starting parameters.\n",
      "  warn('Non-invertible starting MA parameters found.'\n",
      "/home/xenos/Documents/masters/venv/lib/python3.11/site-packages/statsmodels/tsa/statespace/sarimax.py:966: UserWarning: Non-stationary starting autoregressive parameters found. Using zeros as starting parameters.\n",
      "  warn('Non-stationary starting autoregressive parameters'\n",
      "/home/xenos/Documents/masters/venv/lib/python3.11/site-packages/statsmodels/tsa/statespace/sarimax.py:978: UserWarning: Non-invertible starting MA parameters found. Using zeros as starting parameters.\n",
      "  warn('Non-invertible starting MA parameters found.'\n",
      "/home/xenos/Documents/masters/venv/lib/python3.11/site-packages/statsmodels/base/model.py:607: ConvergenceWarning: Maximum Likelihood optimization failed to converge. Check mle_retvals\n",
      "  warnings.warn(\"Maximum Likelihood optimization failed to \"\n",
      "/home/xenos/Documents/masters/venv/lib/python3.11/site-packages/statsmodels/tsa/statespace/sarimax.py:966: UserWarning: Non-stationary starting autoregressive parameters found. Using zeros as starting parameters.\n",
      "  warn('Non-stationary starting autoregressive parameters'\n",
      "/home/xenos/Documents/masters/venv/lib/python3.11/site-packages/statsmodels/tsa/statespace/sarimax.py:978: UserWarning: Non-invertible starting MA parameters found. Using zeros as starting parameters.\n",
      "  warn('Non-invertible starting MA parameters found.'\n",
      "/home/xenos/Documents/masters/venv/lib/python3.11/site-packages/statsmodels/tsa/statespace/sarimax.py:966: UserWarning: Non-stationary starting autoregressive parameters found. Using zeros as starting parameters.\n",
      "  warn('Non-stationary starting autoregressive parameters'\n",
      "/home/xenos/Documents/masters/venv/lib/python3.11/site-packages/statsmodels/tsa/statespace/sarimax.py:978: UserWarning: Non-invertible starting MA parameters found. Using zeros as starting parameters.\n",
      "  warn('Non-invertible starting MA parameters found.'\n",
      "/home/xenos/Documents/masters/venv/lib/python3.11/site-packages/statsmodels/tsa/statespace/sarimax.py:966: UserWarning: Non-stationary starting autoregressive parameters found. Using zeros as starting parameters.\n",
      "  warn('Non-stationary starting autoregressive parameters'\n",
      "/home/xenos/Documents/masters/venv/lib/python3.11/site-packages/statsmodels/tsa/statespace/sarimax.py:978: UserWarning: Non-invertible starting MA parameters found. Using zeros as starting parameters.\n",
      "  warn('Non-invertible starting MA parameters found.'\n",
      "/home/xenos/Documents/masters/venv/lib/python3.11/site-packages/statsmodels/base/model.py:607: ConvergenceWarning: Maximum Likelihood optimization failed to converge. Check mle_retvals\n",
      "  warnings.warn(\"Maximum Likelihood optimization failed to \"\n",
      "/home/xenos/Documents/masters/venv/lib/python3.11/site-packages/statsmodels/base/model.py:607: ConvergenceWarning: Maximum Likelihood optimization failed to converge. Check mle_retvals\n",
      "  warnings.warn(\"Maximum Likelihood optimization failed to \"\n",
      "/home/xenos/Documents/masters/venv/lib/python3.11/site-packages/statsmodels/tsa/statespace/sarimax.py:966: UserWarning: Non-stationary starting autoregressive parameters found. Using zeros as starting parameters.\n",
      "  warn('Non-stationary starting autoregressive parameters'\n",
      "/home/xenos/Documents/masters/venv/lib/python3.11/site-packages/statsmodels/tsa/statespace/sarimax.py:978: UserWarning: Non-invertible starting MA parameters found. Using zeros as starting parameters.\n",
      "  warn('Non-invertible starting MA parameters found.'\n",
      "/home/xenos/Documents/masters/venv/lib/python3.11/site-packages/statsmodels/tsa/statespace/sarimax.py:966: UserWarning: Non-stationary starting autoregressive parameters found. Using zeros as starting parameters.\n",
      "  warn('Non-stationary starting autoregressive parameters'\n",
      "/home/xenos/Documents/masters/venv/lib/python3.11/site-packages/statsmodels/tsa/statespace/sarimax.py:978: UserWarning: Non-invertible starting MA parameters found. Using zeros as starting parameters.\n",
      "  warn('Non-invertible starting MA parameters found.'\n",
      "/home/xenos/Documents/masters/venv/lib/python3.11/site-packages/statsmodels/tsa/statespace/sarimax.py:966: UserWarning: Non-stationary starting autoregressive parameters found. Using zeros as starting parameters.\n",
      "  warn('Non-stationary starting autoregressive parameters'\n",
      "/home/xenos/Documents/masters/venv/lib/python3.11/site-packages/statsmodels/tsa/statespace/sarimax.py:978: UserWarning: Non-invertible starting MA parameters found. Using zeros as starting parameters.\n",
      "  warn('Non-invertible starting MA parameters found.'\n",
      "/home/xenos/Documents/masters/venv/lib/python3.11/site-packages/statsmodels/base/model.py:607: ConvergenceWarning: Maximum Likelihood optimization failed to converge. Check mle_retvals\n",
      "  warnings.warn(\"Maximum Likelihood optimization failed to \"\n",
      "/home/xenos/Documents/masters/venv/lib/python3.11/site-packages/statsmodels/tsa/statespace/sarimax.py:966: UserWarning: Non-stationary starting autoregressive parameters found. Using zeros as starting parameters.\n",
      "  warn('Non-stationary starting autoregressive parameters'\n",
      "/home/xenos/Documents/masters/venv/lib/python3.11/site-packages/statsmodels/tsa/statespace/sarimax.py:978: UserWarning: Non-invertible starting MA parameters found. Using zeros as starting parameters.\n",
      "  warn('Non-invertible starting MA parameters found.'\n",
      "/home/xenos/Documents/masters/venv/lib/python3.11/site-packages/statsmodels/tsa/statespace/sarimax.py:966: UserWarning: Non-stationary starting autoregressive parameters found. Using zeros as starting parameters.\n",
      "  warn('Non-stationary starting autoregressive parameters'\n",
      "/home/xenos/Documents/masters/venv/lib/python3.11/site-packages/statsmodels/tsa/statespace/sarimax.py:978: UserWarning: Non-invertible starting MA parameters found. Using zeros as starting parameters.\n",
      "  warn('Non-invertible starting MA parameters found.'\n",
      "/home/xenos/Documents/masters/venv/lib/python3.11/site-packages/statsmodels/tsa/statespace/sarimax.py:966: UserWarning: Non-stationary starting autoregressive parameters found. Using zeros as starting parameters.\n",
      "  warn('Non-stationary starting autoregressive parameters'\n",
      "/home/xenos/Documents/masters/venv/lib/python3.11/site-packages/statsmodels/tsa/statespace/sarimax.py:978: UserWarning: Non-invertible starting MA parameters found. Using zeros as starting parameters.\n",
      "  warn('Non-invertible starting MA parameters found.'\n",
      "/home/xenos/Documents/masters/venv/lib/python3.11/site-packages/statsmodels/tsa/statespace/sarimax.py:966: UserWarning: Non-stationary starting autoregressive parameters found. Using zeros as starting parameters.\n",
      "  warn('Non-stationary starting autoregressive parameters'\n",
      "/home/xenos/Documents/masters/venv/lib/python3.11/site-packages/statsmodels/tsa/statespace/sarimax.py:978: UserWarning: Non-invertible starting MA parameters found. Using zeros as starting parameters.\n",
      "  warn('Non-invertible starting MA parameters found.'\n",
      "/home/xenos/Documents/masters/venv/lib/python3.11/site-packages/statsmodels/tsa/statespace/sarimax.py:966: UserWarning: Non-stationary starting autoregressive parameters found. Using zeros as starting parameters.\n",
      "  warn('Non-stationary starting autoregressive parameters'\n",
      "/home/xenos/Documents/masters/venv/lib/python3.11/site-packages/statsmodels/tsa/statespace/sarimax.py:978: UserWarning: Non-invertible starting MA parameters found. Using zeros as starting parameters.\n",
      "  warn('Non-invertible starting MA parameters found.'\n",
      "/home/xenos/Documents/masters/venv/lib/python3.11/site-packages/statsmodels/base/model.py:607: ConvergenceWarning: Maximum Likelihood optimization failed to converge. Check mle_retvals\n",
      "  warnings.warn(\"Maximum Likelihood optimization failed to \"\n",
      "/home/xenos/Documents/masters/venv/lib/python3.11/site-packages/statsmodels/base/model.py:607: ConvergenceWarning: Maximum Likelihood optimization failed to converge. Check mle_retvals\n",
      "  warnings.warn(\"Maximum Likelihood optimization failed to \"\n",
      "/home/xenos/Documents/masters/venv/lib/python3.11/site-packages/statsmodels/base/model.py:607: ConvergenceWarning: Maximum Likelihood optimization failed to converge. Check mle_retvals\n",
      "  warnings.warn(\"Maximum Likelihood optimization failed to \"\n",
      "/home/xenos/Documents/masters/venv/lib/python3.11/site-packages/statsmodels/base/model.py:607: ConvergenceWarning: Maximum Likelihood optimization failed to converge. Check mle_retvals\n",
      "  warnings.warn(\"Maximum Likelihood optimization failed to \"\n",
      "/home/xenos/Documents/masters/venv/lib/python3.11/site-packages/statsmodels/base/model.py:607: ConvergenceWarning: Maximum Likelihood optimization failed to converge. Check mle_retvals\n",
      "  warnings.warn(\"Maximum Likelihood optimization failed to \"\n",
      "/home/xenos/Documents/masters/venv/lib/python3.11/site-packages/statsmodels/base/model.py:607: ConvergenceWarning: Maximum Likelihood optimization failed to converge. Check mle_retvals\n",
      "  warnings.warn(\"Maximum Likelihood optimization failed to \"\n",
      "/home/xenos/Documents/masters/venv/lib/python3.11/site-packages/statsmodels/base/model.py:607: ConvergenceWarning: Maximum Likelihood optimization failed to converge. Check mle_retvals\n",
      "  warnings.warn(\"Maximum Likelihood optimization failed to \"\n",
      "/home/xenos/Documents/masters/venv/lib/python3.11/site-packages/statsmodels/base/model.py:607: ConvergenceWarning: Maximum Likelihood optimization failed to converge. Check mle_retvals\n",
      "  warnings.warn(\"Maximum Likelihood optimization failed to \"\n",
      "/home/xenos/Documents/masters/venv/lib/python3.11/site-packages/statsmodels/base/model.py:607: ConvergenceWarning: Maximum Likelihood optimization failed to converge. Check mle_retvals\n",
      "  warnings.warn(\"Maximum Likelihood optimization failed to \"\n"
     ]
    },
    {
     "name": "stdout",
     "output_type": "stream",
     "text": [
      "Estimating SARIMAX\n"
     ]
    },
    {
     "name": "stderr",
     "output_type": "stream",
     "text": [
      "/home/xenos/Documents/masters/venv/lib/python3.11/site-packages/statsmodels/base/model.py:607: ConvergenceWarning: Maximum Likelihood optimization failed to converge. Check mle_retvals\n",
      "  warnings.warn(\"Maximum Likelihood optimization failed to \"\n",
      "/home/xenos/Documents/masters/venv/lib/python3.11/site-packages/statsmodels/base/model.py:607: ConvergenceWarning: Maximum Likelihood optimization failed to converge. Check mle_retvals\n",
      "  warnings.warn(\"Maximum Likelihood optimization failed to \"\n",
      "/home/xenos/Documents/masters/venv/lib/python3.11/site-packages/statsmodels/base/model.py:607: ConvergenceWarning: Maximum Likelihood optimization failed to converge. Check mle_retvals\n",
      "  warnings.warn(\"Maximum Likelihood optimization failed to \"\n",
      "/home/xenos/Documents/masters/venv/lib/python3.11/site-packages/statsmodels/base/model.py:607: ConvergenceWarning: Maximum Likelihood optimization failed to converge. Check mle_retvals\n",
      "  warnings.warn(\"Maximum Likelihood optimization failed to \"\n",
      "/home/xenos/Documents/masters/venv/lib/python3.11/site-packages/statsmodels/base/model.py:607: ConvergenceWarning: Maximum Likelihood optimization failed to converge. Check mle_retvals\n",
      "  warnings.warn(\"Maximum Likelihood optimization failed to \"\n",
      "/home/xenos/Documents/masters/venv/lib/python3.11/site-packages/statsmodels/base/model.py:607: ConvergenceWarning: Maximum Likelihood optimization failed to converge. Check mle_retvals\n",
      "  warnings.warn(\"Maximum Likelihood optimization failed to \"\n",
      "/home/xenos/Documents/masters/venv/lib/python3.11/site-packages/statsmodels/base/model.py:607: ConvergenceWarning: Maximum Likelihood optimization failed to converge. Check mle_retvals\n",
      "  warnings.warn(\"Maximum Likelihood optimization failed to \"\n",
      "/home/xenos/Documents/masters/venv/lib/python3.11/site-packages/statsmodels/base/model.py:607: ConvergenceWarning: Maximum Likelihood optimization failed to converge. Check mle_retvals\n",
      "  warnings.warn(\"Maximum Likelihood optimization failed to \"\n",
      "/home/xenos/Documents/masters/venv/lib/python3.11/site-packages/statsmodels/base/model.py:607: ConvergenceWarning: Maximum Likelihood optimization failed to converge. Check mle_retvals\n",
      "  warnings.warn(\"Maximum Likelihood optimization failed to \"\n",
      "/home/xenos/Documents/masters/venv/lib/python3.11/site-packages/statsmodels/base/model.py:607: ConvergenceWarning: Maximum Likelihood optimization failed to converge. Check mle_retvals\n",
      "  warnings.warn(\"Maximum Likelihood optimization failed to \"\n",
      "/home/xenos/Documents/masters/venv/lib/python3.11/site-packages/statsmodels/base/model.py:607: ConvergenceWarning: Maximum Likelihood optimization failed to converge. Check mle_retvals\n",
      "  warnings.warn(\"Maximum Likelihood optimization failed to \"\n",
      "/home/xenos/Documents/masters/venv/lib/python3.11/site-packages/statsmodels/base/model.py:607: ConvergenceWarning: Maximum Likelihood optimization failed to converge. Check mle_retvals\n",
      "  warnings.warn(\"Maximum Likelihood optimization failed to \"\n",
      "/home/xenos/Documents/masters/venv/lib/python3.11/site-packages/statsmodels/base/model.py:607: ConvergenceWarning: Maximum Likelihood optimization failed to converge. Check mle_retvals\n",
      "  warnings.warn(\"Maximum Likelihood optimization failed to \"\n",
      "/home/xenos/Documents/masters/venv/lib/python3.11/site-packages/statsmodels/base/model.py:607: ConvergenceWarning: Maximum Likelihood optimization failed to converge. Check mle_retvals\n",
      "  warnings.warn(\"Maximum Likelihood optimization failed to \"\n",
      "/home/xenos/Documents/masters/venv/lib/python3.11/site-packages/statsmodels/base/model.py:607: ConvergenceWarning: Maximum Likelihood optimization failed to converge. Check mle_retvals\n",
      "  warnings.warn(\"Maximum Likelihood optimization failed to \"\n",
      "/home/xenos/Documents/masters/venv/lib/python3.11/site-packages/statsmodels/base/model.py:607: ConvergenceWarning: Maximum Likelihood optimization failed to converge. Check mle_retvals\n",
      "  warnings.warn(\"Maximum Likelihood optimization failed to \"\n",
      "/home/xenos/Documents/masters/venv/lib/python3.11/site-packages/statsmodels/base/model.py:607: ConvergenceWarning: Maximum Likelihood optimization failed to converge. Check mle_retvals\n",
      "  warnings.warn(\"Maximum Likelihood optimization failed to \"\n",
      "/home/xenos/Documents/masters/venv/lib/python3.11/site-packages/statsmodels/base/model.py:607: ConvergenceWarning: Maximum Likelihood optimization failed to converge. Check mle_retvals\n",
      "  warnings.warn(\"Maximum Likelihood optimization failed to \"\n",
      "/home/xenos/Documents/masters/venv/lib/python3.11/site-packages/statsmodels/base/model.py:607: ConvergenceWarning: Maximum Likelihood optimization failed to converge. Check mle_retvals\n",
      "  warnings.warn(\"Maximum Likelihood optimization failed to \"\n",
      "/home/xenos/Documents/masters/venv/lib/python3.11/site-packages/statsmodels/base/model.py:607: ConvergenceWarning: Maximum Likelihood optimization failed to converge. Check mle_retvals\n",
      "  warnings.warn(\"Maximum Likelihood optimization failed to \"\n",
      "/home/xenos/Documents/masters/venv/lib/python3.11/site-packages/statsmodels/base/model.py:607: ConvergenceWarning: Maximum Likelihood optimization failed to converge. Check mle_retvals\n",
      "  warnings.warn(\"Maximum Likelihood optimization failed to \"\n",
      "/home/xenos/Documents/masters/venv/lib/python3.11/site-packages/statsmodels/base/model.py:607: ConvergenceWarning: Maximum Likelihood optimization failed to converge. Check mle_retvals\n",
      "  warnings.warn(\"Maximum Likelihood optimization failed to \"\n",
      "/home/xenos/Documents/masters/venv/lib/python3.11/site-packages/statsmodels/base/model.py:607: ConvergenceWarning: Maximum Likelihood optimization failed to converge. Check mle_retvals\n",
      "  warnings.warn(\"Maximum Likelihood optimization failed to \"\n",
      "/home/xenos/Documents/masters/venv/lib/python3.11/site-packages/statsmodels/base/model.py:607: ConvergenceWarning: Maximum Likelihood optimization failed to converge. Check mle_retvals\n",
      "  warnings.warn(\"Maximum Likelihood optimization failed to \"\n",
      "/home/xenos/Documents/masters/venv/lib/python3.11/site-packages/statsmodels/base/model.py:607: ConvergenceWarning: Maximum Likelihood optimization failed to converge. Check mle_retvals\n",
      "  warnings.warn(\"Maximum Likelihood optimization failed to \"\n",
      "/home/xenos/Documents/masters/venv/lib/python3.11/site-packages/statsmodels/base/model.py:607: ConvergenceWarning: Maximum Likelihood optimization failed to converge. Check mle_retvals\n",
      "  warnings.warn(\"Maximum Likelihood optimization failed to \"\n",
      "/home/xenos/Documents/masters/venv/lib/python3.11/site-packages/statsmodels/base/model.py:607: ConvergenceWarning: Maximum Likelihood optimization failed to converge. Check mle_retvals\n",
      "  warnings.warn(\"Maximum Likelihood optimization failed to \"\n",
      "/home/xenos/Documents/masters/venv/lib/python3.11/site-packages/statsmodels/base/model.py:607: ConvergenceWarning: Maximum Likelihood optimization failed to converge. Check mle_retvals\n",
      "  warnings.warn(\"Maximum Likelihood optimization failed to \"\n",
      "/home/xenos/Documents/masters/venv/lib/python3.11/site-packages/statsmodels/base/model.py:607: ConvergenceWarning: Maximum Likelihood optimization failed to converge. Check mle_retvals\n",
      "  warnings.warn(\"Maximum Likelihood optimization failed to \"\n",
      "/home/xenos/Documents/masters/venv/lib/python3.11/site-packages/statsmodels/base/model.py:607: ConvergenceWarning: Maximum Likelihood optimization failed to converge. Check mle_retvals\n",
      "  warnings.warn(\"Maximum Likelihood optimization failed to \"\n",
      "/home/xenos/Documents/masters/venv/lib/python3.11/site-packages/statsmodels/base/model.py:607: ConvergenceWarning: Maximum Likelihood optimization failed to converge. Check mle_retvals\n",
      "  warnings.warn(\"Maximum Likelihood optimization failed to \"\n",
      "/home/xenos/Documents/masters/venv/lib/python3.11/site-packages/statsmodels/base/model.py:607: ConvergenceWarning: Maximum Likelihood optimization failed to converge. Check mle_retvals\n",
      "  warnings.warn(\"Maximum Likelihood optimization failed to \"\n",
      "/home/xenos/Documents/masters/venv/lib/python3.11/site-packages/statsmodels/base/model.py:607: ConvergenceWarning: Maximum Likelihood optimization failed to converge. Check mle_retvals\n",
      "  warnings.warn(\"Maximum Likelihood optimization failed to \"\n",
      "/home/xenos/Documents/masters/venv/lib/python3.11/site-packages/statsmodels/base/model.py:607: ConvergenceWarning: Maximum Likelihood optimization failed to converge. Check mle_retvals\n",
      "  warnings.warn(\"Maximum Likelihood optimization failed to \"\n",
      "/home/xenos/Documents/masters/venv/lib/python3.11/site-packages/statsmodels/base/model.py:607: ConvergenceWarning: Maximum Likelihood optimization failed to converge. Check mle_retvals\n",
      "  warnings.warn(\"Maximum Likelihood optimization failed to \"\n",
      "/home/xenos/Documents/masters/venv/lib/python3.11/site-packages/statsmodels/base/model.py:607: ConvergenceWarning: Maximum Likelihood optimization failed to converge. Check mle_retvals\n",
      "  warnings.warn(\"Maximum Likelihood optimization failed to \"\n",
      "/home/xenos/Documents/masters/venv/lib/python3.11/site-packages/statsmodels/base/model.py:607: ConvergenceWarning: Maximum Likelihood optimization failed to converge. Check mle_retvals\n",
      "  warnings.warn(\"Maximum Likelihood optimization failed to \"\n",
      "/home/xenos/Documents/masters/venv/lib/python3.11/site-packages/statsmodels/base/model.py:607: ConvergenceWarning: Maximum Likelihood optimization failed to converge. Check mle_retvals\n",
      "  warnings.warn(\"Maximum Likelihood optimization failed to \"\n",
      "/home/xenos/Documents/masters/venv/lib/python3.11/site-packages/statsmodels/base/model.py:607: ConvergenceWarning: Maximum Likelihood optimization failed to converge. Check mle_retvals\n",
      "  warnings.warn(\"Maximum Likelihood optimization failed to \"\n",
      "/home/xenos/Documents/masters/venv/lib/python3.11/site-packages/statsmodels/base/model.py:607: ConvergenceWarning: Maximum Likelihood optimization failed to converge. Check mle_retvals\n",
      "  warnings.warn(\"Maximum Likelihood optimization failed to \"\n",
      "/home/xenos/Documents/masters/venv/lib/python3.11/site-packages/statsmodels/base/model.py:607: ConvergenceWarning: Maximum Likelihood optimization failed to converge. Check mle_retvals\n",
      "  warnings.warn(\"Maximum Likelihood optimization failed to \"\n",
      "/home/xenos/Documents/masters/venv/lib/python3.11/site-packages/statsmodels/base/model.py:607: ConvergenceWarning: Maximum Likelihood optimization failed to converge. Check mle_retvals\n",
      "  warnings.warn(\"Maximum Likelihood optimization failed to \"\n",
      "/home/xenos/Documents/masters/venv/lib/python3.11/site-packages/statsmodels/base/model.py:607: ConvergenceWarning: Maximum Likelihood optimization failed to converge. Check mle_retvals\n",
      "  warnings.warn(\"Maximum Likelihood optimization failed to \"\n",
      "/home/xenos/Documents/masters/venv/lib/python3.11/site-packages/statsmodels/base/model.py:607: ConvergenceWarning: Maximum Likelihood optimization failed to converge. Check mle_retvals\n",
      "  warnings.warn(\"Maximum Likelihood optimization failed to \"\n",
      "/home/xenos/Documents/masters/venv/lib/python3.11/site-packages/statsmodels/base/model.py:607: ConvergenceWarning: Maximum Likelihood optimization failed to converge. Check mle_retvals\n",
      "  warnings.warn(\"Maximum Likelihood optimization failed to \"\n",
      "/home/xenos/Documents/masters/venv/lib/python3.11/site-packages/statsmodels/base/model.py:607: ConvergenceWarning: Maximum Likelihood optimization failed to converge. Check mle_retvals\n",
      "  warnings.warn(\"Maximum Likelihood optimization failed to \"\n",
      "/home/xenos/Documents/masters/venv/lib/python3.11/site-packages/statsmodels/base/model.py:607: ConvergenceWarning: Maximum Likelihood optimization failed to converge. Check mle_retvals\n",
      "  warnings.warn(\"Maximum Likelihood optimization failed to \"\n",
      "/home/xenos/Documents/masters/venv/lib/python3.11/site-packages/statsmodels/base/model.py:607: ConvergenceWarning: Maximum Likelihood optimization failed to converge. Check mle_retvals\n",
      "  warnings.warn(\"Maximum Likelihood optimization failed to \"\n",
      "/home/xenos/Documents/masters/venv/lib/python3.11/site-packages/statsmodels/base/model.py:607: ConvergenceWarning: Maximum Likelihood optimization failed to converge. Check mle_retvals\n",
      "  warnings.warn(\"Maximum Likelihood optimization failed to \"\n",
      "/home/xenos/Documents/masters/venv/lib/python3.11/site-packages/statsmodels/base/model.py:607: ConvergenceWarning: Maximum Likelihood optimization failed to converge. Check mle_retvals\n",
      "  warnings.warn(\"Maximum Likelihood optimization failed to \"\n",
      "/home/xenos/Documents/masters/venv/lib/python3.11/site-packages/statsmodels/base/model.py:607: ConvergenceWarning: Maximum Likelihood optimization failed to converge. Check mle_retvals\n",
      "  warnings.warn(\"Maximum Likelihood optimization failed to \"\n",
      "/home/xenos/Documents/masters/venv/lib/python3.11/site-packages/statsmodels/base/model.py:607: ConvergenceWarning: Maximum Likelihood optimization failed to converge. Check mle_retvals\n",
      "  warnings.warn(\"Maximum Likelihood optimization failed to \"\n",
      "/home/xenos/Documents/masters/venv/lib/python3.11/site-packages/statsmodels/base/model.py:607: ConvergenceWarning: Maximum Likelihood optimization failed to converge. Check mle_retvals\n",
      "  warnings.warn(\"Maximum Likelihood optimization failed to \"\n",
      "/home/xenos/Documents/masters/venv/lib/python3.11/site-packages/statsmodels/base/model.py:607: ConvergenceWarning: Maximum Likelihood optimization failed to converge. Check mle_retvals\n",
      "  warnings.warn(\"Maximum Likelihood optimization failed to \"\n",
      "/home/xenos/Documents/masters/venv/lib/python3.11/site-packages/statsmodels/base/model.py:607: ConvergenceWarning: Maximum Likelihood optimization failed to converge. Check mle_retvals\n",
      "  warnings.warn(\"Maximum Likelihood optimization failed to \"\n",
      "/home/xenos/Documents/masters/venv/lib/python3.11/site-packages/statsmodels/base/model.py:607: ConvergenceWarning: Maximum Likelihood optimization failed to converge. Check mle_retvals\n",
      "  warnings.warn(\"Maximum Likelihood optimization failed to \"\n",
      "/home/xenos/Documents/masters/venv/lib/python3.11/site-packages/statsmodels/base/model.py:607: ConvergenceWarning: Maximum Likelihood optimization failed to converge. Check mle_retvals\n",
      "  warnings.warn(\"Maximum Likelihood optimization failed to \"\n",
      "/home/xenos/Documents/masters/venv/lib/python3.11/site-packages/statsmodels/base/model.py:607: ConvergenceWarning: Maximum Likelihood optimization failed to converge. Check mle_retvals\n",
      "  warnings.warn(\"Maximum Likelihood optimization failed to \"\n",
      "/home/xenos/Documents/masters/venv/lib/python3.11/site-packages/statsmodels/base/model.py:607: ConvergenceWarning: Maximum Likelihood optimization failed to converge. Check mle_retvals\n",
      "  warnings.warn(\"Maximum Likelihood optimization failed to \"\n",
      "/home/xenos/Documents/masters/venv/lib/python3.11/site-packages/statsmodels/base/model.py:607: ConvergenceWarning: Maximum Likelihood optimization failed to converge. Check mle_retvals\n",
      "  warnings.warn(\"Maximum Likelihood optimization failed to \"\n",
      "/home/xenos/Documents/masters/venv/lib/python3.11/site-packages/statsmodels/base/model.py:607: ConvergenceWarning: Maximum Likelihood optimization failed to converge. Check mle_retvals\n",
      "  warnings.warn(\"Maximum Likelihood optimization failed to \"\n",
      "/home/xenos/Documents/masters/venv/lib/python3.11/site-packages/statsmodels/base/model.py:607: ConvergenceWarning: Maximum Likelihood optimization failed to converge. Check mle_retvals\n",
      "  warnings.warn(\"Maximum Likelihood optimization failed to \"\n",
      "/home/xenos/Documents/masters/venv/lib/python3.11/site-packages/statsmodels/base/model.py:607: ConvergenceWarning: Maximum Likelihood optimization failed to converge. Check mle_retvals\n",
      "  warnings.warn(\"Maximum Likelihood optimization failed to \"\n",
      "/home/xenos/Documents/masters/venv/lib/python3.11/site-packages/statsmodels/base/model.py:607: ConvergenceWarning: Maximum Likelihood optimization failed to converge. Check mle_retvals\n",
      "  warnings.warn(\"Maximum Likelihood optimization failed to \"\n",
      "/home/xenos/Documents/masters/venv/lib/python3.11/site-packages/statsmodels/base/model.py:607: ConvergenceWarning: Maximum Likelihood optimization failed to converge. Check mle_retvals\n",
      "  warnings.warn(\"Maximum Likelihood optimization failed to \"\n",
      "/home/xenos/Documents/masters/venv/lib/python3.11/site-packages/statsmodels/base/model.py:607: ConvergenceWarning: Maximum Likelihood optimization failed to converge. Check mle_retvals\n",
      "  warnings.warn(\"Maximum Likelihood optimization failed to \"\n",
      "/home/xenos/Documents/masters/venv/lib/python3.11/site-packages/statsmodels/base/model.py:607: ConvergenceWarning: Maximum Likelihood optimization failed to converge. Check mle_retvals\n",
      "  warnings.warn(\"Maximum Likelihood optimization failed to \"\n",
      "/home/xenos/Documents/masters/venv/lib/python3.11/site-packages/statsmodels/base/model.py:607: ConvergenceWarning: Maximum Likelihood optimization failed to converge. Check mle_retvals\n",
      "  warnings.warn(\"Maximum Likelihood optimization failed to \"\n",
      "/home/xenos/Documents/masters/venv/lib/python3.11/site-packages/statsmodels/base/model.py:607: ConvergenceWarning: Maximum Likelihood optimization failed to converge. Check mle_retvals\n",
      "  warnings.warn(\"Maximum Likelihood optimization failed to \"\n",
      "/home/xenos/Documents/masters/venv/lib/python3.11/site-packages/statsmodels/base/model.py:607: ConvergenceWarning: Maximum Likelihood optimization failed to converge. Check mle_retvals\n",
      "  warnings.warn(\"Maximum Likelihood optimization failed to \"\n",
      "/home/xenos/Documents/masters/venv/lib/python3.11/site-packages/statsmodels/base/model.py:607: ConvergenceWarning: Maximum Likelihood optimization failed to converge. Check mle_retvals\n",
      "  warnings.warn(\"Maximum Likelihood optimization failed to \"\n",
      "/home/xenos/Documents/masters/venv/lib/python3.11/site-packages/statsmodels/base/model.py:607: ConvergenceWarning: Maximum Likelihood optimization failed to converge. Check mle_retvals\n",
      "  warnings.warn(\"Maximum Likelihood optimization failed to \"\n",
      "/home/xenos/Documents/masters/venv/lib/python3.11/site-packages/statsmodels/base/model.py:607: ConvergenceWarning: Maximum Likelihood optimization failed to converge. Check mle_retvals\n",
      "  warnings.warn(\"Maximum Likelihood optimization failed to \"\n",
      "/home/xenos/Documents/masters/venv/lib/python3.11/site-packages/statsmodels/base/model.py:607: ConvergenceWarning: Maximum Likelihood optimization failed to converge. Check mle_retvals\n",
      "  warnings.warn(\"Maximum Likelihood optimization failed to \"\n",
      "/home/xenos/Documents/masters/venv/lib/python3.11/site-packages/statsmodels/base/model.py:607: ConvergenceWarning: Maximum Likelihood optimization failed to converge. Check mle_retvals\n",
      "  warnings.warn(\"Maximum Likelihood optimization failed to \"\n",
      "/home/xenos/Documents/masters/venv/lib/python3.11/site-packages/statsmodels/base/model.py:607: ConvergenceWarning: Maximum Likelihood optimization failed to converge. Check mle_retvals\n",
      "  warnings.warn(\"Maximum Likelihood optimization failed to \"\n",
      "/home/xenos/Documents/masters/venv/lib/python3.11/site-packages/statsmodels/base/model.py:607: ConvergenceWarning: Maximum Likelihood optimization failed to converge. Check mle_retvals\n",
      "  warnings.warn(\"Maximum Likelihood optimization failed to \"\n",
      "/home/xenos/Documents/masters/venv/lib/python3.11/site-packages/statsmodels/base/model.py:607: ConvergenceWarning: Maximum Likelihood optimization failed to converge. Check mle_retvals\n",
      "  warnings.warn(\"Maximum Likelihood optimization failed to \"\n",
      "/home/xenos/Documents/masters/venv/lib/python3.11/site-packages/statsmodels/base/model.py:607: ConvergenceWarning: Maximum Likelihood optimization failed to converge. Check mle_retvals\n",
      "  warnings.warn(\"Maximum Likelihood optimization failed to \"\n",
      "/home/xenos/Documents/masters/venv/lib/python3.11/site-packages/statsmodels/base/model.py:607: ConvergenceWarning: Maximum Likelihood optimization failed to converge. Check mle_retvals\n",
      "  warnings.warn(\"Maximum Likelihood optimization failed to \"\n",
      "/home/xenos/Documents/masters/venv/lib/python3.11/site-packages/statsmodels/base/model.py:607: ConvergenceWarning: Maximum Likelihood optimization failed to converge. Check mle_retvals\n",
      "  warnings.warn(\"Maximum Likelihood optimization failed to \"\n",
      "/home/xenos/Documents/masters/venv/lib/python3.11/site-packages/statsmodels/base/model.py:607: ConvergenceWarning: Maximum Likelihood optimization failed to converge. Check mle_retvals\n",
      "  warnings.warn(\"Maximum Likelihood optimization failed to \"\n",
      "/home/xenos/Documents/masters/venv/lib/python3.11/site-packages/statsmodels/base/model.py:607: ConvergenceWarning: Maximum Likelihood optimization failed to converge. Check mle_retvals\n",
      "  warnings.warn(\"Maximum Likelihood optimization failed to \"\n",
      "/home/xenos/Documents/masters/venv/lib/python3.11/site-packages/statsmodels/base/model.py:607: ConvergenceWarning: Maximum Likelihood optimization failed to converge. Check mle_retvals\n",
      "  warnings.warn(\"Maximum Likelihood optimization failed to \"\n",
      "/home/xenos/Documents/masters/venv/lib/python3.11/site-packages/statsmodels/base/model.py:607: ConvergenceWarning: Maximum Likelihood optimization failed to converge. Check mle_retvals\n",
      "  warnings.warn(\"Maximum Likelihood optimization failed to \"\n",
      "/home/xenos/Documents/masters/venv/lib/python3.11/site-packages/statsmodels/base/model.py:607: ConvergenceWarning: Maximum Likelihood optimization failed to converge. Check mle_retvals\n",
      "  warnings.warn(\"Maximum Likelihood optimization failed to \"\n",
      "/home/xenos/Documents/masters/venv/lib/python3.11/site-packages/statsmodels/base/model.py:607: ConvergenceWarning: Maximum Likelihood optimization failed to converge. Check mle_retvals\n",
      "  warnings.warn(\"Maximum Likelihood optimization failed to \"\n",
      "/home/xenos/Documents/masters/venv/lib/python3.11/site-packages/statsmodels/base/model.py:607: ConvergenceWarning: Maximum Likelihood optimization failed to converge. Check mle_retvals\n",
      "  warnings.warn(\"Maximum Likelihood optimization failed to \"\n",
      "/home/xenos/Documents/masters/venv/lib/python3.11/site-packages/statsmodels/base/model.py:607: ConvergenceWarning: Maximum Likelihood optimization failed to converge. Check mle_retvals\n",
      "  warnings.warn(\"Maximum Likelihood optimization failed to \"\n",
      "/home/xenos/Documents/masters/venv/lib/python3.11/site-packages/statsmodels/base/model.py:607: ConvergenceWarning: Maximum Likelihood optimization failed to converge. Check mle_retvals\n",
      "  warnings.warn(\"Maximum Likelihood optimization failed to \"\n",
      "/home/xenos/Documents/masters/venv/lib/python3.11/site-packages/statsmodels/base/model.py:607: ConvergenceWarning: Maximum Likelihood optimization failed to converge. Check mle_retvals\n",
      "  warnings.warn(\"Maximum Likelihood optimization failed to \"\n",
      "/home/xenos/Documents/masters/venv/lib/python3.11/site-packages/statsmodels/base/model.py:607: ConvergenceWarning: Maximum Likelihood optimization failed to converge. Check mle_retvals\n",
      "  warnings.warn(\"Maximum Likelihood optimization failed to \"\n",
      "/home/xenos/Documents/masters/venv/lib/python3.11/site-packages/statsmodels/base/model.py:607: ConvergenceWarning: Maximum Likelihood optimization failed to converge. Check mle_retvals\n",
      "  warnings.warn(\"Maximum Likelihood optimization failed to \"\n",
      "/home/xenos/Documents/masters/venv/lib/python3.11/site-packages/statsmodels/base/model.py:607: ConvergenceWarning: Maximum Likelihood optimization failed to converge. Check mle_retvals\n",
      "  warnings.warn(\"Maximum Likelihood optimization failed to \"\n",
      "/home/xenos/Documents/masters/venv/lib/python3.11/site-packages/statsmodels/base/model.py:607: ConvergenceWarning: Maximum Likelihood optimization failed to converge. Check mle_retvals\n",
      "  warnings.warn(\"Maximum Likelihood optimization failed to \"\n",
      "/home/xenos/Documents/masters/venv/lib/python3.11/site-packages/statsmodels/base/model.py:607: ConvergenceWarning: Maximum Likelihood optimization failed to converge. Check mle_retvals\n",
      "  warnings.warn(\"Maximum Likelihood optimization failed to \"\n",
      "/home/xenos/Documents/masters/venv/lib/python3.11/site-packages/statsmodels/base/model.py:607: ConvergenceWarning: Maximum Likelihood optimization failed to converge. Check mle_retvals\n",
      "  warnings.warn(\"Maximum Likelihood optimization failed to \"\n",
      "/home/xenos/Documents/masters/venv/lib/python3.11/site-packages/statsmodels/base/model.py:607: ConvergenceWarning: Maximum Likelihood optimization failed to converge. Check mle_retvals\n",
      "  warnings.warn(\"Maximum Likelihood optimization failed to \"\n",
      "/home/xenos/Documents/masters/venv/lib/python3.11/site-packages/statsmodels/base/model.py:607: ConvergenceWarning: Maximum Likelihood optimization failed to converge. Check mle_retvals\n",
      "  warnings.warn(\"Maximum Likelihood optimization failed to \"\n",
      "/home/xenos/Documents/masters/venv/lib/python3.11/site-packages/statsmodels/base/model.py:607: ConvergenceWarning: Maximum Likelihood optimization failed to converge. Check mle_retvals\n",
      "  warnings.warn(\"Maximum Likelihood optimization failed to \"\n",
      "/home/xenos/Documents/masters/venv/lib/python3.11/site-packages/statsmodels/base/model.py:607: ConvergenceWarning: Maximum Likelihood optimization failed to converge. Check mle_retvals\n",
      "  warnings.warn(\"Maximum Likelihood optimization failed to \"\n",
      "/home/xenos/Documents/masters/venv/lib/python3.11/site-packages/statsmodels/base/model.py:607: ConvergenceWarning: Maximum Likelihood optimization failed to converge. Check mle_retvals\n",
      "  warnings.warn(\"Maximum Likelihood optimization failed to \"\n",
      "/home/xenos/Documents/masters/venv/lib/python3.11/site-packages/statsmodels/base/model.py:607: ConvergenceWarning: Maximum Likelihood optimization failed to converge. Check mle_retvals\n",
      "  warnings.warn(\"Maximum Likelihood optimization failed to \"\n",
      "/home/xenos/Documents/masters/venv/lib/python3.11/site-packages/statsmodels/base/model.py:607: ConvergenceWarning: Maximum Likelihood optimization failed to converge. Check mle_retvals\n",
      "  warnings.warn(\"Maximum Likelihood optimization failed to \"\n",
      "/home/xenos/Documents/masters/venv/lib/python3.11/site-packages/statsmodels/base/model.py:607: ConvergenceWarning: Maximum Likelihood optimization failed to converge. Check mle_retvals\n",
      "  warnings.warn(\"Maximum Likelihood optimization failed to \"\n",
      "/home/xenos/Documents/masters/venv/lib/python3.11/site-packages/statsmodels/base/model.py:607: ConvergenceWarning: Maximum Likelihood optimization failed to converge. Check mle_retvals\n",
      "  warnings.warn(\"Maximum Likelihood optimization failed to \"\n",
      "/home/xenos/Documents/masters/venv/lib/python3.11/site-packages/statsmodels/base/model.py:607: ConvergenceWarning: Maximum Likelihood optimization failed to converge. Check mle_retvals\n",
      "  warnings.warn(\"Maximum Likelihood optimization failed to \"\n",
      "/home/xenos/Documents/masters/venv/lib/python3.11/site-packages/statsmodels/base/model.py:607: ConvergenceWarning: Maximum Likelihood optimization failed to converge. Check mle_retvals\n",
      "  warnings.warn(\"Maximum Likelihood optimization failed to \"\n",
      "/home/xenos/Documents/masters/venv/lib/python3.11/site-packages/statsmodels/base/model.py:607: ConvergenceWarning: Maximum Likelihood optimization failed to converge. Check mle_retvals\n",
      "  warnings.warn(\"Maximum Likelihood optimization failed to \"\n",
      "/home/xenos/Documents/masters/venv/lib/python3.11/site-packages/statsmodels/base/model.py:607: ConvergenceWarning: Maximum Likelihood optimization failed to converge. Check mle_retvals\n",
      "  warnings.warn(\"Maximum Likelihood optimization failed to \"\n"
     ]
    },
    {
     "name": "stdout",
     "output_type": "stream",
     "text": [
      "Extending train, one out MAE for validation: 0.13\n"
     ]
    }
   ],
   "source": [
    "pipe = TSForecastingPipeline()"
   ]
  },
  {
   "cell_type": "code",
   "execution_count": 210,
   "id": "46e166ae-bf14-4fd7-9f4e-ff21d515a624",
   "metadata": {
    "tags": []
   },
   "outputs": [],
   "source": [
    "trainval_results = pd.DataFrame(pipe.pred_trainval, columns=[\"Balanced_SARIMAX\"])\n",
    "\n",
    "trainval_resid = pd.concat([pipe.y_trainval, trainval_results, pipe.X_trainval], axis=1)\n",
    "\n",
    "trainval_resid[\"Balance_resid\"] = trainval_resid[\"Balance\"] - trainval_resid[\"Balanced_SARIMAX\"] "
   ]
  },
  {
   "cell_type": "code",
   "execution_count": 9,
   "id": "c05ff927-e675-4950-81bc-db5b1321add2",
   "metadata": {
    "tags": []
   },
   "outputs": [],
   "source": [
    "#feature importance"
   ]
  },
  {
   "cell_type": "markdown",
   "id": "7d3676ce-1a2a-46f8-bc27-2f5a4495d102",
   "metadata": {},
   "source": [
    "Filtered anomalies and fitted"
   ]
  },
  {
   "cell_type": "code",
   "execution_count": 212,
   "id": "762c88ff-a02b-4353-a051-85de9767c915",
   "metadata": {},
   "outputs": [
    {
     "data": {
      "text/plain": [
       "[<matplotlib.lines.Line2D at 0x7d34dd33c150>]"
      ]
     },
     "execution_count": 212,
     "metadata": {},
     "output_type": "execute_result"
    },
    {
     "data": {
      "image/png": "[encoded data removed]",
      "text/plain": [
       "<Figure size 1000x500 with 1 Axes>"
      ]
     },
     "metadata": {},
     "output_type": "display_data"
    }
   ],
   "source": [
    "plt.plot(trainval_resid[\"Balance\"], c = \"b\")\n",
    "plt.plot(trainval_resid[\"Balanced_SARIMAX\"], c = \"r\")"
   ]
  },
  {
   "cell_type": "markdown",
   "id": "7b337d70-6409-42b3-98ea-844f67777dd6",
   "metadata": {
    "tags": []
   },
   "source": [
    "# ElasticNet experiments"
   ]
  },
  {
   "cell_type": "code",
   "execution_count": 213,
   "id": "4c9387fa-3e64-425c-94d8-dc4a87c00d0a",
   "metadata": {
    "tags": []
   },
   "outputs": [
    {
     "name": "stderr",
     "output_type": "stream",
     "text": [
      "100%|███████████████████████████████████████████████████████████████████████| 41/41 [01:25<00:00,  2.09s/it]\n"
     ]
    }
   ],
   "source": [
    "data = trainval_resid.iloc[:-len(pipe.y_val_boost_test)].copy() #y_val_boost_test need for hyperopt lgbm selection\n",
    "ss = StandardScaler()\n",
    "target_col = \"Balance\"\n",
    "columns_to_drop = [\"Balance_resid\", \"Balanced_SARIMAX\"]\n",
    "\n",
    "data = data.drop(columns=columns_to_drop)\n",
    "\n",
    "def split_data_m_period(data, m=30):\n",
    "    months_periods = list(zip(np.arange(data.shape[0] % m, data.shape[0], m), np.arange(data.shape[0] % m + m, data.shape[0] + 1, m)))\n",
    "    data_months_periods = []\n",
    "    for start, end in months_periods:\n",
    "        data_months_periods.append(data.iloc[start:end])\n",
    "    return data_months_periods\n",
    "\n",
    "## we pick the hyper-parameters to generate the aritifical dataset\n",
    "m = 30 # month by month\n",
    "d = data.shape[1] - 1 # number of features \n",
    "M = data.shape[0] // m - 1 # number of bootstrap samples\n",
    "\n",
    "    \n",
    "data_months_periods = split_data_m_period(data, m)\n",
    "\n",
    "alpha = 0.05 # the level of significance for confidence intervals and hypothesis tests\n",
    "num_ratios=10\n",
    "num_alphas=10\n",
    "alphas=np.linspace(0.05, 0.95,num_alphas) # the first hyper-parameter of the elastic net\n",
    "ratios=np.linspace(0.01, 0.8,num_ratios)  # the second hyper-parameter of the elastic net\n",
    "Z_net=np.zeros((num_ratios, num_alphas, M, d),dtype=np.int8)\n",
    "errors_net=np.zeros((M, num_ratios, num_alphas))\n",
    "stabilities_net=np.zeros((num_ratios,num_alphas))\n",
    "errStab_net=np.zeros((num_ratios,num_alphas))\n",
    "numFeatSelected_net=np.zeros((M,num_ratios,num_alphas),dtype=np.int32)\n",
    "ss.fit(data.drop(columns=[target_col])) #for stabilization\n",
    "\n",
    "for i in tqdm(range(M)):\n",
    "    X_train, y_train = data_months_periods[i].drop(columns=[target_col]), data_months_periods[i][[target_col]]\n",
    "    X_test, y_test = data_months_periods[i + 1].drop(columns=[target_col]), data_months_periods[i + 1][[target_col]]\n",
    "    X_train = ss.transform(X_train)\n",
    "    X_test = ss.transform(X_test)\n",
    "    for k in range(num_ratios):\n",
    "        for l in range(num_alphas):\n",
    "            net = ElasticNet(alpha=alphas[l], l1_ratio=ratios[k], max_iter=500) ## we use elastic net\n",
    "            net.fit(X_train, y_train)\n",
    "            Z_net[k, l, i, net.coef_ != 0] = 1\n",
    "            numFeatSelected_net[i, k, l] = np.sum(Z_net[k, l, i],axis=0)    \n",
    "            y_pred = net.predict(X_test)    \n",
    "            errors_net[i, k, l] = metrics.mean_absolute_error(y_test, y_pred)\n",
    "\n",
    "meanError_net = np.mean(errors_net, 0)\n",
    "    \n",
    "for k in range(num_ratios):\n",
    "    for l in range(num_alphas):\n",
    "        # we use the stability package to get the stability estimate and its confidence intervals\n",
    "        res = st.confidenceIntervals(Z_net[k,l,], alpha=alpha)    \n",
    "        stabilities_net[k, l] = res['stability']\n",
    "        errStab_net[k, l] = stabilities_net[k, l] - res['lower']"
   ]
  },
  {
   "cell_type": "code",
   "execution_count": 214,
   "id": "9c220c08-d226-423a-ab10-ee3eaf7a2c17",
   "metadata": {
    "tags": []
   },
   "outputs": [
    {
     "data": {
      "text/plain": [
       "(10, 10)"
      ]
     },
     "execution_count": 214,
     "metadata": {},
     "output_type": "execute_result"
    }
   ],
   "source": [
    "errStab_net.shape"
   ]
  },
  {
   "cell_type": "code",
   "execution_count": 215,
   "id": "20344f56-589c-4e53-afb7-d4a1ac3bd4a1",
   "metadata": {
    "tags": []
   },
   "outputs": [
    {
     "data": {
      "image/png": "[encoded data removed]",
      "text/plain": [
       "<Figure size 1000x500 with 1 Axes>"
      ]
     },
     "metadata": {},
     "output_type": "display_data"
    }
   ],
   "source": [
    "import matplotlib.pyplot as plt\n",
    "plt.close()\n",
    "plt.figure()\n",
    "numFeatSelected_net[i, k, l]\n",
    "for k in range(num_ratios):\n",
    "    plt.plot(alphas,np.mean(numFeatSelected_net[:,k,:], axis=0), label=f\"{ratios[k]:.02f}\")\n",
    "plt.xlabel('alphas')\n",
    "plt.ylabel('num. Features selected against alpha for different L1-ratios')\n",
    "plt.title('Number of Features selected against the L1-Ratio in Elastic Net')\n",
    "plt.legend()\n",
    "plt.show()"
   ]
  },
  {
   "cell_type": "code",
   "execution_count": 216,
   "id": "5d20d59f-ccf3-4721-b3c6-52d2158459ba",
   "metadata": {
    "tags": []
   },
   "outputs": [
    {
     "data": {
      "image/png": "[encoded data removed]",
      "text/plain": [
       "<Figure size 1000x500 with 1 Axes>"
      ]
     },
     "metadata": {},
     "output_type": "display_data"
    }
   ],
   "source": [
    "plt.close()\n",
    "plt.figure()\n",
    "for k in range(num_ratios):\n",
    "    plt.errorbar(alphas, stabilities_net[k,:], yerr=errStab_net[k,:], label=f\"{ratios[k]:.02f}\")\n",
    "plt.xlabel('alpha')\n",
    "plt.ylabel('Stability')\n",
    "plt.legend()\n",
    "plt.title('Stability against alpha for different L1-ratios')\n",
    "plt.show()"
   ]
  },
  {
   "cell_type": "code",
   "execution_count": 217,
   "id": "cab2bac7-a3ea-4372-ac63-5cbd4caea82b",
   "metadata": {
    "tags": []
   },
   "outputs": [
    {
     "data": {
      "image/png": "[encoded data removed]",
      "text/plain": [
       "<Figure size 1000x500 with 1 Axes>"
      ]
     },
     "metadata": {},
     "output_type": "display_data"
    }
   ],
   "source": [
    "plt.close()\n",
    "plt.figure()\n",
    "for k in range(num_ratios):\n",
    "    plt.errorbar(meanError_net[k,:], stabilities_net[k,:],yerr=errStab_net[k,:], label=f\"{ratios[k]:.02f}\")\n",
    "plt.xlabel('Error')\n",
    "plt.ylabel('Stability')\n",
    "plt.title('Stability against Av. Test Error')\n",
    "plt.legend()\n",
    "plt.show()"
   ]
  },
  {
   "cell_type": "markdown",
   "id": "3dc34037-21c4-4e05-acc0-73412a28009e",
   "metadata": {},
   "source": [
    "# So we can use alpha = 0.2, ratio = 0.1 for ElasticNet"
   ]
  },
  {
   "cell_type": "code",
   "execution_count": 218,
   "id": "cb16e2bd-aecc-4df8-82d6-3132490425ba",
   "metadata": {
    "tags": []
   },
   "outputs": [],
   "source": [
    "class FeatureSelector():\n",
    "    def __init__(self, *args, **kwargs):\n",
    "        self.m = kwargs[\"m\"]\n",
    "    \n",
    "    def split_data_m_period(self, data_, m=30):\n",
    "        data = data_.copy()\n",
    "        months_periods = list(zip(np.arange(data.shape[0] % m, data.shape[0], m), np.arange(data.shape[0] % m + m, data.shape[0] + 1, m)))\n",
    "        data_months_periods = []\n",
    "        for start, end in months_periods:\n",
    "            data_months_periods.append(data.iloc[start:end])\n",
    "        return data_months_periods"
   ]
  },
  {
   "cell_type": "markdown",
   "id": "93c21ae7-e441-42a9-85aa-1c4f9d82eff4",
   "metadata": {
    "tags": []
   },
   "source": [
    "# EmbededSelector"
   ]
  },
  {
   "cell_type": "code",
   "execution_count": 219,
   "id": "8c17f272-cc24-4396-88ed-79d38c16bff6",
   "metadata": {
    "tags": []
   },
   "outputs": [],
   "source": [
    "class EmbededSelector(FeatureSelector):\n",
    "    \"\"\"\n",
    "    Here we use ElasticNet (l1)\n",
    "    \"\"\"\n",
    "    def __init__(self, m=30, alpha=0.05, alpha_elast=0.2, ratio_elast=0.1):\n",
    "        super().__init__(m=m)\n",
    "        self.alpha = alpha\n",
    "        self.alpha_elast = alpha_elast\n",
    "        self.ratio_elast = ratio_elast\n",
    "        self.model = ElasticNet(alpha=alpha_elast, l1_ratio=ratio_elast, max_iter=500) ## we use elastic net\n",
    "        self.ss = StandardScaler()\n",
    "        self.d = None\n",
    "        self.M = None\n",
    "        self.Z = None\n",
    "        self.errors = None\n",
    "        self.stabilities = None\n",
    "        self.errStab = None\n",
    "        self.numFeatSelected= None\n",
    "        self.meanError = None\n",
    "        self.data = None\n",
    "        self.data_months_periods = None\n",
    "        \n",
    "    def select(self, data, target_col=\"Balance_resid\", columns_to_drop = [\"Balance\"]):\n",
    "        self.data = data.drop(columns=columns_to_drop)\n",
    "        self.data_months_periods = self.split_data_m_period(self.data, m=self.m)\n",
    "        \n",
    "        self.d = self.data.shape[1] - 1 # number of features \n",
    "        self.M = (self.data.shape[0] // self.m) - 1 # number of bootstrap samples\n",
    "        self.Z=np.zeros((self.M, self.d),dtype=np.int8)\n",
    "        self.errors=np.zeros((self.M))\n",
    "        self.stabilities=0\n",
    "        self.errStab=0\n",
    "        self.numFeatSelected=np.zeros((self.M),dtype=np.int32)\n",
    "        self.ss.fit(self.data.drop(columns=[target_col])) #for stabilization. a bit leak\n",
    "        for i in tqdm(range(self.M)):\n",
    "            self.run_model(self.data_months_periods, i, target_col)\n",
    "            \n",
    "        self.meanError = np.mean(self.errors, 0)\n",
    "        self.res = st.confidenceIntervals(self.Z, alpha=self.alpha)\n",
    "        self.avg_num_feats = int(self.Z.sum(axis=1).mean())\n",
    "        self.stabilities = self.res['stability']\n",
    "        self.errStab = self.stabilities - self.res['lower']\n",
    "        \n",
    "    def run_model(self, data_months_periods_, i, target_col):\n",
    "        data_months_periods = data_months_periods_.copy()\n",
    "        X_train, y_train = data_months_periods[i].drop(columns=[target_col]), data_months_periods[i][[target_col]]\n",
    "        X_test, y_test = data_months_periods[i + 1].drop(columns=[target_col]), data_months_periods[i + 1][[target_col]]\n",
    "        X_train = self.ss.transform(X_train)\n",
    "        X_test = self.ss.transform(X_test)\n",
    "        self.model.fit(X_train, y_train)\n",
    "        self.Z[i, self.model.coef_ != 0] = 1\n",
    "        self.numFeatSelected[i] = np.sum(self.Z[i],axis=0)    \n",
    "        y_pred = self.model.predict(X_test)    \n",
    "        self.errors[i] = metrics.mean_absolute_error(y_test, y_pred)\n",
    "        \n",
    "    def show_results(self):\n",
    "        print(\"Stability result: \", self.res)\n",
    "        print(\"Num features selected:\", self.avg_num_feats)\n",
    "        _, num_votes, cols, df_stat = self.topk()\n",
    "        print(df_stat)\n",
    "            \n",
    "    def topk(self, k=50):\n",
    "        if k is None:\n",
    "            k = self.avg_num_feats\n",
    "        \n",
    "        num_votes = self.Z.sum(axis=0)\n",
    "        ind = np.argpartition(num_votes, -k)[-k:]\n",
    "        ind = ind[np.argsort(-num_votes[ind])]\n",
    "        cols = self.data.columns[ind]\n",
    "        \n",
    "        return ind, num_votes[ind], cols, pd.DataFrame([cols, list(num_votes[ind])], index=[\"Feature\", \"Num Votes\"]).T"
   ]
  },
  {
   "cell_type": "code",
   "execution_count": 220,
   "id": "35642b55-f56f-4c2a-9330-3def6b7662b0",
   "metadata": {
    "tags": []
   },
   "outputs": [],
   "source": [
    "data = trainval_resid.iloc[:-len(pipe.y_val_boost_test)].copy() #y_val_boost_test need for hyperopt lgbm selection\n",
    "ss = StandardScaler()\n",
    "target_col = \"Balance\"\n",
    "columns_to_drop = [\"Balance_resid\", \"Balanced_SARIMAX\"]"
   ]
  },
  {
   "cell_type": "code",
   "execution_count": 221,
   "id": "209849ef-747d-46a7-9c8e-8901c48fa483",
   "metadata": {
    "tags": []
   },
   "outputs": [
    {
     "name": "stderr",
     "output_type": "stream",
     "text": [
      "100%|███████████████████████████████████████████████████████████████████████| 41/41 [00:03<00:00, 11.01it/s]"
     ]
    },
    {
     "name": "stdout",
     "output_type": "stream",
     "text": [
      "Stability result:  {'stability': 0.11034638348305859, 'lower': 0.0903887505044575, 'upper': 0.13030401646165968}\n",
      "Num features selected: 20\n",
      "                                              Feature Num Votes\n",
      "0                                              Monday        15\n",
      "1    Balance__fft_coefficient__attr_\"angle\"__coeff_14        15\n",
      "2      Balance__fft_coefficient__attr_\"imag\"__coeff_7        14\n",
      "3     Balance__fft_coefficient__attr_\"imag\"__coeff_14        14\n",
      "4     Balance__fft_coefficient__attr_\"real\"__coeff_11        13\n",
      "5     Balance__fft_coefficient__attr_\"angle\"__coeff_6        13\n",
      "6                                            Thursday        12\n",
      "7      Balance__fft_coefficient__attr_\"real\"__coeff_7        12\n",
      "8                                             Tuesday        11\n",
      "9     Balance__fft_coefficient__attr_\"real\"__coeff_14        11\n",
      "10     Balance__fft_coefficient__attr_\"real\"__coeff_8        11\n",
      "11    Balance__fft_coefficient__attr_\"imag\"__coeff_12        11\n",
      "12   Balance__fft_coefficient__attr_\"angle\"__coeff_10        10\n",
      "13    Balance__fft_coefficient__attr_\"real\"__coeff_10        10\n",
      "14                                             payday        10\n",
      "15    Balance__fft_coefficient__attr_\"real\"__coeff_12        10\n",
      "16    Balance__fft_coefficient__attr_\"imag\"__coeff_15        10\n",
      "17   Balance__fft_coefficient__attr_\"angle\"__coeff_11         8\n",
      "18    Balance__fft_coefficient__attr_\"angle\"__coeff_5         8\n",
      "19    Balance__fft_coefficient__attr_\"angle\"__coeff_9         8\n",
      "20                                            holiday         8\n",
      "21    Balance__fft_coefficient__attr_\"real\"__coeff_13         8\n",
      "22     Balance__fft_coefficient__attr_\"imag\"__coeff_8         8\n",
      "23    Balance__fft_coefficient__attr_\"real\"__coeff_15         8\n",
      "24     Balance__fft_coefficient__attr_\"imag\"__coeff_6         8\n",
      "25    Balance__fft_coefficient__attr_\"angle\"__coeff_3         8\n",
      "26  Balance__agg_linear_trend__attr_\"stderr\"__chun...         8\n",
      "27                                            weekend         8\n",
      "28    Balance__fft_coefficient__attr_\"imag\"__coeff_11         8\n",
      "29  Balance__agg_linear_trend__attr_\"stderr\"__chun...         7\n",
      "30    Balance__fft_coefficient__attr_\"imag\"__coeff_13         7\n",
      "31   Balance__fft_coefficient__attr_\"angle\"__coeff_12         7\n",
      "32    Balance__fft_coefficient__attr_\"angle\"__coeff_4         7\n",
      "33   Balance__fft_coefficient__attr_\"angle\"__coeff_13         7\n",
      "34  Balance__energy_ratio_by_chunks__num_segments_...         7\n",
      "35                                             Firday         7\n",
      "36     Balance__fft_coefficient__attr_\"real\"__coeff_6         7\n",
      "37  Balance__energy_ratio_by_chunks__num_segments_...         7\n",
      "38    Balance__fft_coefficient__attr_\"imag\"__coeff_10         7\n",
      "39  Balance__augmented_dickey_fuller__attr_\"pvalue...         7\n",
      "40  Balance__agg_linear_trend__attr_\"rvalue\"__chun...         6\n",
      "41     Balance__fft_coefficient__attr_\"imag\"__coeff_9         6\n",
      "42                                         preholiday         6\n",
      "43  Balance__energy_ratio_by_chunks__num_segments_...         6\n",
      "44             Balance__lempel_ziv_complexity__bins_2         6\n",
      "45     Balance__fft_coefficient__attr_\"real\"__coeff_5         6\n",
      "46  Balance__energy_ratio_by_chunks__num_segments_...         6\n",
      "47  Balance__energy_ratio_by_chunks__num_segments_...         6\n",
      "48     Balance__fft_coefficient__attr_\"imag\"__coeff_2         6\n",
      "49    Balance__fft_coefficient__attr_\"angle\"__coeff_2         6\n"
     ]
    },
    {
     "name": "stderr",
     "output_type": "stream",
     "text": [
      "\n"
     ]
    }
   ],
   "source": [
    "emb_extractor = EmbededSelector()\n",
    "\n",
    "emb_extractor.select(data)\n",
    "\n",
    "emb_extractor.show_results()"
   ]
  },
  {
   "cell_type": "code",
   "execution_count": 222,
   "id": "cd4a0faa-c264-45ca-9895-ae33b2ead11b",
   "metadata": {
    "tags": []
   },
   "outputs": [],
   "source": [
    "_, _, _, df = emb_extractor.topk()"
   ]
  },
  {
   "cell_type": "markdown",
   "id": "3ef2426a-02c9-4716-895d-83fa606076db",
   "metadata": {},
   "source": [
    "# FilterSelector"
   ]
  },
  {
   "cell_type": "code",
   "execution_count": 224,
   "id": "ecdf5491-f462-4890-9f5e-e7ddebcae160",
   "metadata": {
    "tags": []
   },
   "outputs": [],
   "source": [
    "class FilterSelector(FeatureSelector):\n",
    "    \"\"\"\n",
    "    Here we use ElasticNet (l1)\n",
    "    \"\"\"\n",
    "    def __init__(self, m=30, alpha=0.05, max_feats=50):\n",
    "        super().__init__(m=m)\n",
    "        self.max_feats = max_feats\n",
    "        self.ss = StandardScaler()\n",
    "        self.d = None\n",
    "        self.M = None\n",
    "        self.Z = None\n",
    "        self.stabilities = None\n",
    "        self.errStab = None\n",
    "        self.data = None\n",
    "        self.data_months_periods = None\n",
    "        self.mutualInfos = None\n",
    "        self.alpha = alpha\n",
    "        \n",
    "    def select(self, data, target_col=\"Balance_resid\", columns_to_drop = [\"Balance\"]): #add to superclass\n",
    "        self.data = data.drop(columns=columns_to_drop)\n",
    "        self.data_months_periods = self.split_data_m_period(self.data, m=self.m)\n",
    "        \n",
    "        self.d = self.data.shape[1] - 1 # number of features \n",
    "        self.M = (self.data.shape[0] // self.m) - 1 # number of bootstrap samples\n",
    "        self.Z = np.zeros((self.M, self.d), dtype=np.int8)\n",
    "        self.stabilities = 0\n",
    "        self.errStab = 0\n",
    "        self.numFeatSelected = np.zeros((self.M),dtype=np.int32)\n",
    "        self.ss.fit(self.data.drop(columns=[target_col])) #for stabilization. a bit leak\n",
    "        for i in tqdm(range(self.M)):\n",
    "            self.run_model(self.data_months_periods, i, target_col)\n",
    "            \n",
    "        self.res = st.confidenceIntervals(self.Z, alpha=self.alpha)\n",
    "        self.avg_num_feats = int(self.Z.sum(axis=1).mean())\n",
    "        self.stabilities = self.res['stability']\n",
    "        self.errStab = self.stabilities - self.res['lower']\n",
    "        \n",
    "    def run_model(self, data_months_periods_, i, target_col): #add to superclass\n",
    "        data_months_periods = data_months_periods_.copy()\n",
    "        X_train, y_train = data_months_periods[i].drop(columns=[target_col]), data_months_periods[i][[target_col]]\n",
    "        X_train = self.ss.transform(X_train)\n",
    "        self.mutualInfos = utils.getMutualInfos(X_train, y_train.values.flatten())\n",
    "        \n",
    "        ind = np.argsort(self.mutualInfos)\n",
    "        topK = ind[range(self.d-1, self.d-1-self.max_feats, -1)] \n",
    "        self.Z[i, topK] = 1 \n",
    "        \n",
    "    def show_results(self): #add to superclass\n",
    "        print(\"Stability result: \", self.res)\n",
    "        print(\"Num features selected:\", self.avg_num_feats)\n",
    "        _, num_votes, cols, df_stat = self.topk()\n",
    "        print(df_stat)\n",
    "            \n",
    "    def topk(self, k=None):#add to superclass\n",
    "        if k is None:\n",
    "            k = self.max_feats\n",
    "        \n",
    "        num_votes = self.Z.sum(axis=0)\n",
    "        ind = np.argpartition(num_votes, -k)[-k:]\n",
    "        ind = ind[np.argsort(-num_votes[ind])]\n",
    "        cols = self.data.columns[ind]\n",
    "        \n",
    "        return ind, num_votes[ind], cols, pd.DataFrame([cols, list(num_votes[ind])], index=[\"Feature\", \"Num Votes\"]).T"
   ]
  },
  {
   "cell_type": "code",
   "execution_count": 225,
   "id": "8a71d75e-7ea3-41e5-9a1c-d92ce1a7b215",
   "metadata": {
    "tags": []
   },
   "outputs": [
    {
     "name": "stderr",
     "output_type": "stream",
     "text": [
      "100%|███████████████████████████████████████████████████████████████████████| 41/41 [00:41<00:00,  1.01s/it]"
     ]
    },
    {
     "name": "stdout",
     "output_type": "stream",
     "text": [
      "Stability result:  {'stability': 0.821408913754086, 'lower': 0.8010788705880294, 'upper': 0.8417389569201426}\n",
      "Num features selected: 50\n",
      "                                              Feature Num Votes\n",
      "0              Balance__ar_coefficient__coeff_0__k_10        41\n",
      "1              Balance__ar_coefficient__coeff_2__k_10        41\n",
      "2              Balance__ar_coefficient__coeff_3__k_10        41\n",
      "3              Balance__ar_coefficient__coeff_4__k_10        41\n",
      "4              Balance__ar_coefficient__coeff_5__k_10        41\n",
      "5              Balance__ar_coefficient__coeff_6__k_10        41\n",
      "6              Balance__ar_coefficient__coeff_7__k_10        41\n",
      "7              Balance__ar_coefficient__coeff_8__k_10        41\n",
      "8              Balance__ar_coefficient__coeff_9__k_10        41\n",
      "9             Balance__ar_coefficient__coeff_10__k_10        41\n",
      "10     Balance__fft_coefficient__attr_\"real\"__coeff_1        41\n",
      "11     Balance__fft_coefficient__attr_\"real\"__coeff_2        41\n",
      "12     Balance__fft_coefficient__attr_\"real\"__coeff_3        41\n",
      "13     Balance__fft_coefficient__attr_\"real\"__coeff_4        41\n",
      "14     Balance__fft_coefficient__attr_\"real\"__coeff_5        41\n",
      "15     Balance__fft_coefficient__attr_\"real\"__coeff_6        41\n",
      "16     Balance__fft_coefficient__attr_\"real\"__coeff_7        41\n",
      "17     Balance__fft_coefficient__attr_\"real\"__coeff_8        41\n",
      "18     Balance__fft_coefficient__attr_\"real\"__coeff_9        41\n",
      "19    Balance__fft_coefficient__attr_\"real\"__coeff_10        41\n",
      "20             Balance__ar_coefficient__coeff_1__k_10        41\n",
      "21               Balance__spkt_welch_density__coeff_8        41\n",
      "22     Balance__fft_coefficient__attr_\"imag\"__coeff_4        41\n",
      "23               Balance__spkt_welch_density__coeff_2        41\n",
      "24  Balance__cwt_coefficients__coeff_14__w_20__wid...        41\n",
      "25  Balance__cwt_coefficients__coeff_14__w_10__wid...        41\n",
      "26  Balance__cwt_coefficients__coeff_14__w_5__widt...        41\n",
      "27               Balance__spkt_welch_density__coeff_5        41\n",
      "28  Balance__cwt_coefficients__coeff_13__w_20__wid...        40\n",
      "29  Balance__cwt_coefficients__coeff_14__w_2__widt...        39\n",
      "30    Balance__fft_coefficient__attr_\"real\"__coeff_11        39\n",
      "31  Balance__cwt_coefficients__coeff_13__w_10__wid...        38\n",
      "32    Balance__fft_coefficient__attr_\"real\"__coeff_12        38\n",
      "33  Balance__cwt_coefficients__coeff_13__w_5__widt...        35\n",
      "34    Balance__fft_coefficient__attr_\"real\"__coeff_13        35\n",
      "35    Balance__fft_coefficient__attr_\"real\"__coeff_14        31\n",
      "36  Balance__cwt_coefficients__coeff_13__w_2__widt...        31\n",
      "37    Balance__fft_coefficient__attr_\"angle\"__coeff_4        30\n",
      "38     Balance__fft_coefficient__attr_\"abs\"__coeff_12        28\n",
      "39    Balance__fft_coefficient__attr_\"real\"__coeff_15        26\n",
      "40  Balance__change_quantiles__f_agg_\"mean\"__isabs...        26\n",
      "41  Balance__change_quantiles__f_agg_\"var\"__isabs_...        26\n",
      "42     Balance__fft_coefficient__attr_\"real\"__coeff_0        25\n",
      "43  Balance__change_quantiles__f_agg_\"mean\"__isabs...        24\n",
      "44  Balance__cwt_coefficients__coeff_12__w_20__wid...        24\n",
      "45     Balance__fft_coefficient__attr_\"abs\"__coeff_13        23\n",
      "46     Balance__fft_coefficient__attr_\"abs\"__coeff_11        22\n",
      "47    Balance__fft_coefficient__attr_\"angle\"__coeff_1        22\n",
      "48   Balance__fft_coefficient__attr_\"angle\"__coeff_15        22\n",
      "49     Balance__fft_coefficient__attr_\"imag\"__coeff_1        21\n"
     ]
    },
    {
     "name": "stderr",
     "output_type": "stream",
     "text": [
      "\n"
     ]
    }
   ],
   "source": [
    "fil_extractor = FilterSelector()\n",
    "\n",
    "fil_extractor.select(data)\n",
    "\n",
    "fil_extractor.show_results()"
   ]
  },
  {
   "cell_type": "code",
   "execution_count": 226,
   "id": "cc0e3ac8-93b4-41e5-92bb-8867c0b9a790",
   "metadata": {},
   "outputs": [],
   "source": [
    "# rfecv на lasso"
   ]
  },
  {
   "cell_type": "markdown",
   "id": "5214de31-59b8-41b0-95ce-2a7eb59357f0",
   "metadata": {},
   "source": [
    "# WrappedSelector"
   ]
  },
  {
   "cell_type": "code",
   "execution_count": 227,
   "id": "ca0ccadf-b94f-41a1-aba7-6656fc568b1b",
   "metadata": {
    "tags": []
   },
   "outputs": [],
   "source": [
    "class WrappedSelector(FeatureSelector):\n",
    "    \"\"\"\n",
    "    Here we use \n",
    "    \"\"\"\n",
    "    def __init__(self, m=30, alpha=0.05, max_feats=20, alpha_elast=0.2, ratio_elast=0.1):\n",
    "        super().__init__(m=m)\n",
    "        self.alpha = alpha\n",
    "        self.alpha_elast = alpha_elast\n",
    "        self.ratio_elast = ratio_elast\n",
    "        self.model = ElasticNet(alpha=alpha_elast, l1_ratio=ratio_elast, max_iter=500) ## we use elastic net\n",
    "        time_split = TimeSeriesSplit(n_splits=3)\n",
    "        self.selector = RFECV(estimator=self.model, step=1, cv=time_split, scoring='neg_mean_squared_error')\n",
    "        self.ss = StandardScaler()\n",
    "        self.d = None\n",
    "        self.M = None\n",
    "        self.Z = None\n",
    "        self.max_feats = max_feats\n",
    "        self.stabilities = None\n",
    "        self.errStab = None\n",
    "        self.numFeatSelected= None\n",
    "        self.data = None\n",
    "        self.data_months_periods = None\n",
    "        \n",
    "    def select(self, data, target_col=\"Balance_resid\", columns_to_drop = [\"Balance\"], cols_pool = None):\n",
    "        self.data = data.drop(columns=columns_to_drop)\n",
    "        self.data = self.data[[target_col] + cols_pool]\n",
    "        self.data_months_periods = self.split_data_m_period(self.data, m=self.m)\n",
    "        \n",
    "        self.d = self.data.shape[1] - 1 # number of features \n",
    "        self.M = (self.data.shape[0] // self.m) - 1 # number of bootstrap samples\n",
    "        self.Z=np.zeros((self.M, self.d),dtype=np.int8)\n",
    "        self.stabilities=0\n",
    "        self.errStab=0\n",
    "        self.numFeatSelected=np.zeros((self.M),dtype=np.int32)\n",
    "        self.ss.fit(self.data.drop(columns=[target_col])) #for stabilization. a bit leak\n",
    "        for i in tqdm(range(self.M)):\n",
    "            self.run_model(self.data_months_periods, i, target_col)\n",
    "            \n",
    "        self.res = st.confidenceIntervals(self.Z, alpha=self.alpha)\n",
    "        self.avg_num_feats = int(self.Z.sum(axis=1).mean())\n",
    "        self.stabilities = self.res['stability']\n",
    "        self.errStab = self.stabilities - self.res['lower']\n",
    "        \n",
    "    def run_model(self, data_months_periods_, i, target_col):\n",
    "        data_months_periods = data_months_periods_.copy()\n",
    "        X_train, y_train = data_months_periods[i].drop(columns=[target_col]), data_months_periods[i][[target_col]]\n",
    "        X_train = self.ss.transform(X_train)\n",
    "        #Cross Validation Definition\n",
    "        \n",
    "        \n",
    "        self.selector.fit(X_train, y_train)\n",
    "        \n",
    "        self.Z[i, self.selector.support_] = 1\n",
    "        self.numFeatSelected[i] = np.sum(self.Z[i],axis=0)    \n",
    "        \n",
    "        \n",
    "    def show_results(self):\n",
    "        print(\"Stability result: \", self.res)\n",
    "        print(\"Num features selected:\", self.avg_num_feats)\n",
    "        _, num_votes, cols, df_stat = self.topk()\n",
    "        print(df_stat)\n",
    "            \n",
    "    def topk(self, k=20):\n",
    "        if k is None:\n",
    "            k = self.max_feats\n",
    "        \n",
    "        num_votes = self.Z.sum(axis=0)\n",
    "        ind = np.argpartition(num_votes, -k)[-k:]\n",
    "        ind = ind[np.argsort(-num_votes[ind])]\n",
    "        cols = self.data.columns[ind]\n",
    "        \n",
    "        return ind, num_votes[ind], cols, pd.DataFrame([cols, list(num_votes[ind])], index=[\"Feature\", \"Num Votes\"]).T"
   ]
  },
  {
   "cell_type": "code",
   "execution_count": 228,
   "id": "2c09f85a-a9e6-440a-988c-91cb8b718c67",
   "metadata": {
    "tags": []
   },
   "outputs": [
    {
     "name": "stderr",
     "output_type": "stream",
     "text": [
      "100%|███████████████████████████████████████████████████████████████████████| 41/41 [00:11<00:00,  3.50it/s]"
     ]
    },
    {
     "name": "stdout",
     "output_type": "stream",
     "text": [
      "Stability result:  {'stability': 0.005447272108264567, 'lower': -0.010537888013756248, 'upper': 0.021432432230285382}\n",
      "Num features selected: 3\n",
      "                                              Feature Num Votes\n",
      "0     Balance__fft_coefficient__attr_\"angle\"__coeff_1         9\n",
      "1      Balance__fft_coefficient__attr_\"real\"__coeff_6         7\n",
      "2   Balance__cwt_coefficients__coeff_13__w_2__widt...         6\n",
      "3      Balance__fft_coefficient__attr_\"abs\"__coeff_12         5\n",
      "4              Balance__ar_coefficient__coeff_8__k_10         5\n",
      "5      Balance__fft_coefficient__attr_\"real\"__coeff_2         5\n",
      "6      Balance__fft_coefficient__attr_\"real\"__coeff_3         5\n",
      "7      Balance__fft_coefficient__attr_\"real\"__coeff_9         5\n",
      "8     Balance__fft_coefficient__attr_\"real\"__coeff_15         5\n",
      "9      Balance__fft_coefficient__attr_\"real\"__coeff_7         5\n",
      "10    Balance__fft_coefficient__attr_\"real\"__coeff_13         5\n",
      "11  Balance__cwt_coefficients__coeff_13__w_5__widt...         5\n",
      "12    Balance__fft_coefficient__attr_\"real\"__coeff_12         4\n",
      "13             Balance__ar_coefficient__coeff_5__k_10         4\n",
      "14  Balance__cwt_coefficients__coeff_13__w_10__wid...         4\n",
      "15               Balance__spkt_welch_density__coeff_8         4\n",
      "16     Balance__fft_coefficient__attr_\"abs\"__coeff_11         4\n",
      "17   Balance__fft_coefficient__attr_\"angle\"__coeff_15         4\n",
      "18    Balance__fft_coefficient__attr_\"real\"__coeff_14         4\n",
      "19     Balance__fft_coefficient__attr_\"real\"__coeff_5         4\n"
     ]
    },
    {
     "name": "stderr",
     "output_type": "stream",
     "text": [
      "\n"
     ]
    }
   ],
   "source": [
    "wrap_extractor = WrappedSelector()\n",
    "\n",
    "_, _, cols, _ = fil_extractor.topk(50)\n",
    "\n",
    "wrap_extractor.select(data, cols_pool=list(cols))\n",
    "\n",
    "wrap_extractor.show_results()"
   ]
  },
  {
   "cell_type": "code",
   "execution_count": 230,
   "id": "34bff929-a6a1-44b7-8217-81055e033db0",
   "metadata": {
    "tags": []
   },
   "outputs": [],
   "source": [
    "# выбираем пересечение всех топов\n",
    "_, _, cols_wrap, _ = wrap_extractor.topk(5) #качество хуже, поэтому берем только самый топ\n",
    "_, _, cols_fil, _ = fil_extractor.topk(30)\n",
    "_, _, cols_emb, _ = emb_extractor.topk(30)\n",
    "\n",
    "xgboost_features = list(set(cols_wrap)  | set(cols_fil) | set(cols_emb))\n",
    "\n",
    "data_xgboost_train = trainval_resid.iloc[-len(pipe.y_val): -len(pipe.y_val_boost_test)].copy()\n",
    "data_xgboost_val = trainval_resid.iloc[-len(pipe.y_val_boost_test):].copy()\n",
    "\n",
    "target_col=\"Balance_resid\"\n",
    "\n",
    "data_xgboost_train, y_train_lgb = data_xgboost_train.loc[:, xgboost_features], data_xgboost_train.loc[:, target_col]\n",
    "data_xgboost_val, y_val_lgb = data_xgboost_val.loc[:, xgboost_features], data_xgboost_val.loc[:, target_col]\n",
    "ss = StandardScaler()\n",
    "data_xgboost_train = ss.fit_transform(data_xgboost_train)\n",
    "data_xgboost_val = ss.transform(data_xgboost_val)\n",
    "train_data = lgb.Dataset(data_xgboost_train, label=y_train_lgb)\n",
    "valid_data = lgb.Dataset(data_xgboost_val, label=y_val_lgb)"
   ]
  },
  {
   "cell_type": "markdown",
   "id": "2ea1c61b-3d7e-43dc-8174-42c7b6c777dd",
   "metadata": {},
   "source": [
    "# Подбор гиперпараметров lgbm на resid от sarimax"
   ]
  },
  {
   "cell_type": "code",
   "execution_count": 231,
   "id": "fc1b0a36-eba6-4090-8ece-81988b3bdeb4",
   "metadata": {
    "tags": []
   },
   "outputs": [],
   "source": [
    "def objective_lgbm(trial):\n",
    "    param = { \n",
    "        'verbose': -1,\n",
    "        'metric': 'mae',\n",
    "        'random_state': 42,\n",
    "        'n_estimators': trial.suggest_int('n_estimators', 10, 1000),\n",
    "        'reg_alpha': trial.suggest_float('reg_alpha', 1e-3, 10.0, log=True),\n",
    "        'reg_lambda': trial.suggest_float('reg_lambda', 1e-3, 10.0, log=True),\n",
    "        'colsample_bytree': trial.suggest_float('colsample_bytree', 0.3, 1.0),\n",
    "        'subsample': trial.suggest_float('subsample', 0.4, 1.0),\n",
    "        'learning_rate': trial.suggest_float('learning_rate', 1e-6, 1e-2, log=True),\n",
    "        'max_depth': trial.suggest_int('max_depth', 1, 100),\n",
    "        'num_leaves' : trial.suggest_int('num_leaves', 2, 1000),\n",
    "        'cat_smooth' : trial.suggest_int('min_data_per_groups', 1, 100)\n",
    "    }\n",
    "    \n",
    "    \n",
    "    \n",
    "    gbm = lgb.train(param, train_data, valid_sets=[valid_data])\n",
    "    print(gbm.best_score.keys())\n",
    "    return gbm.best_score['valid_0']['l1']\n"
   ]
  },
  {
   "cell_type": "code",
   "execution_count": 232,
   "id": "2e95fc22-74d5-4c1a-a933-049c6444933c",
   "metadata": {
    "scrolled": true,
    "tags": []
   },
   "outputs": [
    {
     "name": "stderr",
     "output_type": "stream",
     "text": [
      "[I 2024-04-16 02:37:33,952] A new study created in memory with name: no-name-198079ab-462b-4f64-866d-77dac6f016c8\n"
     ]
    },
    {
     "data": {
      "application/vnd.jupyter.widget-view+json": {
       "model_id": "c062ba64b2664b6e90501c329bc22276",
       "version_major": 2,
       "version_minor": 0
      },
      "text/plain": [
       "  0%|          | 0/100 [00:00<?, ?it/s]"
      ]
     },
     "metadata": {},
     "output_type": "display_data"
    },
    {
     "name": "stdout",
     "output_type": "stream",
     "text": [
      "dict_keys(['valid_0'])\n",
      "[I 2024-04-16 02:40:30,028] Trial 0 finished with value: 0.12009240073761376 and parameters: {'n_estimators': 802, 'reg_alpha': 0.02140068387858814, 'reg_lambda': 8.635300597231799, 'colsample_bytree': 0.4905840275786713, 'subsample': 0.8407895069441573, 'learning_rate': 0.0008381749565970547, 'max_depth': 93, 'num_leaves': 229, 'min_data_per_groups': 65}. Best is trial 0 with value: 0.12009240073761376.\n",
      "dict_keys(['valid_0'])\n",
      "[I 2024-04-16 02:41:42,255] Trial 1 finished with value: 0.12356567669659421 and parameters: {'n_estimators': 353, 'reg_alpha': 0.006866439305526995, 'reg_lambda': 0.015628008945276908, 'colsample_bytree': 0.6471496512973294, 'subsample': 0.9102081842702998, 'learning_rate': 0.007631424316271015, 'max_depth': 95, 'num_leaves': 876, 'min_data_per_groups': 59}. Best is trial 0 with value: 0.12009240073761376.\n",
      "dict_keys(['valid_0'])\n",
      "[I 2024-04-16 02:42:12,875] Trial 2 finished with value: 0.12221345105253786 and parameters: {'n_estimators': 161, 'reg_alpha': 1.7629962776159722, 'reg_lambda': 0.08628222000536971, 'colsample_bytree': 0.921519035161823, 'subsample': 0.526038288127761, 'learning_rate': 0.007766611482510224, 'max_depth': 80, 'num_leaves': 107, 'min_data_per_groups': 71}. Best is trial 0 with value: 0.12009240073761376.\n",
      "dict_keys(['valid_0'])\n",
      "[I 2024-04-16 02:45:17,227] Trial 3 finished with value: 0.12174044896827596 and parameters: {'n_estimators': 879, 'reg_alpha': 0.005801972138321792, 'reg_lambda': 2.415121826934699, 'colsample_bytree': 0.36029651012444563, 'subsample': 0.5837838678225548, 'learning_rate': 3.849319817498587e-05, 'max_depth': 36, 'num_leaves': 842, 'min_data_per_groups': 47}. Best is trial 0 with value: 0.12009240073761376.\n",
      "dict_keys(['valid_0'])\n",
      "[I 2024-04-16 02:46:21,160] Trial 4 finished with value: 0.12187337477142483 and parameters: {'n_estimators': 511, 'reg_alpha': 4.037152258148712, 'reg_lambda': 0.24985828384951378, 'colsample_bytree': 0.6589534528726249, 'subsample': 0.6129053596166678, 'learning_rate': 3.7712026759041637e-06, 'max_depth': 38, 'num_leaves': 932, 'min_data_per_groups': 62}. Best is trial 0 with value: 0.12009240073761376.\n",
      "dict_keys(['valid_0'])\n",
      "[I 2024-04-16 02:46:40,226] Trial 5 finished with value: 0.12187816560647258 and parameters: {'n_estimators': 743, 'reg_alpha': 4.148695914164396, 'reg_lambda': 0.010029617988862267, 'colsample_bytree': 0.4218669399309952, 'subsample': 0.9847766389815018, 'learning_rate': 2.241118868554083e-06, 'max_depth': 1, 'num_leaves': 169, 'min_data_per_groups': 93}. Best is trial 0 with value: 0.12009240073761376.\n",
      "dict_keys(['valid_0'])\n",
      "[I 2024-04-16 02:49:41,657] Trial 6 finished with value: 0.12054119762143854 and parameters: {'n_estimators': 936, 'reg_alpha': 0.005925506716559142, 'reg_lambda': 0.4579140504911773, 'colsample_bytree': 0.6648038732670967, 'subsample': 0.835546446847049, 'learning_rate': 0.00027718422867323116, 'max_depth': 15, 'num_leaves': 257, 'min_data_per_groups': 96}. Best is trial 0 with value: 0.12009240073761376.\n",
      "dict_keys(['valid_0'])\n",
      "[I 2024-04-16 02:52:34,532] Trial 7 finished with value: 0.12187406220787345 and parameters: {'n_estimators': 735, 'reg_alpha': 0.001492337235118342, 'reg_lambda': 0.20922729336024284, 'colsample_bytree': 0.3453664613232289, 'subsample': 0.500939454500565, 'learning_rate': 1.2158203510748156e-06, 'max_depth': 83, 'num_leaves': 269, 'min_data_per_groups': 39}. Best is trial 0 with value: 0.12009240073761376.\n",
      "dict_keys(['valid_0'])\n",
      "[I 2024-04-16 02:54:26,103] Trial 8 finished with value: 0.12186984413625615 and parameters: {'n_estimators': 548, 'reg_alpha': 0.0011459911811178495, 'reg_lambda': 0.3656087885932096, 'colsample_bytree': 0.5973779321166638, 'subsample': 0.6830831772571974, 'learning_rate': 2.107132874387413e-06, 'max_depth': 20, 'num_leaves': 575, 'min_data_per_groups': 95}. Best is trial 0 with value: 0.12009240073761376.\n",
      "dict_keys(['valid_0'])\n",
      "[I 2024-04-16 02:57:02,212] Trial 9 finished with value: 0.12163751799036224 and parameters: {'n_estimators': 726, 'reg_alpha': 0.3678796346844916, 'reg_lambda': 1.1662380827013072, 'colsample_bytree': 0.547256816246728, 'subsample': 0.6419088336197318, 'learning_rate': 6.829430425453723e-05, 'max_depth': 23, 'num_leaves': 828, 'min_data_per_groups': 4}. Best is trial 0 with value: 0.12009240073761376.\n",
      "dict_keys(['valid_0'])\n",
      "[I 2024-04-16 02:57:06,913] Trial 10 finished with value: 0.12180703420645757 and parameters: {'n_estimators': 24, 'reg_alpha': 0.059825051948990175, 'reg_lambda': 9.829935487143239, 'colsample_bytree': 0.8284968885468791, 'subsample': 0.7680399745417275, 'learning_rate': 0.0008198923984215831, 'max_depth': 70, 'num_leaves': 477, 'min_data_per_groups': 24}. Best is trial 0 with value: 0.12009240073761376.\n",
      "dict_keys(['valid_0'])\n",
      "[I 2024-04-16 03:00:24,023] Trial 11 finished with value: 0.12015355735121536 and parameters: {'n_estimators': 976, 'reg_alpha': 0.03196016821424578, 'reg_lambda': 0.0011999418586040066, 'colsample_bytree': 0.7607179241126747, 'subsample': 0.8144424015644347, 'learning_rate': 0.0005001053939496371, 'max_depth': 59, 'num_leaves': 338, 'min_data_per_groups': 76}. Best is trial 0 with value: 0.12009240073761376.\n",
      "dict_keys(['valid_0'])\n",
      "[I 2024-04-16 03:03:36,544] Trial 12 finished with value: 0.12141119796118736 and parameters: {'n_estimators': 976, 'reg_alpha': 0.05781031757126778, 'reg_lambda': 0.002804690302577638, 'colsample_bytree': 0.7684697187071828, 'subsample': 0.7911216778011505, 'learning_rate': 0.001127883302076479, 'max_depth': 57, 'num_leaves': 435, 'min_data_per_groups': 76}. Best is trial 0 with value: 0.12009240073761376.\n",
      "dict_keys(['valid_0'])\n",
      "[I 2024-04-16 03:06:02,364] Trial 13 finished with value: 0.11980651202146309 and parameters: {'n_estimators': 825, 'reg_alpha': 0.2114618890195174, 'reg_lambda': 0.0010597308489366543, 'colsample_bytree': 0.45774355449887955, 'subsample': 0.405918439488786, 'learning_rate': 0.0013364636388569656, 'max_depth': 100, 'num_leaves': 335, 'min_data_per_groups': 75}. Best is trial 13 with value: 0.11980651202146309.\n",
      "dict_keys(['valid_0'])\n",
      "[I 2024-04-16 03:08:02,502] Trial 14 finished with value: 0.12051306922793927 and parameters: {'n_estimators': 629, 'reg_alpha': 0.4613149129545524, 'reg_lambda': 0.034244351458757205, 'colsample_bytree': 0.48221757651822444, 'subsample': 0.4271699605230129, 'learning_rate': 0.0021321574666952944, 'max_depth': 98, 'num_leaves': 25, 'min_data_per_groups': 36}. Best is trial 13 with value: 0.11980651202146309.\n",
      "dict_keys(['valid_0'])\n",
      "[I 2024-04-16 03:09:13,497] Trial 15 finished with value: 0.12162443255182966 and parameters: {'n_estimators': 332, 'reg_alpha': 0.24733118992844694, 'reg_lambda': 9.474388063222037, 'colsample_bytree': 0.49006845510172653, 'subsample': 0.4001893322062941, 'learning_rate': 0.00018689427496836224, 'max_depth': 85, 'num_leaves': 630, 'min_data_per_groups': 79}. Best is trial 13 with value: 0.11980651202146309.\n",
      "dict_keys(['valid_0'])\n",
      "[I 2024-04-16 03:12:20,542] Trial 16 finished with value: 0.12102974871999223 and parameters: {'n_estimators': 825, 'reg_alpha': 0.021774106090192893, 'reg_lambda': 0.005187007564979098, 'colsample_bytree': 0.3077988698939935, 'subsample': 0.9080777303378103, 'learning_rate': 0.0030977819216142246, 'max_depth': 71, 'num_leaves': 369, 'min_data_per_groups': 63}. Best is trial 13 with value: 0.11980651202146309.\n",
      "dict_keys(['valid_0'])\n",
      "[I 2024-04-16 03:14:54,666] Trial 17 finished with value: 0.12181789386286337 and parameters: {'n_estimators': 633, 'reg_alpha': 0.14828233397514454, 'reg_lambda': 0.036412903971047836, 'colsample_bytree': 0.43027677792856694, 'subsample': 0.721356364703284, 'learning_rate': 1.6900727206947587e-05, 'max_depth': 99, 'num_leaves': 688, 'min_data_per_groups': 85}. Best is trial 13 with value: 0.11980651202146309.\n",
      "dict_keys(['valid_0'])\n",
      "[I 2024-04-16 03:16:18,980] Trial 18 finished with value: 0.12106960685322934 and parameters: {'n_estimators': 398, 'reg_alpha': 1.1988312365245706, 'reg_lambda': 1.6207072792209372, 'colsample_bytree': 0.5108827448488541, 'subsample': 0.8822877003103405, 'learning_rate': 0.0027112970774198627, 'max_depth': 71, 'num_leaves': 181, 'min_data_per_groups': 52}. Best is trial 13 with value: 0.11980651202146309.\n",
      "dict_keys(['valid_0'])\n",
      "[I 2024-04-16 03:19:19,083] Trial 19 finished with value: 0.12103223012237799 and parameters: {'n_estimators': 820, 'reg_alpha': 0.020508308515721097, 'reg_lambda': 0.0012123122246893315, 'colsample_bytree': 0.5764682788183368, 'subsample': 0.9743082239158065, 'learning_rate': 0.00016846710936844903, 'max_depth': 89, 'num_leaves': 29, 'min_data_per_groups': 23}. Best is trial 13 with value: 0.11980651202146309.\n",
      "dict_keys(['valid_0'])\n",
      "[I 2024-04-16 03:19:26,226] Trial 20 finished with value: 0.12187789136262958 and parameters: {'n_estimators': 632, 'reg_alpha': 9.666425432566326, 'reg_lambda': 3.350844154500879, 'colsample_bytree': 0.4200526142398639, 'subsample': 0.739695286143679, 'learning_rate': 0.0003616439870362468, 'max_depth': 46, 'num_leaves': 379, 'min_data_per_groups': 69}. Best is trial 13 with value: 0.11980651202146309.\n",
      "[W 2024-04-16 03:19:38,837] Trial 21 failed with parameters: {'n_estimators': 961, 'reg_alpha': 0.029423408953933597, 'reg_lambda': 0.0010731273033549227, 'colsample_bytree': 0.7732932915697284, 'subsample': 0.8280475760439685, 'learning_rate': 0.0007207632966683485, 'max_depth': 57, 'num_leaves': 297, 'min_data_per_groups': 86} because of the following error: KeyboardInterrupt().\n",
      "Traceback (most recent call last):\n",
      "  File \"/home/xenos/Documents/masters/venv/lib/python3.11/site-packages/optuna/study/_optimize.py\", line 196, in _run_trial\n",
      "    value_or_values = func(trial)\n",
      "                      ^^^^^^^^^^^\n",
      "  File \"/tmp/ipykernel_571734/4186406254.py\", line 19, in objective_lgbm\n",
      "    gbm = lgb.train(param, train_data, valid_sets=[valid_data])\n",
      "          ^^^^^^^^^^^^^^^^^^^^^^^^^^^^^^^^^^^^^^^^^^^^^^^^^^^^^\n",
      "  File \"/home/xenos/Documents/masters/venv/lib/python3.11/site-packages/lightgbm/engine.py\", line 276, in train\n",
      "    booster.update(fobj=fobj)\n",
      "  File \"/home/xenos/Documents/masters/venv/lib/python3.11/site-packages/lightgbm/basic.py\", line 3891, in update\n",
      "    _safe_call(_LIB.LGBM_BoosterUpdateOneIter(\n",
      "               ^^^^^^^^^^^^^^^^^^^^^^^^^^^^^^^\n",
      "KeyboardInterrupt\n",
      "[W 2024-04-16 03:19:38,840] Trial 21 failed with value None.\n"
     ]
    },
    {
     "ename": "KeyboardInterrupt",
     "evalue": "",
     "output_type": "error",
     "traceback": [
      "\u001b[0;31m---------------------------------------------------------------------------\u001b[0m",
      "\u001b[0;31mKeyboardInterrupt\u001b[0m                         Traceback (most recent call last)",
      "Cell \u001b[0;32mIn[232], line 6\u001b[0m\n\u001b[1;32m      1\u001b[0m pruner\u001b[38;5;241m=\u001b[39moptuna\u001b[38;5;241m.\u001b[39mpruners\u001b[38;5;241m.\u001b[39mMedianPruner(n_warmup_steps\u001b[38;5;241m=\u001b[39m\u001b[38;5;241m10\u001b[39m)\n\u001b[1;32m      3\u001b[0m study_lgbm \u001b[38;5;241m=\u001b[39m optuna\u001b[38;5;241m.\u001b[39mcreate_study(direction\u001b[38;5;241m=\u001b[39m\u001b[38;5;124m\"\u001b[39m\u001b[38;5;124mminimize\u001b[39m\u001b[38;5;124m\"\u001b[39m, \n\u001b[1;32m      4\u001b[0m                                  pruner\u001b[38;5;241m=\u001b[39mpruner\n\u001b[1;32m      5\u001b[0m                                 )\n\u001b[0;32m----> 6\u001b[0m \u001b[43mstudy_lgbm\u001b[49m\u001b[38;5;241;43m.\u001b[39;49m\u001b[43moptimize\u001b[49m\u001b[43m(\u001b[49m\u001b[43mobjective_lgbm\u001b[49m\u001b[43m,\u001b[49m\u001b[43m \u001b[49m\u001b[43mn_trials\u001b[49m\u001b[38;5;241;43m=\u001b[39;49m\u001b[38;5;241;43m100\u001b[39;49m\u001b[43m,\u001b[49m\u001b[43m \u001b[49m\u001b[43mshow_progress_bar\u001b[49m\u001b[38;5;241;43m=\u001b[39;49m\u001b[38;5;28;43;01mTrue\u001b[39;49;00m\u001b[43m)\u001b[49m\n",
      "File \u001b[0;32m~/Documents/masters/venv/lib/python3.11/site-packages/optuna/study/study.py:451\u001b[0m, in \u001b[0;36mStudy.optimize\u001b[0;34m(self, func, n_trials, timeout, n_jobs, catch, callbacks, gc_after_trial, show_progress_bar)\u001b[0m\n\u001b[1;32m    348\u001b[0m \u001b[38;5;28;01mdef\u001b[39;00m \u001b[38;5;21moptimize\u001b[39m(\n\u001b[1;32m    349\u001b[0m     \u001b[38;5;28mself\u001b[39m,\n\u001b[1;32m    350\u001b[0m     func: ObjectiveFuncType,\n\u001b[0;32m   (...)\u001b[0m\n\u001b[1;32m    357\u001b[0m     show_progress_bar: \u001b[38;5;28mbool\u001b[39m \u001b[38;5;241m=\u001b[39m \u001b[38;5;28;01mFalse\u001b[39;00m,\n\u001b[1;32m    358\u001b[0m ) \u001b[38;5;241m-\u001b[39m\u001b[38;5;241m>\u001b[39m \u001b[38;5;28;01mNone\u001b[39;00m:\n\u001b[1;32m    359\u001b[0m \u001b[38;5;250m    \u001b[39m\u001b[38;5;124;03m\"\"\"Optimize an objective function.\u001b[39;00m\n\u001b[1;32m    360\u001b[0m \n\u001b[1;32m    361\u001b[0m \u001b[38;5;124;03m    Optimization is done by choosing a suitable set of hyperparameter values from a given\u001b[39;00m\n\u001b[0;32m   (...)\u001b[0m\n\u001b[1;32m    449\u001b[0m \u001b[38;5;124;03m            If nested invocation of this method occurs.\u001b[39;00m\n\u001b[1;32m    450\u001b[0m \u001b[38;5;124;03m    \"\"\"\u001b[39;00m\n\u001b[0;32m--> 451\u001b[0m     \u001b[43m_optimize\u001b[49m\u001b[43m(\u001b[49m\n\u001b[1;32m    452\u001b[0m \u001b[43m        \u001b[49m\u001b[43mstudy\u001b[49m\u001b[38;5;241;43m=\u001b[39;49m\u001b[38;5;28;43mself\u001b[39;49m\u001b[43m,\u001b[49m\n\u001b[1;32m    453\u001b[0m \u001b[43m        \u001b[49m\u001b[43mfunc\u001b[49m\u001b[38;5;241;43m=\u001b[39;49m\u001b[43mfunc\u001b[49m\u001b[43m,\u001b[49m\n\u001b[1;32m    454\u001b[0m \u001b[43m        \u001b[49m\u001b[43mn_trials\u001b[49m\u001b[38;5;241;43m=\u001b[39;49m\u001b[43mn_trials\u001b[49m\u001b[43m,\u001b[49m\n\u001b[1;32m    455\u001b[0m \u001b[43m        \u001b[49m\u001b[43mtimeout\u001b[49m\u001b[38;5;241;43m=\u001b[39;49m\u001b[43mtimeout\u001b[49m\u001b[43m,\u001b[49m\n\u001b[1;32m    456\u001b[0m \u001b[43m        \u001b[49m\u001b[43mn_jobs\u001b[49m\u001b[38;5;241;43m=\u001b[39;49m\u001b[43mn_jobs\u001b[49m\u001b[43m,\u001b[49m\n\u001b[1;32m    457\u001b[0m \u001b[43m        \u001b[49m\u001b[43mcatch\u001b[49m\u001b[38;5;241;43m=\u001b[39;49m\u001b[38;5;28;43mtuple\u001b[39;49m\u001b[43m(\u001b[49m\u001b[43mcatch\u001b[49m\u001b[43m)\u001b[49m\u001b[43m \u001b[49m\u001b[38;5;28;43;01mif\u001b[39;49;00m\u001b[43m \u001b[49m\u001b[38;5;28;43misinstance\u001b[39;49m\u001b[43m(\u001b[49m\u001b[43mcatch\u001b[49m\u001b[43m,\u001b[49m\u001b[43m \u001b[49m\u001b[43mIterable\u001b[49m\u001b[43m)\u001b[49m\u001b[43m \u001b[49m\u001b[38;5;28;43;01melse\u001b[39;49;00m\u001b[43m \u001b[49m\u001b[43m(\u001b[49m\u001b[43mcatch\u001b[49m\u001b[43m,\u001b[49m\u001b[43m)\u001b[49m\u001b[43m,\u001b[49m\n\u001b[1;32m    458\u001b[0m \u001b[43m        \u001b[49m\u001b[43mcallbacks\u001b[49m\u001b[38;5;241;43m=\u001b[39;49m\u001b[43mcallbacks\u001b[49m\u001b[43m,\u001b[49m\n\u001b[1;32m    459\u001b[0m \u001b[43m        \u001b[49m\u001b[43mgc_after_trial\u001b[49m\u001b[38;5;241;43m=\u001b[39;49m\u001b[43mgc_after_trial\u001b[49m\u001b[43m,\u001b[49m\n\u001b[1;32m    460\u001b[0m \u001b[43m        \u001b[49m\u001b[43mshow_progress_bar\u001b[49m\u001b[38;5;241;43m=\u001b[39;49m\u001b[43mshow_progress_bar\u001b[49m\u001b[43m,\u001b[49m\n\u001b[1;32m    461\u001b[0m \u001b[43m    \u001b[49m\u001b[43m)\u001b[49m\n",
      "File \u001b[0;32m~/Documents/masters/venv/lib/python3.11/site-packages/optuna/study/_optimize.py:62\u001b[0m, in \u001b[0;36m_optimize\u001b[0;34m(study, func, n_trials, timeout, n_jobs, catch, callbacks, gc_after_trial, show_progress_bar)\u001b[0m\n\u001b[1;32m     60\u001b[0m \u001b[38;5;28;01mtry\u001b[39;00m:\n\u001b[1;32m     61\u001b[0m     \u001b[38;5;28;01mif\u001b[39;00m n_jobs \u001b[38;5;241m==\u001b[39m \u001b[38;5;241m1\u001b[39m:\n\u001b[0;32m---> 62\u001b[0m         \u001b[43m_optimize_sequential\u001b[49m\u001b[43m(\u001b[49m\n\u001b[1;32m     63\u001b[0m \u001b[43m            \u001b[49m\u001b[43mstudy\u001b[49m\u001b[43m,\u001b[49m\n\u001b[1;32m     64\u001b[0m \u001b[43m            \u001b[49m\u001b[43mfunc\u001b[49m\u001b[43m,\u001b[49m\n\u001b[1;32m     65\u001b[0m \u001b[43m            \u001b[49m\u001b[43mn_trials\u001b[49m\u001b[43m,\u001b[49m\n\u001b[1;32m     66\u001b[0m \u001b[43m            \u001b[49m\u001b[43mtimeout\u001b[49m\u001b[43m,\u001b[49m\n\u001b[1;32m     67\u001b[0m \u001b[43m            \u001b[49m\u001b[43mcatch\u001b[49m\u001b[43m,\u001b[49m\n\u001b[1;32m     68\u001b[0m \u001b[43m            \u001b[49m\u001b[43mcallbacks\u001b[49m\u001b[43m,\u001b[49m\n\u001b[1;32m     69\u001b[0m \u001b[43m            \u001b[49m\u001b[43mgc_after_trial\u001b[49m\u001b[43m,\u001b[49m\n\u001b[1;32m     70\u001b[0m \u001b[43m            \u001b[49m\u001b[43mreseed_sampler_rng\u001b[49m\u001b[38;5;241;43m=\u001b[39;49m\u001b[38;5;28;43;01mFalse\u001b[39;49;00m\u001b[43m,\u001b[49m\n\u001b[1;32m     71\u001b[0m \u001b[43m            \u001b[49m\u001b[43mtime_start\u001b[49m\u001b[38;5;241;43m=\u001b[39;49m\u001b[38;5;28;43;01mNone\u001b[39;49;00m\u001b[43m,\u001b[49m\n\u001b[1;32m     72\u001b[0m \u001b[43m            \u001b[49m\u001b[43mprogress_bar\u001b[49m\u001b[38;5;241;43m=\u001b[39;49m\u001b[43mprogress_bar\u001b[49m\u001b[43m,\u001b[49m\n\u001b[1;32m     73\u001b[0m \u001b[43m        \u001b[49m\u001b[43m)\u001b[49m\n\u001b[1;32m     74\u001b[0m     \u001b[38;5;28;01melse\u001b[39;00m:\n\u001b[1;32m     75\u001b[0m         \u001b[38;5;28;01mif\u001b[39;00m n_jobs \u001b[38;5;241m==\u001b[39m \u001b[38;5;241m-\u001b[39m\u001b[38;5;241m1\u001b[39m:\n",
      "File \u001b[0;32m~/Documents/masters/venv/lib/python3.11/site-packages/optuna/study/_optimize.py:159\u001b[0m, in \u001b[0;36m_optimize_sequential\u001b[0;34m(study, func, n_trials, timeout, catch, callbacks, gc_after_trial, reseed_sampler_rng, time_start, progress_bar)\u001b[0m\n\u001b[1;32m    156\u001b[0m         \u001b[38;5;28;01mbreak\u001b[39;00m\n\u001b[1;32m    158\u001b[0m \u001b[38;5;28;01mtry\u001b[39;00m:\n\u001b[0;32m--> 159\u001b[0m     frozen_trial \u001b[38;5;241m=\u001b[39m \u001b[43m_run_trial\u001b[49m\u001b[43m(\u001b[49m\u001b[43mstudy\u001b[49m\u001b[43m,\u001b[49m\u001b[43m \u001b[49m\u001b[43mfunc\u001b[49m\u001b[43m,\u001b[49m\u001b[43m \u001b[49m\u001b[43mcatch\u001b[49m\u001b[43m)\u001b[49m\n\u001b[1;32m    160\u001b[0m \u001b[38;5;28;01mfinally\u001b[39;00m:\n\u001b[1;32m    161\u001b[0m     \u001b[38;5;66;03m# The following line mitigates memory problems that can be occurred in some\u001b[39;00m\n\u001b[1;32m    162\u001b[0m     \u001b[38;5;66;03m# environments (e.g., services that use computing containers such as GitHub Actions).\u001b[39;00m\n\u001b[1;32m    163\u001b[0m     \u001b[38;5;66;03m# Please refer to the following PR for further details:\u001b[39;00m\n\u001b[1;32m    164\u001b[0m     \u001b[38;5;66;03m# https://github.com/optuna/optuna/pull/325.\u001b[39;00m\n\u001b[1;32m    165\u001b[0m     \u001b[38;5;28;01mif\u001b[39;00m gc_after_trial:\n",
      "File \u001b[0;32m~/Documents/masters/venv/lib/python3.11/site-packages/optuna/study/_optimize.py:247\u001b[0m, in \u001b[0;36m_run_trial\u001b[0;34m(study, func, catch)\u001b[0m\n\u001b[1;32m    240\u001b[0m         \u001b[38;5;28;01massert\u001b[39;00m \u001b[38;5;28;01mFalse\u001b[39;00m, \u001b[38;5;124m\"\u001b[39m\u001b[38;5;124mShould not reach.\u001b[39m\u001b[38;5;124m\"\u001b[39m\n\u001b[1;32m    242\u001b[0m \u001b[38;5;28;01mif\u001b[39;00m (\n\u001b[1;32m    243\u001b[0m     frozen_trial\u001b[38;5;241m.\u001b[39mstate \u001b[38;5;241m==\u001b[39m TrialState\u001b[38;5;241m.\u001b[39mFAIL\n\u001b[1;32m    244\u001b[0m     \u001b[38;5;129;01mand\u001b[39;00m func_err \u001b[38;5;129;01mis\u001b[39;00m \u001b[38;5;129;01mnot\u001b[39;00m \u001b[38;5;28;01mNone\u001b[39;00m\n\u001b[1;32m    245\u001b[0m     \u001b[38;5;129;01mand\u001b[39;00m \u001b[38;5;129;01mnot\u001b[39;00m \u001b[38;5;28misinstance\u001b[39m(func_err, catch)\n\u001b[1;32m    246\u001b[0m ):\n\u001b[0;32m--> 247\u001b[0m     \u001b[38;5;28;01mraise\u001b[39;00m func_err\n\u001b[1;32m    248\u001b[0m \u001b[38;5;28;01mreturn\u001b[39;00m frozen_trial\n",
      "File \u001b[0;32m~/Documents/masters/venv/lib/python3.11/site-packages/optuna/study/_optimize.py:196\u001b[0m, in \u001b[0;36m_run_trial\u001b[0;34m(study, func, catch)\u001b[0m\n\u001b[1;32m    194\u001b[0m \u001b[38;5;28;01mwith\u001b[39;00m get_heartbeat_thread(trial\u001b[38;5;241m.\u001b[39m_trial_id, study\u001b[38;5;241m.\u001b[39m_storage):\n\u001b[1;32m    195\u001b[0m     \u001b[38;5;28;01mtry\u001b[39;00m:\n\u001b[0;32m--> 196\u001b[0m         value_or_values \u001b[38;5;241m=\u001b[39m \u001b[43mfunc\u001b[49m\u001b[43m(\u001b[49m\u001b[43mtrial\u001b[49m\u001b[43m)\u001b[49m\n\u001b[1;32m    197\u001b[0m     \u001b[38;5;28;01mexcept\u001b[39;00m exceptions\u001b[38;5;241m.\u001b[39mTrialPruned \u001b[38;5;28;01mas\u001b[39;00m e:\n\u001b[1;32m    198\u001b[0m         \u001b[38;5;66;03m# TODO(mamu): Handle multi-objective cases.\u001b[39;00m\n\u001b[1;32m    199\u001b[0m         state \u001b[38;5;241m=\u001b[39m TrialState\u001b[38;5;241m.\u001b[39mPRUNED\n",
      "Cell \u001b[0;32mIn[231], line 19\u001b[0m, in \u001b[0;36mobjective_lgbm\u001b[0;34m(trial)\u001b[0m\n\u001b[1;32m      1\u001b[0m \u001b[38;5;28;01mdef\u001b[39;00m \u001b[38;5;21mobjective_lgbm\u001b[39m(trial):\n\u001b[1;32m      2\u001b[0m     param \u001b[38;5;241m=\u001b[39m { \n\u001b[1;32m      3\u001b[0m         \u001b[38;5;124m'\u001b[39m\u001b[38;5;124mverbose\u001b[39m\u001b[38;5;124m'\u001b[39m: \u001b[38;5;241m-\u001b[39m\u001b[38;5;241m1\u001b[39m,\n\u001b[1;32m      4\u001b[0m         \u001b[38;5;124m'\u001b[39m\u001b[38;5;124mmetric\u001b[39m\u001b[38;5;124m'\u001b[39m: \u001b[38;5;124m'\u001b[39m\u001b[38;5;124mmae\u001b[39m\u001b[38;5;124m'\u001b[39m,\n\u001b[0;32m   (...)\u001b[0m\n\u001b[1;32m     14\u001b[0m         \u001b[38;5;124m'\u001b[39m\u001b[38;5;124mcat_smooth\u001b[39m\u001b[38;5;124m'\u001b[39m : trial\u001b[38;5;241m.\u001b[39msuggest_int(\u001b[38;5;124m'\u001b[39m\u001b[38;5;124mmin_data_per_groups\u001b[39m\u001b[38;5;124m'\u001b[39m, \u001b[38;5;241m1\u001b[39m, \u001b[38;5;241m100\u001b[39m)\n\u001b[1;32m     15\u001b[0m     }\n\u001b[0;32m---> 19\u001b[0m     gbm \u001b[38;5;241m=\u001b[39m \u001b[43mlgb\u001b[49m\u001b[38;5;241;43m.\u001b[39;49m\u001b[43mtrain\u001b[49m\u001b[43m(\u001b[49m\u001b[43mparam\u001b[49m\u001b[43m,\u001b[49m\u001b[43m \u001b[49m\u001b[43mtrain_data\u001b[49m\u001b[43m,\u001b[49m\u001b[43m \u001b[49m\u001b[43mvalid_sets\u001b[49m\u001b[38;5;241;43m=\u001b[39;49m\u001b[43m[\u001b[49m\u001b[43mvalid_data\u001b[49m\u001b[43m]\u001b[49m\u001b[43m)\u001b[49m\n\u001b[1;32m     20\u001b[0m     \u001b[38;5;28mprint\u001b[39m(gbm\u001b[38;5;241m.\u001b[39mbest_score\u001b[38;5;241m.\u001b[39mkeys())\n\u001b[1;32m     21\u001b[0m     \u001b[38;5;28;01mreturn\u001b[39;00m gbm\u001b[38;5;241m.\u001b[39mbest_score[\u001b[38;5;124m'\u001b[39m\u001b[38;5;124mvalid_0\u001b[39m\u001b[38;5;124m'\u001b[39m][\u001b[38;5;124m'\u001b[39m\u001b[38;5;124ml1\u001b[39m\u001b[38;5;124m'\u001b[39m]\n",
      "File \u001b[0;32m~/Documents/masters/venv/lib/python3.11/site-packages/lightgbm/engine.py:276\u001b[0m, in \u001b[0;36mtrain\u001b[0;34m(params, train_set, num_boost_round, valid_sets, valid_names, feval, init_model, feature_name, categorical_feature, keep_training_booster, callbacks)\u001b[0m\n\u001b[1;32m    268\u001b[0m \u001b[38;5;28;01mfor\u001b[39;00m cb \u001b[38;5;129;01min\u001b[39;00m callbacks_before_iter:\n\u001b[1;32m    269\u001b[0m     cb(callback\u001b[38;5;241m.\u001b[39mCallbackEnv(model\u001b[38;5;241m=\u001b[39mbooster,\n\u001b[1;32m    270\u001b[0m                             params\u001b[38;5;241m=\u001b[39mparams,\n\u001b[1;32m    271\u001b[0m                             iteration\u001b[38;5;241m=\u001b[39mi,\n\u001b[1;32m    272\u001b[0m                             begin_iteration\u001b[38;5;241m=\u001b[39minit_iteration,\n\u001b[1;32m    273\u001b[0m                             end_iteration\u001b[38;5;241m=\u001b[39minit_iteration \u001b[38;5;241m+\u001b[39m num_boost_round,\n\u001b[1;32m    274\u001b[0m                             evaluation_result_list\u001b[38;5;241m=\u001b[39m\u001b[38;5;28;01mNone\u001b[39;00m))\n\u001b[0;32m--> 276\u001b[0m \u001b[43mbooster\u001b[49m\u001b[38;5;241;43m.\u001b[39;49m\u001b[43mupdate\u001b[49m\u001b[43m(\u001b[49m\u001b[43mfobj\u001b[49m\u001b[38;5;241;43m=\u001b[39;49m\u001b[43mfobj\u001b[49m\u001b[43m)\u001b[49m\n\u001b[1;32m    278\u001b[0m evaluation_result_list: List[_LGBM_BoosterEvalMethodResultType] \u001b[38;5;241m=\u001b[39m []\n\u001b[1;32m    279\u001b[0m \u001b[38;5;66;03m# check evaluation result.\u001b[39;00m\n",
      "File \u001b[0;32m~/Documents/masters/venv/lib/python3.11/site-packages/lightgbm/basic.py:3891\u001b[0m, in \u001b[0;36mBooster.update\u001b[0;34m(self, train_set, fobj)\u001b[0m\n\u001b[1;32m   3889\u001b[0m \u001b[38;5;28;01mif\u001b[39;00m \u001b[38;5;28mself\u001b[39m\u001b[38;5;241m.\u001b[39m__set_objective_to_none:\n\u001b[1;32m   3890\u001b[0m     \u001b[38;5;28;01mraise\u001b[39;00m LightGBMError(\u001b[38;5;124m'\u001b[39m\u001b[38;5;124mCannot update due to null objective function.\u001b[39m\u001b[38;5;124m'\u001b[39m)\n\u001b[0;32m-> 3891\u001b[0m _safe_call(\u001b[43m_LIB\u001b[49m\u001b[38;5;241;43m.\u001b[39;49m\u001b[43mLGBM_BoosterUpdateOneIter\u001b[49m\u001b[43m(\u001b[49m\n\u001b[1;32m   3892\u001b[0m \u001b[43m    \u001b[49m\u001b[38;5;28;43mself\u001b[39;49m\u001b[38;5;241;43m.\u001b[39;49m\u001b[43m_handle\u001b[49m\u001b[43m,\u001b[49m\n\u001b[1;32m   3893\u001b[0m \u001b[43m    \u001b[49m\u001b[43mctypes\u001b[49m\u001b[38;5;241;43m.\u001b[39;49m\u001b[43mbyref\u001b[49m\u001b[43m(\u001b[49m\u001b[43mis_finished\u001b[49m\u001b[43m)\u001b[49m\u001b[43m)\u001b[49m)\n\u001b[1;32m   3894\u001b[0m \u001b[38;5;28mself\u001b[39m\u001b[38;5;241m.\u001b[39m__is_predicted_cur_iter \u001b[38;5;241m=\u001b[39m [\u001b[38;5;28;01mFalse\u001b[39;00m \u001b[38;5;28;01mfor\u001b[39;00m _ \u001b[38;5;129;01min\u001b[39;00m \u001b[38;5;28mrange\u001b[39m(\u001b[38;5;28mself\u001b[39m\u001b[38;5;241m.\u001b[39m__num_dataset)]\n\u001b[1;32m   3895\u001b[0m \u001b[38;5;28;01mreturn\u001b[39;00m is_finished\u001b[38;5;241m.\u001b[39mvalue \u001b[38;5;241m==\u001b[39m \u001b[38;5;241m1\u001b[39m\n",
      "\u001b[0;31mKeyboardInterrupt\u001b[0m: "
     ]
    }
   ],
   "source": [
    "pruner=optuna.pruners.MedianPruner(n_warmup_steps=10)\n",
    "\n",
    "study_lgbm = optuna.create_study(direction=\"minimize\", \n",
    "                                 pruner=pruner\n",
    "                                )\n",
    "study_lgbm.optimize(objective_lgbm, n_trials=100, show_progress_bar=True)"
   ]
  },
  {
   "cell_type": "code",
   "execution_count": 233,
   "id": "24f42daa-0382-401f-8b84-ef9e06f52ab2",
   "metadata": {
    "tags": []
   },
   "outputs": [
    {
     "data": {
      "application/vnd.plotly.v1+json": {
       "config": {
        "plotlyServerURL": "https://plot.ly"
       },
       "data": [
        {
         "cliponaxis": false,
         "hovertemplate": [
          "reg_lambda (FloatDistribution): 0.003774360609294636<extra></extra>",
          "reg_alpha (FloatDistribution): 0.011347567178665708<extra></extra>",
          "min_data_per_groups (IntDistribution): 0.01239219166495815<extra></extra>",
          "colsample_bytree (FloatDistribution): 0.03271162082083496<extra></extra>",
          "max_depth (IntDistribution): 0.11265607079602023<extra></extra>",
          "subsample (FloatDistribution): 0.11429484984199188<extra></extra>",
          "n_estimators (IntDistribution): 0.1797744649797875<extra></extra>",
          "learning_rate (FloatDistribution): 0.21874395356393556<extra></extra>",
          "num_leaves (IntDistribution): 0.3143049205445114<extra></extra>"
         ],
         "name": "Objective Value",
         "orientation": "h",
         "text": [
          "<0.01",
          "0.01",
          "0.01",
          "0.03",
          "0.11",
          "0.11",
          "0.18",
          "0.22",
          "0.31"
         ],
         "textposition": "outside",
         "type": "bar",
         "x": [
          0.003774360609294636,
          0.011347567178665708,
          0.01239219166495815,
          0.03271162082083496,
          0.11265607079602023,
          0.11429484984199188,
          0.1797744649797875,
          0.21874395356393556,
          0.3143049205445114
         ],
         "y": [
          "reg_lambda",
          "reg_alpha",
          "min_data_per_groups",
          "colsample_bytree",
          "max_depth",
          "subsample",
          "n_estimators",
          "learning_rate",
          "num_leaves"
         ]
        }
       ],
       "layout": {
        "autosize": true,
        "template": {
         "data": {
          "bar": [
           {
            "error_x": {
             "color": "#2a3f5f"
            },
            "error_y": {
             "color": "#2a3f5f"
            },
            "marker": {
             "line": {
              "color": "#E5ECF6",
              "width": 0.5
             },
             "pattern": {
              "fillmode": "overlay",
              "size": 10,
              "solidity": 0.2
             }
            },
            "type": "bar"
           }
          ],
          "barpolar": [
           {
            "marker": {
             "line": {
              "color": "#E5ECF6",
              "width": 0.5
             },
             "pattern": {
              "fillmode": "overlay",
              "size": 10,
              "solidity": 0.2
             }
            },
            "type": "barpolar"
           }
          ],
          "carpet": [
           {
            "aaxis": {
             "endlinecolor": "#2a3f5f",
             "gridcolor": "white",
             "linecolor": "white",
             "minorgridcolor": "white",
             "startlinecolor": "#2a3f5f"
            },
            "baxis": {
             "endlinecolor": "#2a3f5f",
             "gridcolor": "white",
             "linecolor": "white",
             "minorgridcolor": "white",
             "startlinecolor": "#2a3f5f"
            },
            "type": "carpet"
           }
          ],
          "choropleth": [
           {
            "colorbar": {
             "outlinewidth": 0,
             "ticks": ""
            },
            "type": "choropleth"
           }
          ],
          "contour": [
           {
            "colorbar": {
             "outlinewidth": 0,
             "ticks": ""
            },
            "colorscale": [
             [
              0,
              "#0d0887"
             ],
             [
              0.1111111111111111,
              "#46039f"
             ],
             [
              0.2222222222222222,
              "#7201a8"
             ],
             [
              0.3333333333333333,
              "#9c179e"
             ],
             [
              0.4444444444444444,
              "#bd3786"
             ],
             [
              0.5555555555555556,
              "#d8576b"
             ],
             [
              0.6666666666666666,
              "#ed7953"
             ],
             [
              0.7777777777777778,
              "#fb9f3a"
             ],
             [
              0.8888888888888888,
              "#fdca26"
             ],
             [
              1,
              "#f0f921"
             ]
            ],
            "type": "contour"
           }
          ],
          "contourcarpet": [
           {
            "colorbar": {
             "outlinewidth": 0,
             "ticks": ""
            },
            "type": "contourcarpet"
           }
          ],
          "heatmap": [
           {
            "colorbar": {
             "outlinewidth": 0,
             "ticks": ""
            },
            "colorscale": [
             [
              0,
              "#0d0887"
             ],
             [
              0.1111111111111111,
              "#46039f"
             ],
             [
              0.2222222222222222,
              "#7201a8"
             ],
             [
              0.3333333333333333,
              "#9c179e"
             ],
             [
              0.4444444444444444,
              "#bd3786"
             ],
             [
              0.5555555555555556,
              "#d8576b"
             ],
             [
              0.6666666666666666,
              "#ed7953"
             ],
             [
              0.7777777777777778,
              "#fb9f3a"
             ],
             [
              0.8888888888888888,
              "#fdca26"
             ],
             [
              1,
              "#f0f921"
             ]
            ],
            "type": "heatmap"
           }
          ],
          "heatmapgl": [
           {
            "colorbar": {
             "outlinewidth": 0,
             "ticks": ""
            },
            "colorscale": [
             [
              0,
              "#0d0887"
             ],
             [
              0.1111111111111111,
              "#46039f"
             ],
             [
              0.2222222222222222,
              "#7201a8"
             ],
             [
              0.3333333333333333,
              "#9c179e"
             ],
             [
              0.4444444444444444,
              "#bd3786"
             ],
             [
              0.5555555555555556,
              "#d8576b"
             ],
             [
              0.6666666666666666,
              "#ed7953"
             ],
             [
              0.7777777777777778,
              "#fb9f3a"
             ],
             [
              0.8888888888888888,
              "#fdca26"
             ],
             [
              1,
              "#f0f921"
             ]
            ],
            "type": "heatmapgl"
           }
          ],
          "histogram": [
           {
            "marker": {
             "pattern": {
              "fillmode": "overlay",
              "size": 10,
              "solidity": 0.2
             }
            },
            "type": "histogram"
           }
          ],
          "histogram2d": [
           {
            "colorbar": {
             "outlinewidth": 0,
             "ticks": ""
            },
            "colorscale": [
             [
              0,
              "#0d0887"
             ],
             [
              0.1111111111111111,
              "#46039f"
             ],
             [
              0.2222222222222222,
              "#7201a8"
             ],
             [
              0.3333333333333333,
              "#9c179e"
             ],
             [
              0.4444444444444444,
              "#bd3786"
             ],
             [
              0.5555555555555556,
              "#d8576b"
             ],
             [
              0.6666666666666666,
              "#ed7953"
             ],
             [
              0.7777777777777778,
              "#fb9f3a"
             ],
             [
              0.8888888888888888,
              "#fdca26"
             ],
             [
              1,
              "#f0f921"
             ]
            ],
            "type": "histogram2d"
           }
          ],
          "histogram2dcontour": [
           {
            "colorbar": {
             "outlinewidth": 0,
             "ticks": ""
            },
            "colorscale": [
             [
              0,
              "#0d0887"
             ],
             [
              0.1111111111111111,
              "#46039f"
             ],
             [
              0.2222222222222222,
              "#7201a8"
             ],
             [
              0.3333333333333333,
              "#9c179e"
             ],
             [
              0.4444444444444444,
              "#bd3786"
             ],
             [
              0.5555555555555556,
              "#d8576b"
             ],
             [
              0.6666666666666666,
              "#ed7953"
             ],
             [
              0.7777777777777778,
              "#fb9f3a"
             ],
             [
              0.8888888888888888,
              "#fdca26"
             ],
             [
              1,
              "#f0f921"
             ]
            ],
            "type": "histogram2dcontour"
           }
          ],
          "mesh3d": [
           {
            "colorbar": {
             "outlinewidth": 0,
             "ticks": ""
            },
            "type": "mesh3d"
           }
          ],
          "parcoords": [
           {
            "line": {
             "colorbar": {
              "outlinewidth": 0,
              "ticks": ""
             }
            },
            "type": "parcoords"
           }
          ],
          "pie": [
           {
            "automargin": true,
            "type": "pie"
           }
          ],
          "scatter": [
           {
            "fillpattern": {
             "fillmode": "overlay",
             "size": 10,
             "solidity": 0.2
            },
            "type": "scatter"
           }
          ],
          "scatter3d": [
           {
            "line": {
             "colorbar": {
              "outlinewidth": 0,
              "ticks": ""
             }
            },
            "marker": {
             "colorbar": {
              "outlinewidth": 0,
              "ticks": ""
             }
            },
            "type": "scatter3d"
           }
          ],
          "scattercarpet": [
           {
            "marker": {
             "colorbar": {
              "outlinewidth": 0,
              "ticks": ""
             }
            },
            "type": "scattercarpet"
           }
          ],
          "scattergeo": [
           {
            "marker": {
             "colorbar": {
              "outlinewidth": 0,
              "ticks": ""
             }
            },
            "type": "scattergeo"
           }
          ],
          "scattergl": [
           {
            "marker": {
             "colorbar": {
              "outlinewidth": 0,
              "ticks": ""
             }
            },
            "type": "scattergl"
           }
          ],
          "scattermapbox": [
           {
            "marker": {
             "colorbar": {
              "outlinewidth": 0,
              "ticks": ""
             }
            },
            "type": "scattermapbox"
           }
          ],
          "scatterpolar": [
           {
            "marker": {
             "colorbar": {
              "outlinewidth": 0,
              "ticks": ""
             }
            },
            "type": "scatterpolar"
           }
          ],
          "scatterpolargl": [
           {
            "marker": {
             "colorbar": {
              "outlinewidth": 0,
              "ticks": ""
             }
            },
            "type": "scatterpolargl"
           }
          ],
          "scatterternary": [
           {
            "marker": {
             "colorbar": {
              "outlinewidth": 0,
              "ticks": ""
             }
            },
            "type": "scatterternary"
           }
          ],
          "surface": [
           {
            "colorbar": {
             "outlinewidth": 0,
             "ticks": ""
            },
            "colorscale": [
             [
              0,
              "#0d0887"
             ],
             [
              0.1111111111111111,
              "#46039f"
             ],
             [
              0.2222222222222222,
              "#7201a8"
             ],
             [
              0.3333333333333333,
              "#9c179e"
             ],
             [
              0.4444444444444444,
              "#bd3786"
             ],
             [
              0.5555555555555556,
              "#d8576b"
             ],
             [
              0.6666666666666666,
              "#ed7953"
             ],
             [
              0.7777777777777778,
              "#fb9f3a"
             ],
             [
              0.8888888888888888,
              "#fdca26"
             ],
             [
              1,
              "#f0f921"
             ]
            ],
            "type": "surface"
           }
          ],
          "table": [
           {
            "cells": {
             "fill": {
              "color": "#EBF0F8"
             },
             "line": {
              "color": "white"
             }
            },
            "header": {
             "fill": {
              "color": "#C8D4E3"
             },
             "line": {
              "color": "white"
             }
            },
            "type": "table"
           }
          ]
         },
         "layout": {
          "annotationdefaults": {
           "arrowcolor": "#2a3f5f",
           "arrowhead": 0,
           "arrowwidth": 1
          },
          "autotypenumbers": "strict",
          "coloraxis": {
           "colorbar": {
            "outlinewidth": 0,
            "ticks": ""
           }
          },
          "colorscale": {
           "diverging": [
            [
             0,
             "#8e0152"
            ],
            [
             0.1,
             "#c51b7d"
            ],
            [
             0.2,
             "#de77ae"
            ],
            [
             0.3,
             "#f1b6da"
            ],
            [
             0.4,
             "#fde0ef"
            ],
            [
             0.5,
             "#f7f7f7"
            ],
            [
             0.6,
             "#e6f5d0"
            ],
            [
             0.7,
             "#b8e186"
            ],
            [
             0.8,
             "#7fbc41"
            ],
            [
             0.9,
             "#4d9221"
            ],
            [
             1,
             "#276419"
            ]
           ],
           "sequential": [
            [
             0,
             "#0d0887"
            ],
            [
             0.1111111111111111,
             "#46039f"
            ],
            [
             0.2222222222222222,
             "#7201a8"
            ],
            [
             0.3333333333333333,
             "#9c179e"
            ],
            [
             0.4444444444444444,
             "#bd3786"
            ],
            [
             0.5555555555555556,
             "#d8576b"
            ],
            [
             0.6666666666666666,
             "#ed7953"
            ],
            [
             0.7777777777777778,
             "#fb9f3a"
            ],
            [
             0.8888888888888888,
             "#fdca26"
            ],
            [
             1,
             "#f0f921"
            ]
           ],
           "sequentialminus": [
            [
             0,
             "#0d0887"
            ],
            [
             0.1111111111111111,
             "#46039f"
            ],
            [
             0.2222222222222222,
             "#7201a8"
            ],
            [
             0.3333333333333333,
             "#9c179e"
            ],
            [
             0.4444444444444444,
             "#bd3786"
            ],
            [
             0.5555555555555556,
             "#d8576b"
            ],
            [
             0.6666666666666666,
             "#ed7953"
            ],
            [
             0.7777777777777778,
             "#fb9f3a"
            ],
            [
             0.8888888888888888,
             "#fdca26"
            ],
            [
             1,
             "#f0f921"
            ]
           ]
          },
          "colorway": [
           "#636efa",
           "#EF553B",
           "#00cc96",
           "#ab63fa",
           "#FFA15A",
           "#19d3f3",
           "#FF6692",
           "#B6E880",
           "#FF97FF",
           "#FECB52"
          ],
          "font": {
           "color": "#2a3f5f"
          },
          "geo": {
           "bgcolor": "white",
           "lakecolor": "white",
           "landcolor": "#E5ECF6",
           "showlakes": true,
           "showland": true,
           "subunitcolor": "white"
          },
          "hoverlabel": {
           "align": "left"
          },
          "hovermode": "closest",
          "mapbox": {
           "style": "light"
          },
          "paper_bgcolor": "white",
          "plot_bgcolor": "#E5ECF6",
          "polar": {
           "angularaxis": {
            "gridcolor": "white",
            "linecolor": "white",
            "ticks": ""
           },
           "bgcolor": "#E5ECF6",
           "radialaxis": {
            "gridcolor": "white",
            "linecolor": "white",
            "ticks": ""
           }
          },
          "scene": {
           "xaxis": {
            "backgroundcolor": "#E5ECF6",
            "gridcolor": "white",
            "gridwidth": 2,
            "linecolor": "white",
            "showbackground": true,
            "ticks": "",
            "zerolinecolor": "white"
           },
           "yaxis": {
            "backgroundcolor": "#E5ECF6",
            "gridcolor": "white",
            "gridwidth": 2,
            "linecolor": "white",
            "showbackground": true,
            "ticks": "",
            "zerolinecolor": "white"
           },
           "zaxis": {
            "backgroundcolor": "#E5ECF6",
            "gridcolor": "white",
            "gridwidth": 2,
            "linecolor": "white",
            "showbackground": true,
            "ticks": "",
            "zerolinecolor": "white"
           }
          },
          "shapedefaults": {
           "line": {
            "color": "#2a3f5f"
           }
          },
          "ternary": {
           "aaxis": {
            "gridcolor": "white",
            "linecolor": "white",
            "ticks": ""
           },
           "baxis": {
            "gridcolor": "white",
            "linecolor": "white",
            "ticks": ""
           },
           "bgcolor": "#E5ECF6",
           "caxis": {
            "gridcolor": "white",
            "linecolor": "white",
            "ticks": ""
           }
          },
          "title": {
           "x": 0.05
          },
          "xaxis": {
           "automargin": true,
           "gridcolor": "white",
           "linecolor": "white",
           "ticks": "",
           "title": {
            "standoff": 15
           },
           "zerolinecolor": "white",
           "zerolinewidth": 2
          },
          "yaxis": {
           "automargin": true,
           "gridcolor": "white",
           "linecolor": "white",
           "ticks": "",
           "title": {
            "standoff": 15
           },
           "zerolinecolor": "white",
           "zerolinewidth": 2
          }
         }
        },
        "title": {
         "text": "Hyperparameter Importances"
        },
        "xaxis": {
         "autorange": true,
         "range": [
          0,
          0.33084728478369624
         ],
         "title": {
          "text": "Hyperparameter Importance"
         },
         "type": "linear"
        },
        "yaxis": {
         "autorange": true,
         "range": [
          -0.5,
          8.5
         ],
         "title": {
          "text": "Hyperparameter"
         },
         "type": "category"
        }
       }
      },
      "image/png": "[encoded data removed]",
      "text/html": [
       "<div>                            <div id=\"50eef2b7-ca75-44cc-888f-47a137a9be89\" class=\"plotly-graph-div\" style=\"height:525px; width:100%;\"></div>            <script type=\"text/javascript\">                require([\"plotly\"], function(Plotly) {                    window.PLOTLYENV=window.PLOTLYENV || {};                                    if (document.getElementById(\"50eef2b7-ca75-44cc-888f-47a137a9be89\")) {                    Plotly.newPlot(                        \"50eef2b7-ca75-44cc-888f-47a137a9be89\",                        [{\"cliponaxis\":false,\"hovertemplate\":[\"reg_lambda (FloatDistribution): 0.003774360609294636\\u003cextra\\u003e\\u003c\\u002fextra\\u003e\",\"reg_alpha (FloatDistribution): 0.011347567178665708\\u003cextra\\u003e\\u003c\\u002fextra\\u003e\",\"min_data_per_groups (IntDistribution): 0.01239219166495815\\u003cextra\\u003e\\u003c\\u002fextra\\u003e\",\"colsample_bytree (FloatDistribution): 0.03271162082083496\\u003cextra\\u003e\\u003c\\u002fextra\\u003e\",\"max_depth (IntDistribution): 0.11265607079602023\\u003cextra\\u003e\\u003c\\u002fextra\\u003e\",\"subsample (FloatDistribution): 0.11429484984199188\\u003cextra\\u003e\\u003c\\u002fextra\\u003e\",\"n_estimators (IntDistribution): 0.1797744649797875\\u003cextra\\u003e\\u003c\\u002fextra\\u003e\",\"learning_rate (FloatDistribution): 0.21874395356393556\\u003cextra\\u003e\\u003c\\u002fextra\\u003e\",\"num_leaves (IntDistribution): 0.3143049205445114\\u003cextra\\u003e\\u003c\\u002fextra\\u003e\"],\"name\":\"Objective Value\",\"orientation\":\"h\",\"text\":[\"\\u003c0.01\",\"0.01\",\"0.01\",\"0.03\",\"0.11\",\"0.11\",\"0.18\",\"0.22\",\"0.31\"],\"textposition\":\"outside\",\"x\":[0.003774360609294636,0.011347567178665708,0.01239219166495815,0.03271162082083496,0.11265607079602023,0.11429484984199188,0.1797744649797875,0.21874395356393556,0.3143049205445114],\"y\":[\"reg_lambda\",\"reg_alpha\",\"min_data_per_groups\",\"colsample_bytree\",\"max_depth\",\"subsample\",\"n_estimators\",\"learning_rate\",\"num_leaves\"],\"type\":\"bar\"}],                        {\"title\":{\"text\":\"Hyperparameter Importances\"},\"xaxis\":{\"title\":{\"text\":\"Hyperparameter Importance\"}},\"yaxis\":{\"title\":{\"text\":\"Hyperparameter\"}},\"template\":{\"data\":{\"histogram2dcontour\":[{\"type\":\"histogram2dcontour\",\"colorbar\":{\"outlinewidth\":0,\"ticks\":\"\"},\"colorscale\":[[0.0,\"#0d0887\"],[0.1111111111111111,\"#46039f\"],[0.2222222222222222,\"#7201a8\"],[0.3333333333333333,\"#9c179e\"],[0.4444444444444444,\"#bd3786\"],[0.5555555555555556,\"#d8576b\"],[0.6666666666666666,\"#ed7953\"],[0.7777777777777778,\"#fb9f3a\"],[0.8888888888888888,\"#fdca26\"],[1.0,\"#f0f921\"]]}],\"choropleth\":[{\"type\":\"choropleth\",\"colorbar\":{\"outlinewidth\":0,\"ticks\":\"\"}}],\"histogram2d\":[{\"type\":\"histogram2d\",\"colorbar\":{\"outlinewidth\":0,\"ticks\":\"\"},\"colorscale\":[[0.0,\"#0d0887\"],[0.1111111111111111,\"#46039f\"],[0.2222222222222222,\"#7201a8\"],[0.3333333333333333,\"#9c179e\"],[0.4444444444444444,\"#bd3786\"],[0.5555555555555556,\"#d8576b\"],[0.6666666666666666,\"#ed7953\"],[0.7777777777777778,\"#fb9f3a\"],[0.8888888888888888,\"#fdca26\"],[1.0,\"#f0f921\"]]}],\"heatmap\":[{\"type\":\"heatmap\",\"colorbar\":{\"outlinewidth\":0,\"ticks\":\"\"},\"colorscale\":[[0.0,\"#0d0887\"],[0.1111111111111111,\"#46039f\"],[0.2222222222222222,\"#7201a8\"],[0.3333333333333333,\"#9c179e\"],[0.4444444444444444,\"#bd3786\"],[0.5555555555555556,\"#d8576b\"],[0.6666666666666666,\"#ed7953\"],[0.7777777777777778,\"#fb9f3a\"],[0.8888888888888888,\"#fdca26\"],[1.0,\"#f0f921\"]]}],\"heatmapgl\":[{\"type\":\"heatmapgl\",\"colorbar\":{\"outlinewidth\":0,\"ticks\":\"\"},\"colorscale\":[[0.0,\"#0d0887\"],[0.1111111111111111,\"#46039f\"],[0.2222222222222222,\"#7201a8\"],[0.3333333333333333,\"#9c179e\"],[0.4444444444444444,\"#bd3786\"],[0.5555555555555556,\"#d8576b\"],[0.6666666666666666,\"#ed7953\"],[0.7777777777777778,\"#fb9f3a\"],[0.8888888888888888,\"#fdca26\"],[1.0,\"#f0f921\"]]}],\"contourcarpet\":[{\"type\":\"contourcarpet\",\"colorbar\":{\"outlinewidth\":0,\"ticks\":\"\"}}],\"contour\":[{\"type\":\"contour\",\"colorbar\":{\"outlinewidth\":0,\"ticks\":\"\"},\"colorscale\":[[0.0,\"#0d0887\"],[0.1111111111111111,\"#46039f\"],[0.2222222222222222,\"#7201a8\"],[0.3333333333333333,\"#9c179e\"],[0.4444444444444444,\"#bd3786\"],[0.5555555555555556,\"#d8576b\"],[0.6666666666666666,\"#ed7953\"],[0.7777777777777778,\"#fb9f3a\"],[0.8888888888888888,\"#fdca26\"],[1.0,\"#f0f921\"]]}],\"surface\":[{\"type\":\"surface\",\"colorbar\":{\"outlinewidth\":0,\"ticks\":\"\"},\"colorscale\":[[0.0,\"#0d0887\"],[0.1111111111111111,\"#46039f\"],[0.2222222222222222,\"#7201a8\"],[0.3333333333333333,\"#9c179e\"],[0.4444444444444444,\"#bd3786\"],[0.5555555555555556,\"#d8576b\"],[0.6666666666666666,\"#ed7953\"],[0.7777777777777778,\"#fb9f3a\"],[0.8888888888888888,\"#fdca26\"],[1.0,\"#f0f921\"]]}],\"mesh3d\":[{\"type\":\"mesh3d\",\"colorbar\":{\"outlinewidth\":0,\"ticks\":\"\"}}],\"scatter\":[{\"fillpattern\":{\"fillmode\":\"overlay\",\"size\":10,\"solidity\":0.2},\"type\":\"scatter\"}],\"parcoords\":[{\"type\":\"parcoords\",\"line\":{\"colorbar\":{\"outlinewidth\":0,\"ticks\":\"\"}}}],\"scatterpolargl\":[{\"type\":\"scatterpolargl\",\"marker\":{\"colorbar\":{\"outlinewidth\":0,\"ticks\":\"\"}}}],\"bar\":[{\"error_x\":{\"color\":\"#2a3f5f\"},\"error_y\":{\"color\":\"#2a3f5f\"},\"marker\":{\"line\":{\"color\":\"#E5ECF6\",\"width\":0.5},\"pattern\":{\"fillmode\":\"overlay\",\"size\":10,\"solidity\":0.2}},\"type\":\"bar\"}],\"scattergeo\":[{\"type\":\"scattergeo\",\"marker\":{\"colorbar\":{\"outlinewidth\":0,\"ticks\":\"\"}}}],\"scatterpolar\":[{\"type\":\"scatterpolar\",\"marker\":{\"colorbar\":{\"outlinewidth\":0,\"ticks\":\"\"}}}],\"histogram\":[{\"marker\":{\"pattern\":{\"fillmode\":\"overlay\",\"size\":10,\"solidity\":0.2}},\"type\":\"histogram\"}],\"scattergl\":[{\"type\":\"scattergl\",\"marker\":{\"colorbar\":{\"outlinewidth\":0,\"ticks\":\"\"}}}],\"scatter3d\":[{\"type\":\"scatter3d\",\"line\":{\"colorbar\":{\"outlinewidth\":0,\"ticks\":\"\"}},\"marker\":{\"colorbar\":{\"outlinewidth\":0,\"ticks\":\"\"}}}],\"scattermapbox\":[{\"type\":\"scattermapbox\",\"marker\":{\"colorbar\":{\"outlinewidth\":0,\"ticks\":\"\"}}}],\"scatterternary\":[{\"type\":\"scatterternary\",\"marker\":{\"colorbar\":{\"outlinewidth\":0,\"ticks\":\"\"}}}],\"scattercarpet\":[{\"type\":\"scattercarpet\",\"marker\":{\"colorbar\":{\"outlinewidth\":0,\"ticks\":\"\"}}}],\"carpet\":[{\"aaxis\":{\"endlinecolor\":\"#2a3f5f\",\"gridcolor\":\"white\",\"linecolor\":\"white\",\"minorgridcolor\":\"white\",\"startlinecolor\":\"#2a3f5f\"},\"baxis\":{\"endlinecolor\":\"#2a3f5f\",\"gridcolor\":\"white\",\"linecolor\":\"white\",\"minorgridcolor\":\"white\",\"startlinecolor\":\"#2a3f5f\"},\"type\":\"carpet\"}],\"table\":[{\"cells\":{\"fill\":{\"color\":\"#EBF0F8\"},\"line\":{\"color\":\"white\"}},\"header\":{\"fill\":{\"color\":\"#C8D4E3\"},\"line\":{\"color\":\"white\"}},\"type\":\"table\"}],\"barpolar\":[{\"marker\":{\"line\":{\"color\":\"#E5ECF6\",\"width\":0.5},\"pattern\":{\"fillmode\":\"overlay\",\"size\":10,\"solidity\":0.2}},\"type\":\"barpolar\"}],\"pie\":[{\"automargin\":true,\"type\":\"pie\"}]},\"layout\":{\"autotypenumbers\":\"strict\",\"colorway\":[\"#636efa\",\"#EF553B\",\"#00cc96\",\"#ab63fa\",\"#FFA15A\",\"#19d3f3\",\"#FF6692\",\"#B6E880\",\"#FF97FF\",\"#FECB52\"],\"font\":{\"color\":\"#2a3f5f\"},\"hovermode\":\"closest\",\"hoverlabel\":{\"align\":\"left\"},\"paper_bgcolor\":\"white\",\"plot_bgcolor\":\"#E5ECF6\",\"polar\":{\"bgcolor\":\"#E5ECF6\",\"angularaxis\":{\"gridcolor\":\"white\",\"linecolor\":\"white\",\"ticks\":\"\"},\"radialaxis\":{\"gridcolor\":\"white\",\"linecolor\":\"white\",\"ticks\":\"\"}},\"ternary\":{\"bgcolor\":\"#E5ECF6\",\"aaxis\":{\"gridcolor\":\"white\",\"linecolor\":\"white\",\"ticks\":\"\"},\"baxis\":{\"gridcolor\":\"white\",\"linecolor\":\"white\",\"ticks\":\"\"},\"caxis\":{\"gridcolor\":\"white\",\"linecolor\":\"white\",\"ticks\":\"\"}},\"coloraxis\":{\"colorbar\":{\"outlinewidth\":0,\"ticks\":\"\"}},\"colorscale\":{\"sequential\":[[0.0,\"#0d0887\"],[0.1111111111111111,\"#46039f\"],[0.2222222222222222,\"#7201a8\"],[0.3333333333333333,\"#9c179e\"],[0.4444444444444444,\"#bd3786\"],[0.5555555555555556,\"#d8576b\"],[0.6666666666666666,\"#ed7953\"],[0.7777777777777778,\"#fb9f3a\"],[0.8888888888888888,\"#fdca26\"],[1.0,\"#f0f921\"]],\"sequentialminus\":[[0.0,\"#0d0887\"],[0.1111111111111111,\"#46039f\"],[0.2222222222222222,\"#7201a8\"],[0.3333333333333333,\"#9c179e\"],[0.4444444444444444,\"#bd3786\"],[0.5555555555555556,\"#d8576b\"],[0.6666666666666666,\"#ed7953\"],[0.7777777777777778,\"#fb9f3a\"],[0.8888888888888888,\"#fdca26\"],[1.0,\"#f0f921\"]],\"diverging\":[[0,\"#8e0152\"],[0.1,\"#c51b7d\"],[0.2,\"#de77ae\"],[0.3,\"#f1b6da\"],[0.4,\"#fde0ef\"],[0.5,\"#f7f7f7\"],[0.6,\"#e6f5d0\"],[0.7,\"#b8e186\"],[0.8,\"#7fbc41\"],[0.9,\"#4d9221\"],[1,\"#276419\"]]},\"xaxis\":{\"gridcolor\":\"white\",\"linecolor\":\"white\",\"ticks\":\"\",\"title\":{\"standoff\":15},\"zerolinecolor\":\"white\",\"automargin\":true,\"zerolinewidth\":2},\"yaxis\":{\"gridcolor\":\"white\",\"linecolor\":\"white\",\"ticks\":\"\",\"title\":{\"standoff\":15},\"zerolinecolor\":\"white\",\"automargin\":true,\"zerolinewidth\":2},\"scene\":{\"xaxis\":{\"backgroundcolor\":\"#E5ECF6\",\"gridcolor\":\"white\",\"linecolor\":\"white\",\"showbackground\":true,\"ticks\":\"\",\"zerolinecolor\":\"white\",\"gridwidth\":2},\"yaxis\":{\"backgroundcolor\":\"#E5ECF6\",\"gridcolor\":\"white\",\"linecolor\":\"white\",\"showbackground\":true,\"ticks\":\"\",\"zerolinecolor\":\"white\",\"gridwidth\":2},\"zaxis\":{\"backgroundcolor\":\"#E5ECF6\",\"gridcolor\":\"white\",\"linecolor\":\"white\",\"showbackground\":true,\"ticks\":\"\",\"zerolinecolor\":\"white\",\"gridwidth\":2}},\"shapedefaults\":{\"line\":{\"color\":\"#2a3f5f\"}},\"annotationdefaults\":{\"arrowcolor\":\"#2a3f5f\",\"arrowhead\":0,\"arrowwidth\":1},\"geo\":{\"bgcolor\":\"white\",\"landcolor\":\"#E5ECF6\",\"subunitcolor\":\"white\",\"showland\":true,\"showlakes\":true,\"lakecolor\":\"white\"},\"title\":{\"x\":0.05},\"mapbox\":{\"style\":\"light\"}}}},                        {\"responsive\": true}                    ).then(function(){\n",
       "                            \n",
       "var gd = document.getElementById('50eef2b7-ca75-44cc-888f-47a137a9be89');\n",
       "var x = new MutationObserver(function (mutations, observer) {{\n",
       "        var display = window.getComputedStyle(gd).display;\n",
       "        if (!display || display === 'none') {{\n",
       "            console.log([gd, 'removed!']);\n",
       "            Plotly.purge(gd);\n",
       "            observer.disconnect();\n",
       "        }}\n",
       "}});\n",
       "\n",
       "// Listen for the removal of the full notebook cells\n",
       "var notebookContainer = gd.closest('#notebook-container');\n",
       "if (notebookContainer) {{\n",
       "    x.observe(notebookContainer, {childList: true});\n",
       "}}\n",
       "\n",
       "// Listen for the clearing of the current output cell\n",
       "var outputEl = gd.closest('.output');\n",
       "if (outputEl) {{\n",
       "    x.observe(outputEl, {childList: true});\n",
       "}}\n",
       "\n",
       "                        })                };                });            </script>        </div>"
      ]
     },
     "metadata": {},
     "output_type": "display_data"
    }
   ],
   "source": [
    "plot_param_importances(study_lgbm)"
   ]
  },
  {
   "cell_type": "code",
   "execution_count": 234,
   "id": "eaaffb5d-977f-4cf2-a27c-6c5b00448de5",
   "metadata": {
    "tags": []
   },
   "outputs": [
    {
     "name": "stdout",
     "output_type": "stream",
     "text": [
      "{'n_estimators': 825, 'reg_alpha': 0.2114618890195174, 'reg_lambda': 0.0010597308489366543, 'colsample_bytree': 0.45774355449887955, 'subsample': 0.405918439488786, 'learning_rate': 0.0013364636388569656, 'max_depth': 100, 'num_leaves': 335, 'min_data_per_groups': 75}\n"
     ]
    }
   ],
   "source": [
    "print(study_lgbm.best_params)"
   ]
  },
  {
   "cell_type": "code",
   "execution_count": 235,
   "id": "0f17ecd4-46ed-4b7e-a449-3dd43c74c9e8",
   "metadata": {
    "scrolled": true,
    "tags": []
   },
   "outputs": [],
   "source": [
    "with open(os.devnull, \"w\") as f, contextlib.redirect_stdout(f):\n",
    "    gbm = lgb.train(study_lgbm.best_params, train_data, valid_sets=[valid_data])"
   ]
  },
  {
   "cell_type": "code",
   "execution_count": 236,
   "id": "7d7ecfb4-ba22-4c5c-b428-9ed4bd02c122",
   "metadata": {
    "tags": []
   },
   "outputs": [
    {
     "data": {
      "text/plain": [
       "0.12035258372826853"
      ]
     },
     "execution_count": 236,
     "metadata": {},
     "output_type": "execute_result"
    }
   ],
   "source": [
    "metrics.mean_absolute_error(gbm.predict(data_xgboost_val), y_val_lgb)"
   ]
  },
  {
   "cell_type": "code",
   "execution_count": 237,
   "id": "d84e26b2-d62c-40cf-8fd1-c23a37834185",
   "metadata": {
    "tags": []
   },
   "outputs": [
    {
     "name": "stdout",
     "output_type": "stream",
     "text": [
      "Estimating SARIMAX\n"
     ]
    }
   ],
   "source": [
    "pred_all, _ = pipe.sarimax_searcher.fit_predict_trainval(pipe.y_trainval, pipe.y_test)"
   ]
  },
  {
   "cell_type": "code",
   "execution_count": 238,
   "id": "88b39537-911b-4700-b698-58b1252fc1a0",
   "metadata": {
    "tags": []
   },
   "outputs": [],
   "source": [
    "all_sarimax_prediction = pd.concat([pred_all, pipe.target], axis=1).dropna()\n",
    "all_sarimax_prediction.columns = [\"Balanced_SARIMAX\", \"Balance\"]"
   ]
  },
  {
   "cell_type": "code",
   "execution_count": 242,
   "id": "13eecfa5-ba7a-4a27-af88-cb530a731b66",
   "metadata": {
    "tags": []
   },
   "outputs": [],
   "source": [
    "X_trainval = ss.fit_transform(pipe.X_trainval)\n",
    "X_test = ss.transform(pipe.X_test)"
   ]
  },
  {
   "cell_type": "code",
   "execution_count": 243,
   "id": "55215c49-1de4-4684-bd9f-e16722f8d108",
   "metadata": {
    "tags": []
   },
   "outputs": [],
   "source": [
    "Xs = pd.concat([pd.DataFrame(X_trainval), pd.DataFrame(X_test)], axis=0)\n",
    "Xs.columns = pipe.X_trainval.columns\n",
    "Xs.index=all_sarimax_prediction.index"
   ]
  },
  {
   "cell_type": "code",
   "execution_count": 244,
   "id": "ebc7ade2-4410-4992-8be7-32d736990fa9",
   "metadata": {
    "tags": []
   },
   "outputs": [],
   "source": [
    "all_resid = pd.concat([all_sarimax_prediction, Xs], axis=1)\n",
    "\n",
    "all_resid[\"Balance_resid\"] = all_resid[\"Balance\"] - all_resid[\"Balanced_SARIMAX\"] "
   ]
  },
  {
   "cell_type": "code",
   "execution_count": 245,
   "id": "654216dd-ea69-4d43-9ee5-5611cbb2ffc3",
   "metadata": {
    "tags": []
   },
   "outputs": [],
   "source": [
    "y, X = all_resid[\"Balance_resid\"], all_resid[xgboost_features]"
   ]
  },
  {
   "cell_type": "code",
   "execution_count": 246,
   "id": "46b6222d-4132-460b-9163-b7a2063789d8",
   "metadata": {
    "tags": []
   },
   "outputs": [],
   "source": [
    "trainval_size = X_trainval.shape[0]"
   ]
  },
  {
   "cell_type": "code",
   "execution_count": 247,
   "id": "da2ecbb9-8d8b-4afb-ab9b-59be15e4723f",
   "metadata": {
    "tags": []
   },
   "outputs": [],
   "source": [
    "del study_lgbm.best_params[\"min_data_per_groups\"]"
   ]
  },
  {
   "cell_type": "code",
   "execution_count": 248,
   "id": "cabaf378-f4b2-49dc-8c2a-6e116d9f7184",
   "metadata": {
    "tags": []
   },
   "outputs": [
    {
     "data": {
      "text/plain": [
       "{'n_estimators': 825,\n",
       " 'reg_alpha': 0.2114618890195174,\n",
       " 'reg_lambda': 0.0010597308489366543,\n",
       " 'colsample_bytree': 0.45774355449887955,\n",
       " 'subsample': 0.405918439488786,\n",
       " 'learning_rate': 0.0013364636388569656,\n",
       " 'max_depth': 100,\n",
       " 'num_leaves': 335,\n",
       " 'min_data_per_groups': 75}"
      ]
     },
     "execution_count": 248,
     "metadata": {},
     "output_type": "execute_result"
    }
   ],
   "source": [
    "study_lgbm.best_params"
   ]
  },
  {
   "cell_type": "markdown",
   "id": "a7f444d3-70bc-4377-8e5d-187cf86ada56",
   "metadata": {},
   "source": [
    "Validate on test"
   ]
  },
  {
   "cell_type": "code",
   "execution_count": null,
   "id": "f31c7a2a-e38d-45c2-9b37-b595c07eb10a",
   "metadata": {
    "scrolled": true,
    "tags": []
   },
   "outputs": [],
   "source": [
    "test_resid = []\n",
    "for i in tqdm(range(X_test.shape[0]+1)):\n",
    "\n",
    "    subtrain_data = X.iloc[:trainval_size+i].values\n",
    "    subtrain_y = y.iloc[:trainval_size+i].values\n",
    "\n",
    "    subval_data = X.iloc[trainval_size+i:trainval_size+i+1].values\n",
    "    subval_y = y.iloc[trainval_size+i:trainval_size+i+1].values\n",
    "\n",
    "    subtrain_data = lgb.Dataset(subtrain_data, label=subtrain_y)\n",
    "    subvalid_data = lgb.Dataset(subval_data, label=subval_y)\n",
    "    with open(os.devnull, \"w\") as f, contextlib.redirect_stdout(f):\n",
    "        gbm = lgb.train(study_lgbm.best_params, subtrain_data)\n",
    "    test_resid.append(gbm.predict(subval_data)[0])"
   ]
  },
  {
   "cell_type": "code",
   "execution_count": 250,
   "id": "c6fb7049-235b-4ec8-9f46-cea3edb3e19d",
   "metadata": {
    "tags": []
   },
   "outputs": [],
   "source": [
    "TOTAL_TEST = pd.concat([all_resid.iloc[-X_test.shape[0]:].loc[:, [\"Balanced_SARIMAX\", \"Balance\", \"Balance_resid\"]], pd.DataFrame({\"y_resid_lgbm_pred\": test_resid}, index=all_resid.iloc[-X_test.shape[0]:].index)], axis=1)"
   ]
  },
  {
   "cell_type": "code",
   "execution_count": 251,
   "id": "d14d7d35-f0a4-49ff-b759-d61f402e2a3b",
   "metadata": {
    "tags": []
   },
   "outputs": [],
   "source": [
    "TOTAL_TEST[\"Balance_pred\"] = TOTAL_TEST[\"Balanced_SARIMAX\"] + TOTAL_TEST[\"y_resid_lgbm_pred\"]"
   ]
  },
  {
   "cell_type": "code",
   "execution_count": 252,
   "id": "8de378a8-bf44-4a33-adaa-a9a2740f0e81",
   "metadata": {
    "tags": []
   },
   "outputs": [
    {
     "data": {
      "text/plain": [
       "0.2346790498466319"
      ]
     },
     "execution_count": 252,
     "metadata": {},
     "output_type": "execute_result"
    }
   ],
   "source": [
    "metrics.mean_absolute_error(TOTAL_TEST[\"Balance\"], TOTAL_TEST[\"Balanced_SARIMAX\"])"
   ]
  },
  {
   "cell_type": "code",
   "execution_count": 253,
   "id": "3aa1c9d2-b58e-484f-b5ce-c0ab4ae7082c",
   "metadata": {
    "tags": []
   },
   "outputs": [
    {
     "data": {
      "text/plain": [
       "0.22568700516064003"
      ]
     },
     "execution_count": 253,
     "metadata": {},
     "output_type": "execute_result"
    }
   ],
   "source": [
    "metrics.mean_absolute_error(TOTAL_TEST[\"Balance\"], TOTAL_TEST[\"Balance_pred\"])"
   ]
  },
  {
   "cell_type": "code",
   "execution_count": null,
   "id": "59d173c6-077c-45b6-a3c1-a67d3ea0f167",
   "metadata": {
    "tags": []
   },
   "outputs": [],
   "source": [
    "pipe.data_preproced.to_excel(\"../data/data_preproced.xlsx\")"
   ]
  },
  {
   "cell_type": "code",
   "execution_count": null,
   "id": "fd429990-c6e6-4bfc-bdf9-2a86a816c659",
   "metadata": {},
   "outputs": [],
   "source": []
  }
 ],
 "metadata": {
  "kernelspec": {
   "display_name": "Python 3 (ipykernel)",
   "language": "python",
   "name": "python3"
  },
  "language_info": {
   "codemirror_mode": {
    "name": "ipython",
    "version": 3
   },
   "file_extension": ".py",
   "mimetype": "text/x-python",
   "name": "python",
   "nbconvert_exporter": "python",
   "pygments_lexer": "ipython3",
   "version": "3.11.8"
  }
 },
 "nbformat": 4,
 "nbformat_minor": 5
}
