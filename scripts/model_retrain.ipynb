{
 "cells": [
  {
   "cell_type": "code",
   "execution_count": null,
   "id": "6d72e61a-3405-4e5b-ab19-ae15e6cb4b2d",
   "metadata": {},
   "outputs": [],
   "source": []
  },
  {
   "cell_type": "code",
   "execution_count": 6,
   "id": "96dbe6a4-99bf-4a03-84d5-bec1eeb1a0e5",
   "metadata": {},
   "outputs": [
    {
     "name": "stdout",
     "output_type": "stream",
     "text": [
      "7\n"
     ]
    }
   ],
   "source": [
    "import pandas as pd\n",
    "import pickle\n",
    "import yaml\n",
    "\n",
    "config_path = 'config/retrain_config.yml'\n",
    "data_path = 'data/featurized_dataset.csv'\n",
    "model_path = 'model/lstm_model.pkl'\n",
    "last_retrained_date_path = 'savedata/last_retrained_date.pkl'\n",
    "\n",
    "\n",
    "# load parameters from config\n",
    "with open(config_path) as config_file:\n",
    "    config_contents = yaml.safe_load(config_file)\n",
    "    # minimal size of new data (in days) sufficient to retrain the model \n",
    "    retraining_window_days = config_contents['retraining_window_days']\n",
    "    # name of the date index column in the featurized dataset\n",
    "    date_index_column_name = config_contents['date_index_column_name']\n",
    "    # name of the target column in the featurized dataset\n",
    "    target_column_name = config_contents['target_column_name']\n",
    "\n",
    "# Load the featurized dataset\n",
    "data = pd.read_csv(data_path, index_col=date_index_column_name)\n",
    "\n",
    "# Load the model\n",
    "with open(model_path, 'rb') as file:\n",
    "    model = pickle.load(file)\n",
    "\n",
    "# assume that data is delivered daily\n",
    "# when the model is retrained it is done up to the last day \n",
    "# therefore all new data will begin after the last retrain date\n",
    "\n",
    "# Load the last retrained date\n",
    "last_retrained_date = None\n",
    "try:\n",
    "    with open(last_retrained_date_path, 'rb') as file:\n",
    "        last_retrained_date = pickle.load(file)\n",
    "except FileNotFoundError:\n",
    "    pass\n",
    "\n",
    "if last_retrained_date is None:\n",
    "    # This is the first time, so start from the first date\n",
    "    analysis_start_date = data.index.min()\n",
    "else:\n",
    "    # Select new data starting from the day after the last retrained date\n",
    "    analysis_start_date = last_retrained_date + pd.DateOffset(days=1)\n",
    "\n",
    "# split data into already trained and new batch\n",
    "new_data = data[data.index >= analysis_start_date]\n",
    "old_data = data[data.index < analysis_start_date]\n",
    "\n",
    "# Check if there is enough new data for retraining\n",
    "if len(new_data.index) >= retraining_window_days:\n",
    "\n",
    "    # Get the latest window of data for retraining\n",
    "    retrain_data = new_data[-retraining_window_days:]\n",
    "\n",
    "    # TODO: add split into train, validation, oot\n",
    "    # TODO: assess old model preformance on new data\n",
    "    \n",
    "    # Retrain the model using .partial_fit on new data\n",
    "    model.partial_fit(X=retrain_data.drop(columns=target_column_name), y=retrain_data[target_column_name])  \n",
    "\n",
    "    # TODO: notify about feature stability, new model performnce on validation/oot\n",
    "    \n",
    "\n",
    "    # Update the trained model pickle file\n",
    "    with open(model_path, 'wb') as file:\n",
    "        pickle.dump(model, file)\n",
    "\n",
    "    new_last_retrained_date = new_data.index.max()\n",
    "    # Update last trained date pickle file\n",
    "    with open(last_retrained_date_path, 'wb') as file:\n",
    "        pickle.dump(new_last_retrained_date, file)\n",
    "else:\n",
    "    print(\"Not enough new data for retraining.\")"
   ]
  }
 ],
 "metadata": {
  "kernelspec": {
   "display_name": "Python 3 (ipykernel)",
   "language": "python",
   "name": "python3"
  },
  "language_info": {
   "codemirror_mode": {
    "name": "ipython",
    "version": 3
   },
   "file_extension": ".py",
   "mimetype": "text/x-python",
   "name": "python",
   "nbconvert_exporter": "python",
   "pygments_lexer": "ipython3",
   "version": "3.11.8"
  }
 },
 "nbformat": 4,
 "nbformat_minor": 5
}
